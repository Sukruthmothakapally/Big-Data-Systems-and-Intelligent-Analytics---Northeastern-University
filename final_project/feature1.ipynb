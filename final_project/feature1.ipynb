{
 "cells": [
  {
   "cell_type": "code",
   "execution_count": null,
   "id": "736098e0-6d27-4ba6-8353-8cd182a22d8b",
   "metadata": {},
   "outputs": [],
   "source": [
    "#pip install pandas"
   ]
  },
  {
   "cell_type": "code",
   "execution_count": 1,
   "id": "7c9fc3c9",
   "metadata": {
    "ExecuteTime": {
     "end_time": "2023-08-02T17:31:21.426186Z",
     "start_time": "2023-08-02T17:29:01.216181Z"
    }
   },
   "outputs": [
    {
     "name": "stdout",
     "output_type": "stream",
     "text": [
      "Collecting sentence-transformers\n",
      "  Using cached sentence_transformers-2.2.2-py3-none-any.whl\n",
      "Collecting huggingface-hub>=0.4.0\n",
      "  Using cached huggingface_hub-0.16.4-py3-none-any.whl (268 kB)\n",
      "Requirement already satisfied: scipy in c:\\users\\dell\\anaconda3\\lib\\site-packages (from sentence-transformers) (1.7.3)\n",
      "Collecting transformers<5.0.0,>=4.6.0\n",
      "  Using cached transformers-4.31.0-py3-none-any.whl (7.4 MB)\n",
      "Requirement already satisfied: scikit-learn in c:\\users\\dell\\anaconda3\\lib\\site-packages (from sentence-transformers) (1.0.2)\n",
      "Collecting torch>=1.6.0\n",
      "  Using cached torch-2.0.1-cp39-cp39-win_amd64.whl (172.4 MB)\n",
      "Requirement already satisfied: sentencepiece in c:\\users\\dell\\anaconda3\\lib\\site-packages (from sentence-transformers) (0.1.99)\n",
      "Requirement already satisfied: numpy in c:\\users\\dell\\appdata\\roaming\\python\\python39\\site-packages (from sentence-transformers) (1.22.4)\n",
      "Collecting nltk\n",
      "  Using cached nltk-3.8.1-py3-none-any.whl (1.5 MB)\n",
      "Collecting torchvision\n",
      "  Using cached torchvision-0.15.2-cp39-cp39-win_amd64.whl (1.2 MB)\n",
      "Requirement already satisfied: tqdm in c:\\users\\dell\\anaconda3\\lib\\site-packages (from sentence-transformers) (4.64.1)\n",
      "Requirement already satisfied: packaging>=20.9 in c:\\users\\dell\\appdata\\roaming\\python\\python39\\site-packages (from huggingface-hub>=0.4.0->sentence-transformers) (21.3)\n",
      "Requirement already satisfied: requests in c:\\users\\dell\\appdata\\roaming\\python\\python39\\site-packages (from huggingface-hub>=0.4.0->sentence-transformers) (2.28.1)\n",
      "Requirement already satisfied: pyyaml>=5.1 in c:\\users\\dell\\anaconda3\\lib\\site-packages (from huggingface-hub>=0.4.0->sentence-transformers) (6.0)\n",
      "Requirement already satisfied: fsspec in c:\\users\\dell\\anaconda3\\lib\\site-packages (from huggingface-hub>=0.4.0->sentence-transformers) (2023.6.0)\n",
      "Requirement already satisfied: filelock in c:\\users\\dell\\anaconda3\\lib\\site-packages (from huggingface-hub>=0.4.0->sentence-transformers) (3.6.0)\n",
      "Requirement already satisfied: typing-extensions>=3.7.4.3 in c:\\users\\dell\\appdata\\roaming\\python\\python39\\site-packages (from huggingface-hub>=0.4.0->sentence-transformers) (4.4.0)\n",
      "Requirement already satisfied: networkx in c:\\users\\dell\\anaconda3\\lib\\site-packages (from torch>=1.6.0->sentence-transformers) (3.1)\n",
      "Requirement already satisfied: sympy in c:\\users\\dell\\anaconda3\\lib\\site-packages (from torch>=1.6.0->sentence-transformers) (1.12)\n",
      "Requirement already satisfied: jinja2 in c:\\users\\dell\\anaconda3\\lib\\site-packages (from torch>=1.6.0->sentence-transformers) (2.11.3)\n",
      "Requirement already satisfied: colorama in c:\\users\\dell\\anaconda3\\lib\\site-packages (from tqdm->sentence-transformers) (0.4.5)\n",
      "Requirement already satisfied: regex!=2019.12.17 in c:\\users\\dell\\anaconda3\\lib\\site-packages (from transformers<5.0.0,>=4.6.0->sentence-transformers) (2023.6.3)\n",
      "Requirement already satisfied: tokenizers!=0.11.3,<0.14,>=0.11.1 in c:\\users\\dell\\anaconda3\\lib\\site-packages (from transformers<5.0.0,>=4.6.0->sentence-transformers) (0.13.3)\n",
      "Requirement already satisfied: safetensors>=0.3.1 in c:\\users\\dell\\anaconda3\\lib\\site-packages (from transformers<5.0.0,>=4.6.0->sentence-transformers) (0.3.1)\n",
      "Requirement already satisfied: click in c:\\users\\dell\\anaconda3\\lib\\site-packages (from nltk->sentence-transformers) (8.0.4)\n",
      "Requirement already satisfied: joblib in c:\\users\\dell\\anaconda3\\lib\\site-packages (from nltk->sentence-transformers) (1.1.1)\n",
      "Requirement already satisfied: threadpoolctl>=2.0.0 in c:\\users\\dell\\anaconda3\\lib\\site-packages (from scikit-learn->sentence-transformers) (2.2.0)\n",
      "Requirement already satisfied: pillow!=8.3.*,>=5.3.0 in c:\\users\\dell\\anaconda3\\lib\\site-packages (from torchvision->sentence-transformers) (9.2.0)\n",
      "Requirement already satisfied: pyparsing!=3.0.5,>=2.0.2 in c:\\users\\dell\\appdata\\roaming\\python\\python39\\site-packages (from packaging>=20.9->huggingface-hub>=0.4.0->sentence-transformers) (3.0.9)\n",
      "Requirement already satisfied: MarkupSafe>=0.23 in c:\\users\\dell\\anaconda3\\lib\\site-packages (from jinja2->torch>=1.6.0->sentence-transformers) (2.0.1)\n",
      "Requirement already satisfied: urllib3<1.27,>=1.21.1 in c:\\users\\dell\\appdata\\roaming\\python\\python39\\site-packages (from requests->huggingface-hub>=0.4.0->sentence-transformers) (1.26.12)\n",
      "Requirement already satisfied: idna<4,>=2.5 in c:\\users\\dell\\appdata\\roaming\\python\\python39\\site-packages (from requests->huggingface-hub>=0.4.0->sentence-transformers) (3.4)\n",
      "Requirement already satisfied: certifi>=2017.4.17 in c:\\users\\dell\\appdata\\roaming\\python\\python39\\site-packages (from requests->huggingface-hub>=0.4.0->sentence-transformers) (2022.9.24)\n",
      "Requirement already satisfied: charset-normalizer<3,>=2 in c:\\users\\dell\\appdata\\roaming\\python\\python39\\site-packages (from requests->huggingface-hub>=0.4.0->sentence-transformers) (2.1.1)\n",
      "Requirement already satisfied: mpmath>=0.19 in c:\\users\\dell\\anaconda3\\lib\\site-packages (from sympy->torch>=1.6.0->sentence-transformers) (1.3.0)\n",
      "Installing collected packages: torch, nltk, huggingface-hub, transformers, torchvision, sentence-transformers\n",
      "Successfully installed huggingface-hub-0.16.4 nltk-3.8.1 sentence-transformers-2.2.2 torch-2.0.1 torchvision-0.15.2 transformers-4.31.0\n"
     ]
    }
   ],
   "source": [
    "# !pip install sentence-transformers"
   ]
  },
  {
   "cell_type": "code",
   "execution_count": 8,
   "id": "8b31e835",
   "metadata": {
    "ExecuteTime": {
     "end_time": "2023-08-02T17:50:38.031365Z",
     "start_time": "2023-08-02T17:49:55.351912Z"
    }
   },
   "outputs": [
    {
     "name": "stdout",
     "output_type": "stream",
     "text": [
      "Collecting scipy\n",
      "  Using cached scipy-1.11.1-cp39-cp39-win_amd64.whl (44.1 MB)\n",
      "Collecting numpy<1.28.0,>=1.21.6\n",
      "  Using cached numpy-1.25.2-cp39-cp39-win_amd64.whl (15.6 MB)\n",
      "Installing collected packages: numpy, scipy\n",
      "Successfully installed numpy-1.25.2 scipy-1.11.1\n",
      "Note: you may need to restart the kernel to use updated packages.\n"
     ]
    },
    {
     "name": "stderr",
     "output_type": "stream",
     "text": [
      "  WARNING: The script f2py.exe is installed in 'C:\\Users\\Dell\\AppData\\Roaming\\Python\\Python39\\Scripts' which is not on PATH.\n",
      "  Consider adding this directory to PATH or, if you prefer to suppress this warning, use --no-warn-script-location.\n"
     ]
    }
   ],
   "source": [
    "# pip install --user --upgrade --force-reinstall scipy"
   ]
  },
  {
   "cell_type": "code",
   "execution_count": 4,
   "id": "cf624b23-6102-41fb-b5aa-e71379e3d7d1",
   "metadata": {
    "ExecuteTime": {
     "end_time": "2023-08-02T17:46:01.920570Z",
     "start_time": "2023-08-02T17:45:55.993380Z"
    }
   },
   "outputs": [
    {
     "name": "stdout",
     "output_type": "stream",
     "text": [
      "Requirement already satisfied: scikit-learn in c:\\users\\dell\\anaconda3\\lib\\site-packages (1.0.2)\n",
      "Requirement already satisfied: numpy>=1.14.6 in c:\\users\\dell\\appdata\\roaming\\python\\python39\\site-packages (from scikit-learn) (1.22.4)\n",
      "Requirement already satisfied: scipy>=1.1.0 in c:\\users\\dell\\anaconda3\\lib\\site-packages (from scikit-learn) (1.7.3)\n",
      "Requirement already satisfied: threadpoolctl>=2.0.0 in c:\\users\\dell\\anaconda3\\lib\\site-packages (from scikit-learn) (2.2.0)\n",
      "Requirement already satisfied: joblib>=0.11 in c:\\users\\dell\\anaconda3\\lib\\site-packages (from scikit-learn) (1.1.1)\n",
      "Note: you may need to restart the kernel to use updated packages.\n"
     ]
    }
   ],
   "source": [
    "# pip install scikit-learn"
   ]
  },
  {
   "cell_type": "code",
   "execution_count": 7,
   "id": "8b1e4113-5ca0-42e7-80be-e0f2e5c4087a",
   "metadata": {
    "ExecuteTime": {
     "end_time": "2023-08-02T17:50:54.101000Z",
     "start_time": "2023-08-02T17:50:52.210001Z"
    }
   },
   "outputs": [
    {
     "name": "stdout",
     "output_type": "stream",
     "text": [
      "1. Generating mold from stl file of the 3D drawing of the object (similarity score: 0.26)\n",
      "No accepted answer\n",
      "Description: <p>I want to know how to make a mold of a 3D design in .stl format.</p>\n",
      "\n",
      "<p>Suppose I have a 3D partin .stl format (for e.g. a cylinder) and I want to make/design a mold for this object (i.e. the structure through which I could make the cylinder). Is there any way to do so? Are there any tools to do so?</p>\n",
      "\n",
      "<p>My requirement is as follows: I have an .stl file of a design and need to develop the CAD files for its mold. I will then need to 3D print these molds. I would require to add a hole to pour in liquid (resin based) raw material which hardens with time. </p>\n",
      "\n",
      "Comments:\n",
      "\t- What kind of mold you are looking for? for plastic extrusion or resine molding?\n",
      "\t- Adding a hole is trivial assuming you own a drill :-)\n",
      "\t- An off-the wall thought: if it were possible to modify a printer to use wax or other low-temperature melting point material,  then print the item, pack in sand, and use lost-wax method of casting.\n",
      "2. How do I decide what size my push-fit feature should be? (similarity score: 0.18)\n",
      "No accepted answer\n",
      "Description: <p>I'm designing a box and lid that will be FDM-printed. The lid push-fits onto the box. <a href=\"https://3dprinting.stackexchange.com/q/6576/13100\">What kinds of gaps/tolerances should I use when designing pieces that fit together?</a> has advice for designing the clearance between the lid and the box. Assume I've already settled that question and I have a good clearance so my lid slides on and off freely.</p>\n",
      "\n",
      "<p>Now I'd like to add a lip-and-groove feature to my design to hold it shut, with a lip on the lid that clips into a groove in the box when the lid is fully closed - like a cantilever fit, but easy to open, and directly on the mating walls.</p>\n",
      "\n",
      "<p>How deep should I make the lip and how tall? Does it depend on what plastic I'm printing in? Does it depend on the wall thickness and the geometric rigidity of the part?</p>\n",
      "\n",
      "Comments:\n",
      "\t- it depends on all that and more. for the non engineer, testing a few variations and refining the prototypes are likely faster to give good results than theoretical plotting that overcomes dozens of unknown variables; temp, rigidity, printing humidity, material blend (eg plasticizers et al), size, tension, required precision, expected service life, sheer force on lip, and on and on and on. In general, you want it fairly difficult to snap, and you want the interface corners to be pre-rounded, so that wearing doesn't affect performance as drastically.\n",
      "\t- besides material, the actual design and print orientation also plays a huge factor.\n",
      "\t- I designed and printer a box with a sliding covered battery area once in Tinkercad and just removed shapes from each other to create the positive and negatice spaces. Therefore there was zero tolerance. Once I printed it I just filed and sanded the edges and they started sliding nicely together.\n",
      "3. How to create tappered thread in OpenSCAD? (similarity score: 0.14)\n",
      "Accepted answer: <p>I have contacted Dan Kirshner (the author of openscad threads library) and he has updated the library. Now it supports tapered threads. Thanks, Dan!</p>\n",
      "\n",
      "<p><a href=\"http://dkprojects.net/openscad-threads/\" rel=\"nofollow\">Thread-drawing modules for OpenSCAD</a></p>\n",
      "\n",
      "Description: <p>Is there any simple way of creating tappered thread in OpenSCAD? I need something like 10 mm in diameter at the end, 9 at the top and the height of 10 mm.</p>\n",
      "\n",
      "Comments:\n",
      "\t- Could you elaborate on what approach you took, what you've already tried and why it failed? That might help possible asnswers to know where to start explaining.\n",
      "\t- There's plenty of libraries for OpenSCAD for creating threads. Just couldn't find any for tapered thread (i.e. pipe thread).\n",
      "4. How would this OLED be mounted if in a commercial device? (similarity score: 0.14)\n",
      "No accepted answer\n",
      "Description: <p>I am making homebrew electronic items and I'm using this OLED, a 0.96&quot; SSD1306 Module; very common in the Arduino world:</p>\n",
      "<p><a href=\"https://i.stack.imgur.com/3pj11.png\" rel=\"nofollow noreferrer\" title=\"Photo of OLED screen\"><img src=\"https://i.stack.imgur.com/3pj11.png\" alt=\"Photo of OLED screen\" title=\"Photo of OLED screen\" /></a></p>\n",
      "<p>If someone were making a commercial device with this and designing a case, how would they mount this? We obviously see the 4 screw holes at the corners, but if you looked at this device from the side, you'll notice the glass is only about 1.2 mm proud of the PCB. In addition, if you solder headers to the 4 terminals, which is the common use, the end of the headers are actually flush with the glass.</p>\n",
      "<p>Should the screws be coming through the case from the outside, through the PCB holes, with a nut on the other side? Would the glass normally be covered with acrylic rather than flush with the outside of the case?</p>\n",
      "<p>So what's typical in this situation? This is a 3D-printed enclosure, so I'm also limited by that aspect of the design.</p>\n",
      "\n",
      "Comments:\n",
      "\t- Are you 3D printing the enclosure? I ask since I don't see the 3D printing aspect in your question and that could cause your question to be closed for not being [on-topic](https://3dprinting.stackexchange.com/help/on-topic).\n",
      "\t- Yes, I'm sorry, this is a 3d printed enclosure.\n",
      "5. 3D Builder is Saying \"One or more objects is invalidly defined\" (similarity score: 0.12)\n",
      "Accepted answer: <p>How thick are those walls? 3D printers cannot print zero-width surfaces (and slicers cannot slice them). 3D Builder has tried to make your model printable, but obviously not in the way that you might have hoped for. You need to go back to Sketchup (or some other CAD package) and give the walls a definite thickness (and one big enough for a 3D printer to handle).</p>\n",
      "\n",
      "Description: <p>Currently, 3D Builder is telling me \"one or more objects are invalidly defined. Click here to repair.\" What is this and what does it mean? When I click it, it totally messes up my model (I can't tell what it even did due to the orthogonal camera). Model stats: </p>\n",
      "\n",
      "<ul>\n",
      "<li>Made with Sketchup</li>\n",
      "<li>Used STL Exporter to export it</li>\n",
      "<li>Last I knew what the repairing did to it was to remove my sinks and reduced them to holes in the floor</li>\n",
      "<li>I used ASCII encoding for my STL (I tried using Binary, but it didn't help)</li>\n",
      "<li>I tried subdividing it but it didn't help.</li>\n",
      "</ul>\n",
      "\n",
      "<p>Screenshots:</p>\n",
      "\n",
      "<p>This is a picture of the model before repairing:\n",
      "<a href=\"https://www.mediafire.com/convkey/173c/2026o54i3pm7h1szg.jpg\" rel=\"noreferrer\"><img src=\"https://www.mediafire.com/convkey/173c/2026o54i3pm7h1szg.jpg\" alt=\"This is a picture of the model before repairing\"></a></p>\n",
      "\n",
      "<p>This is a picture of the model after repairing:\n",
      "<a href=\"https://www.mediafire.com/convkey/cd41/uh5e97ak6j79zoyzg.jpg\" rel=\"noreferrer\"><img src=\"https://www.mediafire.com/convkey/cd41/uh5e97ak6j79zoyzg.jpg\" alt=\"This is a picture of the model after repairing\"></a></p>\n",
      "\n",
      "<p>(Just in case you wonder. I actually <strong>have</strong> to use STL for this project)</p>\n",
      "\n",
      "Comments:\n",
      "\t- There's almost never a reason to use ASCII encoding for STLs. Just stick with binary.\n",
      "\t- @Tom van der Zanden, I use binary now.\n"
     ]
    }
   ],
   "source": [
    "import pandas as pd\n",
    "from sentence_transformers import SentenceTransformer\n",
    "import numpy as np\n",
    "from sklearn.metrics.pairwise import cosine_similarity\n",
    "\n",
    "# Load the cleaned data from CSV into a pandas DataFrame\n",
    "cleaned_data = pd.read_csv(\"C:\\\\Users\\\\Dell\\\\OneDrive - Northeastern University\\\\courses\\\\big data and intl analytics\\\\DAMG7245-Summer2023\\\\final project\\\\dataset_converted\\\\3d_printing\\\\posts_cleaned.csv\")\n",
    "comments_df = pd.read_csv(\"C:\\\\Users\\\\Dell\\\\OneDrive - Northeastern University\\\\courses\\\\big data and intl analytics\\\\DAMG7245-Summer2023\\\\final project\\\\dataset_converted\\\\3d_printing\\\\comments_cleaned.csv\")\n",
    "# Load the pre-trained Sentence Transformers model\n",
    "model = SentenceTransformer('distilbert-base-nli-stsb-mean-tokens')\n",
    "\n",
    "# Preprocessing function to convert tags from string to list\n",
    "def process_tags(Tags):\n",
    "    if pd.isna(Tags):  # Handle NaN values\n",
    "        return []      # Return an empty list for NaN values\n",
    "    return Tags.split(',')\n",
    "\n",
    "# Apply the preprocessing to the 'Tags' column (uppercase \"T\")\n",
    "cleaned_data['post_tags'] = cleaned_data['post_tags'].apply(process_tags)\n",
    "\n",
    "def generate_embeddings(text):\n",
    "    embeddings = model.encode(text)\n",
    "    return embeddings\n",
    "\n",
    "def filter_data(user_input_tag):\n",
    "    # Keep rows with \"posttypeid\" as 1 or 2\n",
    "    filtered_data = cleaned_data\n",
    "\n",
    "    # Keep only data for the user input tag\n",
    "    filtered_data = filtered_data[filtered_data['post_tags'].apply(lambda tags: user_input_tag in tags)]\n",
    "\n",
    "    return filtered_data\n",
    "\n",
    "def topic_relevance_search(user_input, user_input_tag):\n",
    "    # Filter data based on user input tag and \"PostTypeId\"\n",
    "    filtered_data = filter_data(user_input_tag)\n",
    "\n",
    "    # Check if there is relevant data for the user input tag\n",
    "    if filtered_data.empty:\n",
    "        print(f\"No relevant data found for the tag '{user_input_tag}'.\")\n",
    "        return []\n",
    "\n",
    "    # Concatenate relevant columns for embedding, handling NaN values\n",
    "    relevant_text = filtered_data.apply(lambda row: ' '.join(filter(lambda x: pd.notna(x), [row['post_title'], row['post_body']])), axis=1)\n",
    "\n",
    "    # Convert relevant_text to a list\n",
    "    relevant_text_list = relevant_text.tolist()\n",
    "\n",
    "    # Generate embeddings for user input and relevant data\n",
    "    user_embedding = generate_embeddings([user_input])\n",
    "    data_embeddings = generate_embeddings(relevant_text_list)\n",
    "\n",
    "    # Calculate cosine similarity between user input and data embeddings\n",
    "    similarity_scores = cosine_similarity(user_embedding, data_embeddings)[0]\n",
    "\n",
    "    # Sort the data by similarity scores in descending order and select top 5 rows\n",
    "    top_indices = np.argsort(similarity_scores)[::-1][:5]\n",
    "    \n",
    "    top_similar_topics = filtered_data.iloc[top_indices][['post_id', 'post_title', 'posttypeid', 'post_body', 'post_body_accepted']].to_dict('records')\n",
    "    \n",
    "    top_similarity_scores = similarity_scores[top_indices]\n",
    "\n",
    "    return top_similar_topics, top_similarity_scores\n",
    "\n",
    "if __name__ == \"__main__\":\n",
    "    # Example usage:\n",
    "    user_question = \"what is stl file?\"\n",
    "    user_tag = \"<3d-design>\"\n",
    "\n",
    "    similar_topics, similarity_scores = topic_relevance_search(user_question, user_tag)\n",
    "    \n",
    "    for i in range(len(similar_topics)):\n",
    "        post_id, post_title, posttypeid, post_body, post_body_accepted = similar_topics[i]['post_id'], similar_topics[i]['post_title'], similar_topics[i]['posttypeid'], similar_topics[i]['post_body'], similar_topics[i]['post_body_accepted']\n",
    "        print(f\"{i+1}. {post_title} (similarity score: {similarity_scores[i]:.2f})\")\n",
    "        \n",
    "        if pd.isna(post_body_accepted):\n",
    "            print(\"No accepted answer\")\n",
    "        else:\n",
    "            print(f\"Accepted answer: {post_body_accepted}\")\n",
    "        \n",
    "        if posttypeid == 1:\n",
    "            print(f\"Description: {post_body}\")\n",
    "        elif posttypeid == 2:\n",
    "            print(f\"Answer: {post_body}\")\n",
    "        \n",
    "        post_comments = comments_df[comments_df['post_id'] == post_id]\n",
    "        \n",
    "        if not post_comments.empty:\n",
    "            print(\"Comments:\")\n",
    "            for comment in post_comments['comments_text']:\n",
    "                print(f\"\\t- {comment}\")"
   ]
  },
  {
   "cell_type": "code",
   "execution_count": null,
   "id": "f8eef756",
   "metadata": {},
   "outputs": [],
   "source": []
  }
 ],
 "metadata": {
  "kernelspec": {
   "display_name": "Python 3 (ipykernel)",
   "language": "python",
   "name": "python3"
  },
  "language_info": {
   "codemirror_mode": {
    "name": "ipython",
    "version": 3
   },
   "file_extension": ".py",
   "mimetype": "text/x-python",
   "name": "python",
   "nbconvert_exporter": "python",
   "pygments_lexer": "ipython3",
   "version": "3.9.15"
  }
 },
 "nbformat": 4,
 "nbformat_minor": 5
}
