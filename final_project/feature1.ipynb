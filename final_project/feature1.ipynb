{
 "cells": [
  {
   "cell_type": "code",
   "execution_count": null,
   "id": "736098e0-6d27-4ba6-8353-8cd182a22d8b",
   "metadata": {},
   "outputs": [],
   "source": [
    "#pip install pandas"
   ]
  },
  {
   "cell_type": "code",
   "execution_count": 1,
   "id": "7c9fc3c9",
   "metadata": {
    "ExecuteTime": {
     "end_time": "2023-08-02T17:31:21.426186Z",
     "start_time": "2023-08-02T17:29:01.216181Z"
    }
   },
   "outputs": [
    {
     "name": "stdout",
     "output_type": "stream",
     "text": [
      "Collecting sentence-transformers\n",
      "  Using cached sentence_transformers-2.2.2-py3-none-any.whl\n",
      "Collecting huggingface-hub>=0.4.0\n",
      "  Using cached huggingface_hub-0.16.4-py3-none-any.whl (268 kB)\n",
      "Requirement already satisfied: scipy in c:\\users\\dell\\anaconda3\\lib\\site-packages (from sentence-transformers) (1.7.3)\n",
      "Collecting transformers<5.0.0,>=4.6.0\n",
      "  Using cached transformers-4.31.0-py3-none-any.whl (7.4 MB)\n",
      "Requirement already satisfied: scikit-learn in c:\\users\\dell\\anaconda3\\lib\\site-packages (from sentence-transformers) (1.0.2)\n",
      "Collecting torch>=1.6.0\n",
      "  Using cached torch-2.0.1-cp39-cp39-win_amd64.whl (172.4 MB)\n",
      "Requirement already satisfied: sentencepiece in c:\\users\\dell\\anaconda3\\lib\\site-packages (from sentence-transformers) (0.1.99)\n",
      "Requirement already satisfied: numpy in c:\\users\\dell\\appdata\\roaming\\python\\python39\\site-packages (from sentence-transformers) (1.22.4)\n",
      "Collecting nltk\n",
      "  Using cached nltk-3.8.1-py3-none-any.whl (1.5 MB)\n",
      "Collecting torchvision\n",
      "  Using cached torchvision-0.15.2-cp39-cp39-win_amd64.whl (1.2 MB)\n",
      "Requirement already satisfied: tqdm in c:\\users\\dell\\anaconda3\\lib\\site-packages (from sentence-transformers) (4.64.1)\n",
      "Requirement already satisfied: packaging>=20.9 in c:\\users\\dell\\appdata\\roaming\\python\\python39\\site-packages (from huggingface-hub>=0.4.0->sentence-transformers) (21.3)\n",
      "Requirement already satisfied: requests in c:\\users\\dell\\appdata\\roaming\\python\\python39\\site-packages (from huggingface-hub>=0.4.0->sentence-transformers) (2.28.1)\n",
      "Requirement already satisfied: pyyaml>=5.1 in c:\\users\\dell\\anaconda3\\lib\\site-packages (from huggingface-hub>=0.4.0->sentence-transformers) (6.0)\n",
      "Requirement already satisfied: fsspec in c:\\users\\dell\\anaconda3\\lib\\site-packages (from huggingface-hub>=0.4.0->sentence-transformers) (2023.6.0)\n",
      "Requirement already satisfied: filelock in c:\\users\\dell\\anaconda3\\lib\\site-packages (from huggingface-hub>=0.4.0->sentence-transformers) (3.6.0)\n",
      "Requirement already satisfied: typing-extensions>=3.7.4.3 in c:\\users\\dell\\appdata\\roaming\\python\\python39\\site-packages (from huggingface-hub>=0.4.0->sentence-transformers) (4.4.0)\n",
      "Requirement already satisfied: networkx in c:\\users\\dell\\anaconda3\\lib\\site-packages (from torch>=1.6.0->sentence-transformers) (3.1)\n",
      "Requirement already satisfied: sympy in c:\\users\\dell\\anaconda3\\lib\\site-packages (from torch>=1.6.0->sentence-transformers) (1.12)\n",
      "Requirement already satisfied: jinja2 in c:\\users\\dell\\anaconda3\\lib\\site-packages (from torch>=1.6.0->sentence-transformers) (2.11.3)\n",
      "Requirement already satisfied: colorama in c:\\users\\dell\\anaconda3\\lib\\site-packages (from tqdm->sentence-transformers) (0.4.5)\n",
      "Requirement already satisfied: regex!=2019.12.17 in c:\\users\\dell\\anaconda3\\lib\\site-packages (from transformers<5.0.0,>=4.6.0->sentence-transformers) (2023.6.3)\n",
      "Requirement already satisfied: tokenizers!=0.11.3,<0.14,>=0.11.1 in c:\\users\\dell\\anaconda3\\lib\\site-packages (from transformers<5.0.0,>=4.6.0->sentence-transformers) (0.13.3)\n",
      "Requirement already satisfied: safetensors>=0.3.1 in c:\\users\\dell\\anaconda3\\lib\\site-packages (from transformers<5.0.0,>=4.6.0->sentence-transformers) (0.3.1)\n",
      "Requirement already satisfied: click in c:\\users\\dell\\anaconda3\\lib\\site-packages (from nltk->sentence-transformers) (8.0.4)\n",
      "Requirement already satisfied: joblib in c:\\users\\dell\\anaconda3\\lib\\site-packages (from nltk->sentence-transformers) (1.1.1)\n",
      "Requirement already satisfied: threadpoolctl>=2.0.0 in c:\\users\\dell\\anaconda3\\lib\\site-packages (from scikit-learn->sentence-transformers) (2.2.0)\n",
      "Requirement already satisfied: pillow!=8.3.*,>=5.3.0 in c:\\users\\dell\\anaconda3\\lib\\site-packages (from torchvision->sentence-transformers) (9.2.0)\n",
      "Requirement already satisfied: pyparsing!=3.0.5,>=2.0.2 in c:\\users\\dell\\appdata\\roaming\\python\\python39\\site-packages (from packaging>=20.9->huggingface-hub>=0.4.0->sentence-transformers) (3.0.9)\n",
      "Requirement already satisfied: MarkupSafe>=0.23 in c:\\users\\dell\\anaconda3\\lib\\site-packages (from jinja2->torch>=1.6.0->sentence-transformers) (2.0.1)\n",
      "Requirement already satisfied: urllib3<1.27,>=1.21.1 in c:\\users\\dell\\appdata\\roaming\\python\\python39\\site-packages (from requests->huggingface-hub>=0.4.0->sentence-transformers) (1.26.12)\n",
      "Requirement already satisfied: idna<4,>=2.5 in c:\\users\\dell\\appdata\\roaming\\python\\python39\\site-packages (from requests->huggingface-hub>=0.4.0->sentence-transformers) (3.4)\n",
      "Requirement already satisfied: certifi>=2017.4.17 in c:\\users\\dell\\appdata\\roaming\\python\\python39\\site-packages (from requests->huggingface-hub>=0.4.0->sentence-transformers) (2022.9.24)\n",
      "Requirement already satisfied: charset-normalizer<3,>=2 in c:\\users\\dell\\appdata\\roaming\\python\\python39\\site-packages (from requests->huggingface-hub>=0.4.0->sentence-transformers) (2.1.1)\n",
      "Requirement already satisfied: mpmath>=0.19 in c:\\users\\dell\\anaconda3\\lib\\site-packages (from sympy->torch>=1.6.0->sentence-transformers) (1.3.0)\n",
      "Installing collected packages: torch, nltk, huggingface-hub, transformers, torchvision, sentence-transformers\n",
      "Successfully installed huggingface-hub-0.16.4 nltk-3.8.1 sentence-transformers-2.2.2 torch-2.0.1 torchvision-0.15.2 transformers-4.31.0\n"
     ]
    }
   ],
   "source": [
    "# !pip install sentence-transformers"
   ]
  },
  {
   "cell_type": "code",
   "execution_count": 8,
   "id": "8b31e835",
   "metadata": {
    "ExecuteTime": {
     "end_time": "2023-08-02T17:50:38.031365Z",
     "start_time": "2023-08-02T17:49:55.351912Z"
    }
   },
   "outputs": [
    {
     "name": "stdout",
     "output_type": "stream",
     "text": [
      "Collecting scipy\n",
      "  Using cached scipy-1.11.1-cp39-cp39-win_amd64.whl (44.1 MB)\n",
      "Collecting numpy<1.28.0,>=1.21.6\n",
      "  Using cached numpy-1.25.2-cp39-cp39-win_amd64.whl (15.6 MB)\n",
      "Installing collected packages: numpy, scipy\n",
      "Successfully installed numpy-1.25.2 scipy-1.11.1\n",
      "Note: you may need to restart the kernel to use updated packages.\n"
     ]
    },
    {
     "name": "stderr",
     "output_type": "stream",
     "text": [
      "  WARNING: The script f2py.exe is installed in 'C:\\Users\\Dell\\AppData\\Roaming\\Python\\Python39\\Scripts' which is not on PATH.\n",
      "  Consider adding this directory to PATH or, if you prefer to suppress this warning, use --no-warn-script-location.\n"
     ]
    }
   ],
   "source": [
    "# pip install --user --upgrade --force-reinstall scipy"
   ]
  },
  {
   "cell_type": "code",
   "execution_count": 4,
   "id": "cf624b23-6102-41fb-b5aa-e71379e3d7d1",
   "metadata": {
    "ExecuteTime": {
     "end_time": "2023-08-02T17:46:01.920570Z",
     "start_time": "2023-08-02T17:45:55.993380Z"
    }
   },
   "outputs": [
    {
     "name": "stdout",
     "output_type": "stream",
     "text": [
      "Requirement already satisfied: scikit-learn in c:\\users\\dell\\anaconda3\\lib\\site-packages (1.0.2)\n",
      "Requirement already satisfied: numpy>=1.14.6 in c:\\users\\dell\\appdata\\roaming\\python\\python39\\site-packages (from scikit-learn) (1.22.4)\n",
      "Requirement already satisfied: scipy>=1.1.0 in c:\\users\\dell\\anaconda3\\lib\\site-packages (from scikit-learn) (1.7.3)\n",
      "Requirement already satisfied: threadpoolctl>=2.0.0 in c:\\users\\dell\\anaconda3\\lib\\site-packages (from scikit-learn) (2.2.0)\n",
      "Requirement already satisfied: joblib>=0.11 in c:\\users\\dell\\anaconda3\\lib\\site-packages (from scikit-learn) (1.1.1)\n",
      "Note: you may need to restart the kernel to use updated packages.\n"
     ]
    }
   ],
   "source": [
    "# pip install scikit-learn"
   ]
  },
  {
   "cell_type": "code",
   "execution_count": 34,
   "id": "8b1e4113-5ca0-42e7-80be-e0f2e5c4087a",
   "metadata": {
    "ExecuteTime": {
     "end_time": "2023-08-02T17:50:54.101000Z",
     "start_time": "2023-08-02T17:50:52.210001Z"
    }
   },
   "outputs": [
    {
     "name": "stdout",
     "output_type": "stream",
     "text": [
      "1. Generating mold from stl file of the 3D drawing of the object (similarity score: 0.26)\n",
      "2. How do I decide what size my push-fit feature should be? (similarity score: 0.18)\n",
      "3. How to create tappered thread in OpenSCAD? (similarity score: 0.14)\n",
      "4. How would this OLED be mounted if in a commercial device? (similarity score: 0.14)\n",
      "5. 3D Builder is Saying \"One or more objects is invalidly defined\" (similarity score: 0.12)\n"
     ]
    }
   ],
   "source": [
    "import pandas as pd\n",
    "from sentence_transformers import SentenceTransformer\n",
    "import numpy as np\n",
    "from sklearn.metrics.pairwise import cosine_similarity\n",
    "\n",
    "# Load the cleaned data from CSV into a pandas DataFrame\n",
    "cleaned_data = pd.read_csv(\"C:\\\\Users\\\\Dell\\\\OneDrive - Northeastern University\\\\courses\\\\big data and intl analytics\\\\DAMG7245-Summer2023\\\\final project\\\\dataset_converted\\\\3d_printing\\\\posts_cleaned.csv\")\n",
    "comments_df = pd.read_csv(\"C:\\\\Users\\\\Dell\\\\OneDrive - Northeastern University\\\\courses\\\\big data and intl analytics\\\\DAMG7245-Summer2023\\\\final project\\\\dataset_converted\\\\3d_printing\\\\comments_cleaned.csv\")\n",
    "# Load the pre-trained Sentence Transformers model\n",
    "model = SentenceTransformer('distilbert-base-nli-stsb-mean-tokens')\n",
    "\n",
    "# Preprocessing function to convert tags from string to list\n",
    "def process_tags(Tags):\n",
    "    if pd.isna(Tags):  # Handle NaN values\n",
    "        return []      # Return an empty list for NaN values\n",
    "    return Tags.split(',')\n",
    "\n",
    "# Apply the preprocessing to the 'Tags' column (uppercase \"T\")\n",
    "cleaned_data['post_tags'] = cleaned_data['post_tags'].apply(process_tags)\n",
    "\n",
    "def generate_embeddings(text):\n",
    "    embeddings = model.encode(text)\n",
    "    return embeddings\n",
    "\n",
    "def filter_data(user_input_tag):\n",
    "    # Keep rows with \"posttypeid\" as 1 or 2\n",
    "    filtered_data = cleaned_data\n",
    "\n",
    "    # Keep only data for the user input tag\n",
    "    filtered_data = filtered_data[filtered_data['post_tags'].apply(lambda tags: user_input_tag in tags)]\n",
    "\n",
    "    return filtered_data\n",
    "\n",
    "def topic_relevance_search(user_input, user_input_tag, top_tags=10):\n",
    "    # Filter data based on user input tag and \"PostTypeId\"\n",
    "    filtered_data = filter_data(user_input_tag)\n",
    "\n",
    "    # Check if there is relevant data for the user input tag\n",
    "    if filtered_data.empty:\n",
    "        print(f\"No relevant data found for the tag '{user_input_tag}'.\")\n",
    "        return []\n",
    "\n",
    "    # Concatenate relevant columns for embedding, handling NaN values\n",
    "    relevant_text = filtered_data.apply(lambda row: ' '.join(filter(lambda x: pd.notna(x), [row['post_title'], row['post_body']])), axis=1)\n",
    "\n",
    "    # Convert relevant_text to a list\n",
    "    relevant_text_list = relevant_text.tolist()\n",
    "\n",
    "    # Generate embeddings for user input and relevant data\n",
    "    user_embedding = generate_embeddings([user_input])\n",
    "    data_embeddings = generate_embeddings(relevant_text_list)\n",
    "\n",
    "    # Calculate cosine similarity between user input and data embeddings\n",
    "    similarity_scores = cosine_similarity(user_embedding, data_embeddings)[0]\n",
    "\n",
    "    # Sort the data by similarity scores in descending order and select top 5 rows\n",
    "    top_indices = np.argsort(similarity_scores)[::-1][:5]\n",
    "    top_similar_topics = filtered_data.iloc[top_indices]['post_title'].tolist()\n",
    "    top_similarity_scores = similarity_scores[top_indices]\n",
    "\n",
    "    return top_similar_topics, top_similarity_scores\n",
    "\n",
    "if __name__ == \"__main__\":\n",
    "    # Example usage:\n",
    "    user_question = \"what is stl file?\"\n",
    "    user_tag = \"<3d-design>\"\n",
    "\n",
    "    similar_topics, similarity_scores = topic_relevance_search(user_question, user_tag)\n",
    "    \n",
    "    for i in range(len(similar_topics)):\n",
    "        print(f\"{i+1}. {similar_topics[i]} (similarity score: {similarity_scores[i]:.2f})\")"
   ]
  },
  {
   "cell_type": "code",
   "execution_count": null,
   "id": "f8eef756",
   "metadata": {},
   "outputs": [],
   "source": []
  }
 ],
 "metadata": {
  "kernelspec": {
   "display_name": "Python 3 (ipykernel)",
   "language": "python",
   "name": "python3"
  },
  "language_info": {
   "codemirror_mode": {
    "name": "ipython",
    "version": 3
   },
   "file_extension": ".py",
   "mimetype": "text/x-python",
   "name": "python",
   "nbconvert_exporter": "python",
   "pygments_lexer": "ipython3",
   "version": "3.9.15"
  }
 },
 "nbformat": 4,
 "nbformat_minor": 5
}
