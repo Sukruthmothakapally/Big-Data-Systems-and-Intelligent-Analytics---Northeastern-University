{
 "cells": [
  {
   "cell_type": "code",
   "execution_count": null,
   "id": "736098e0-6d27-4ba6-8353-8cd182a22d8b",
   "metadata": {},
   "outputs": [],
   "source": [
    "#pip install pandas"
   ]
  },
  {
   "cell_type": "code",
   "execution_count": 1,
   "id": "7c9fc3c9",
   "metadata": {
    "ExecuteTime": {
     "end_time": "2023-08-02T17:31:21.426186Z",
     "start_time": "2023-08-02T17:29:01.216181Z"
    }
   },
   "outputs": [
    {
     "name": "stdout",
     "output_type": "stream",
     "text": [
      "Collecting sentence-transformers\n",
      "  Using cached sentence_transformers-2.2.2-py3-none-any.whl\n",
      "Collecting huggingface-hub>=0.4.0\n",
      "  Using cached huggingface_hub-0.16.4-py3-none-any.whl (268 kB)\n",
      "Requirement already satisfied: scipy in c:\\users\\dell\\anaconda3\\lib\\site-packages (from sentence-transformers) (1.7.3)\n",
      "Collecting transformers<5.0.0,>=4.6.0\n",
      "  Using cached transformers-4.31.0-py3-none-any.whl (7.4 MB)\n",
      "Requirement already satisfied: scikit-learn in c:\\users\\dell\\anaconda3\\lib\\site-packages (from sentence-transformers) (1.0.2)\n",
      "Collecting torch>=1.6.0\n",
      "  Using cached torch-2.0.1-cp39-cp39-win_amd64.whl (172.4 MB)\n",
      "Requirement already satisfied: sentencepiece in c:\\users\\dell\\anaconda3\\lib\\site-packages (from sentence-transformers) (0.1.99)\n",
      "Requirement already satisfied: numpy in c:\\users\\dell\\appdata\\roaming\\python\\python39\\site-packages (from sentence-transformers) (1.22.4)\n",
      "Collecting nltk\n",
      "  Using cached nltk-3.8.1-py3-none-any.whl (1.5 MB)\n",
      "Collecting torchvision\n",
      "  Using cached torchvision-0.15.2-cp39-cp39-win_amd64.whl (1.2 MB)\n",
      "Requirement already satisfied: tqdm in c:\\users\\dell\\anaconda3\\lib\\site-packages (from sentence-transformers) (4.64.1)\n",
      "Requirement already satisfied: packaging>=20.9 in c:\\users\\dell\\appdata\\roaming\\python\\python39\\site-packages (from huggingface-hub>=0.4.0->sentence-transformers) (21.3)\n",
      "Requirement already satisfied: requests in c:\\users\\dell\\appdata\\roaming\\python\\python39\\site-packages (from huggingface-hub>=0.4.0->sentence-transformers) (2.28.1)\n",
      "Requirement already satisfied: pyyaml>=5.1 in c:\\users\\dell\\anaconda3\\lib\\site-packages (from huggingface-hub>=0.4.0->sentence-transformers) (6.0)\n",
      "Requirement already satisfied: fsspec in c:\\users\\dell\\anaconda3\\lib\\site-packages (from huggingface-hub>=0.4.0->sentence-transformers) (2023.6.0)\n",
      "Requirement already satisfied: filelock in c:\\users\\dell\\anaconda3\\lib\\site-packages (from huggingface-hub>=0.4.0->sentence-transformers) (3.6.0)\n",
      "Requirement already satisfied: typing-extensions>=3.7.4.3 in c:\\users\\dell\\appdata\\roaming\\python\\python39\\site-packages (from huggingface-hub>=0.4.0->sentence-transformers) (4.4.0)\n",
      "Requirement already satisfied: networkx in c:\\users\\dell\\anaconda3\\lib\\site-packages (from torch>=1.6.0->sentence-transformers) (3.1)\n",
      "Requirement already satisfied: sympy in c:\\users\\dell\\anaconda3\\lib\\site-packages (from torch>=1.6.0->sentence-transformers) (1.12)\n",
      "Requirement already satisfied: jinja2 in c:\\users\\dell\\anaconda3\\lib\\site-packages (from torch>=1.6.0->sentence-transformers) (2.11.3)\n",
      "Requirement already satisfied: colorama in c:\\users\\dell\\anaconda3\\lib\\site-packages (from tqdm->sentence-transformers) (0.4.5)\n",
      "Requirement already satisfied: regex!=2019.12.17 in c:\\users\\dell\\anaconda3\\lib\\site-packages (from transformers<5.0.0,>=4.6.0->sentence-transformers) (2023.6.3)\n",
      "Requirement already satisfied: tokenizers!=0.11.3,<0.14,>=0.11.1 in c:\\users\\dell\\anaconda3\\lib\\site-packages (from transformers<5.0.0,>=4.6.0->sentence-transformers) (0.13.3)\n",
      "Requirement already satisfied: safetensors>=0.3.1 in c:\\users\\dell\\anaconda3\\lib\\site-packages (from transformers<5.0.0,>=4.6.0->sentence-transformers) (0.3.1)\n",
      "Requirement already satisfied: click in c:\\users\\dell\\anaconda3\\lib\\site-packages (from nltk->sentence-transformers) (8.0.4)\n",
      "Requirement already satisfied: joblib in c:\\users\\dell\\anaconda3\\lib\\site-packages (from nltk->sentence-transformers) (1.1.1)\n",
      "Requirement already satisfied: threadpoolctl>=2.0.0 in c:\\users\\dell\\anaconda3\\lib\\site-packages (from scikit-learn->sentence-transformers) (2.2.0)\n",
      "Requirement already satisfied: pillow!=8.3.*,>=5.3.0 in c:\\users\\dell\\anaconda3\\lib\\site-packages (from torchvision->sentence-transformers) (9.2.0)\n",
      "Requirement already satisfied: pyparsing!=3.0.5,>=2.0.2 in c:\\users\\dell\\appdata\\roaming\\python\\python39\\site-packages (from packaging>=20.9->huggingface-hub>=0.4.0->sentence-transformers) (3.0.9)\n",
      "Requirement already satisfied: MarkupSafe>=0.23 in c:\\users\\dell\\anaconda3\\lib\\site-packages (from jinja2->torch>=1.6.0->sentence-transformers) (2.0.1)\n",
      "Requirement already satisfied: urllib3<1.27,>=1.21.1 in c:\\users\\dell\\appdata\\roaming\\python\\python39\\site-packages (from requests->huggingface-hub>=0.4.0->sentence-transformers) (1.26.12)\n",
      "Requirement already satisfied: idna<4,>=2.5 in c:\\users\\dell\\appdata\\roaming\\python\\python39\\site-packages (from requests->huggingface-hub>=0.4.0->sentence-transformers) (3.4)\n",
      "Requirement already satisfied: certifi>=2017.4.17 in c:\\users\\dell\\appdata\\roaming\\python\\python39\\site-packages (from requests->huggingface-hub>=0.4.0->sentence-transformers) (2022.9.24)\n",
      "Requirement already satisfied: charset-normalizer<3,>=2 in c:\\users\\dell\\appdata\\roaming\\python\\python39\\site-packages (from requests->huggingface-hub>=0.4.0->sentence-transformers) (2.1.1)\n",
      "Requirement already satisfied: mpmath>=0.19 in c:\\users\\dell\\anaconda3\\lib\\site-packages (from sympy->torch>=1.6.0->sentence-transformers) (1.3.0)\n",
      "Installing collected packages: torch, nltk, huggingface-hub, transformers, torchvision, sentence-transformers\n",
      "Successfully installed huggingface-hub-0.16.4 nltk-3.8.1 sentence-transformers-2.2.2 torch-2.0.1 torchvision-0.15.2 transformers-4.31.0\n"
     ]
    }
   ],
   "source": [
    "# !pip install sentence-transformers"
   ]
  },
  {
   "cell_type": "code",
   "execution_count": 8,
   "id": "8b31e835",
   "metadata": {
    "ExecuteTime": {
     "end_time": "2023-08-02T17:50:38.031365Z",
     "start_time": "2023-08-02T17:49:55.351912Z"
    }
   },
   "outputs": [
    {
     "name": "stdout",
     "output_type": "stream",
     "text": [
      "Collecting scipy\n",
      "  Using cached scipy-1.11.1-cp39-cp39-win_amd64.whl (44.1 MB)\n",
      "Collecting numpy<1.28.0,>=1.21.6\n",
      "  Using cached numpy-1.25.2-cp39-cp39-win_amd64.whl (15.6 MB)\n",
      "Installing collected packages: numpy, scipy\n",
      "Successfully installed numpy-1.25.2 scipy-1.11.1\n",
      "Note: you may need to restart the kernel to use updated packages.\n"
     ]
    },
    {
     "name": "stderr",
     "output_type": "stream",
     "text": [
      "  WARNING: The script f2py.exe is installed in 'C:\\Users\\Dell\\AppData\\Roaming\\Python\\Python39\\Scripts' which is not on PATH.\n",
      "  Consider adding this directory to PATH or, if you prefer to suppress this warning, use --no-warn-script-location.\n"
     ]
    }
   ],
   "source": [
    "# pip install --user --upgrade --force-reinstall scipy"
   ]
  },
  {
   "cell_type": "code",
   "execution_count": 4,
   "id": "cf624b23-6102-41fb-b5aa-e71379e3d7d1",
   "metadata": {
    "ExecuteTime": {
     "end_time": "2023-08-02T17:46:01.920570Z",
     "start_time": "2023-08-02T17:45:55.993380Z"
    }
   },
   "outputs": [
    {
     "name": "stdout",
     "output_type": "stream",
     "text": [
      "Requirement already satisfied: scikit-learn in c:\\users\\dell\\anaconda3\\lib\\site-packages (1.0.2)\n",
      "Requirement already satisfied: numpy>=1.14.6 in c:\\users\\dell\\appdata\\roaming\\python\\python39\\site-packages (from scikit-learn) (1.22.4)\n",
      "Requirement already satisfied: scipy>=1.1.0 in c:\\users\\dell\\anaconda3\\lib\\site-packages (from scikit-learn) (1.7.3)\n",
      "Requirement already satisfied: threadpoolctl>=2.0.0 in c:\\users\\dell\\anaconda3\\lib\\site-packages (from scikit-learn) (2.2.0)\n",
      "Requirement already satisfied: joblib>=0.11 in c:\\users\\dell\\anaconda3\\lib\\site-packages (from scikit-learn) (1.1.1)\n",
      "Note: you may need to restart the kernel to use updated packages.\n"
     ]
    }
   ],
   "source": [
    "# pip install scikit-learn"
   ]
  },
  {
   "cell_type": "code",
   "execution_count": 29,
   "id": "8b1e4113-5ca0-42e7-80be-e0f2e5c4087a",
   "metadata": {
    "ExecuteTime": {
     "end_time": "2023-08-02T17:50:54.101000Z",
     "start_time": "2023-08-02T17:50:52.210001Z"
    }
   },
   "outputs": [
    {
     "name": "stdout",
     "output_type": "stream",
     "text": [
      "1. What is a good software for designing car parts (similarity score: 0.26)\n",
      "Question: <p>I am an absolute beginner when it comes to 3d printing. I want to get into the hobby by designing aero automotive parts such as fender flares, custom gauge and switch pods, lips etc. I've never taken a CAD course but I would say I'm proficient enough with computers as I work as a developer. My uncle is an architect and it seems like autocad might be something good to go with. What are some other good alternatives that allow accurate modeling down to millimeters and possibly breaking larger objects into smaller 3d printable pieces to mash together? </p>\n",
      "\n",
      "Accepted Answer: <p>You've avoided a number of attributes of a poor question by specifying your objective in detail, while also providing some indication of your experience. AutoCAD is not well known as being 3d printer friendly, although a skilled AutoCAD design user may be able to create acceptable models.</p>\n",
      "\n",
      "<p>One could consider more organic modeling software such as Blender, although it works in reverse of my comment above. It's great for free-form model building but not so much for engineering type construction. Again, a competent Blender user can avail himself of the parametric aspects of the software, but it's more work than one would necessarily desire to engage.</p>\n",
      "\n",
      "<p>SolidWorks has a number of followers in the 3d modeling community. My experience with the software has shown me that it can be learned fairly quickly and is powerful enough to allow one to explode creatively over time.</p>\n",
      "\n",
      "<p>The structure of Solidworks workflow fits in directly with your description, both to the reference to accurate modeling as well as the break-apart aspect. The construction of a model in SW is done via sketches and various actions performed on resultant objects created from those sketches. It's not free software, rather pricey, but it may also save you so much work as to pay for itself over time.</p>\n",
      "\n",
      "<p>There are other options, of course, some of which are free to students and hobbyists. I did a quick Google search for \"free parametric 3d modeling software\" which resulted in this link:</p>\n",
      "\n",
      "<p><a href=\"https://www.matterhackers.com/articles/finding-the-right-3d-modeling-software-for-you\" rel=\"nofollow\">https://www.matterhackers.com/articles/finding-the-right-3d-modeling-software-for-you</a></p>\n",
      "\n",
      "<p>You will find many suitable programs in the list generated from that link, as well as many that are unsuitable for the reasons mentioned previously.</p>\n",
      "\n",
      "<p>Consider also to view YouTube videos of your candidate selections. Most of the programs referenced will have tutorial videos which can give you a clearer idea of how well it fits your needs and perhaps how easily it can be understood.</p>\n",
      "\n",
      "Comments:\n",
      "  1. This question is a poor fit for this site. The range of possible answers is very large (as there are tens of suitable software packages) and you seem to be soliciting opinions (rather than facts) on which alternatives are \"good\". This question might be more suitable for [Software Recommendations](http://softwarerecs.stackexchange.com/), if you edit it to fit their format.\n",
      "2. Feasible 3D Printed Snap Connectors (similarity score: 0.18)\n",
      "Question: <p>I have <a href=\"https://ultimaker.com/en/products/ultimaker-2-plus\" rel=\"noreferrer\" title=\"Ultimaker 2+\">Ultimaker 2+ 3D Printer</a> and I need to print a piece that doesn't fit within the build volume of the printer. Even though it would fit I'd still need to print it in two parts because I'll need to fit some equipment inside. I could use glue to put it together, but I'll need to remove the equipment later.</p>\n",
      "\n",
      "<p>So I'm trying to find some feasible solutions how to attach/snap it together. The wall thickness is currently 3mm.</p>\n",
      "\n",
      "<p><a href=\"https://i.stack.imgur.com/FFckZ.png\" rel=\"noreferrer\" title=\"Cut Plane\"><img src=\"https://i.stack.imgur.com/FFckZ.png\" alt=\"Cut Plane\" title=\"Cut Plane\"></a></p>\n",
      "\n",
      "<p>Plane for cutting the part.</p>\n",
      "\n",
      "<p><a href=\"https://i.stack.imgur.com/L2hhV.png\" rel=\"noreferrer\" title=\"Cut Cross Section\"><img src=\"https://i.stack.imgur.com/L2hhV.png\" alt=\"Cross Section where I split the part\" title=\"Cut Cross Section\"></a></p>\n",
      "\n",
      "<p>Cut cross section.</p>\n",
      "\n",
      "No accepted answer.\n",
      "Comments:\n",
      "  1. Could you highlight where the cut is?\n",
      "3. Printing a CV joint (similarity score: 0.14)\n",
      "Question: <p>Fair warning: I am a complete novice in 3-D printing. This will, hopefully, be the first thing I've ever printed. </p>\n",
      "\n",
      "<p>I want to make a Constant Velocity Joint for a camera stabilizer I'm making. I've been looking at different options, and it seems that a double cardan joint would be easiest to design/make/print. However, the intended use involves force being applied along the shaft, into the joint, which I think in a double cardan will cause \"buckling\" (forcing the joint into a 90° zig-zag). </p>\n",
      "\n",
      "<p>Also, perhaps I'm wrong, but I don't see it rotating very smoothly (pretty essential for camera stabilization.) </p>\n",
      "\n",
      "<p>So my next idea is a Tracta type, with bearings. The question is: </p>\n",
      "\n",
      "<p>Can you print bearings inside their housing? or do movable parts have to be printed separately? </p>\n",
      "\n",
      "No accepted answer.\n",
      "Comments:\n",
      "  1. Here are some uni lab blog entries from 2017 that report on a 3D-printed Tracta joint: https://additive-mfg.me.wisc.edu/?cat=63\n",
      "4. Make a nose cone in Fusion 360 (similarity score: 0.14)\n",
      "Question: <p>I am new to Fusion 360 and I think I'm going straight to something complicated. Is there a way to make a nose cone for a model rocket? What tools would one you to accomplish this?</p>\n",
      "\n",
      "Accepted Answer: <p>If you have a specific shape in mind and can create a sketch to represent that shape, you are halfway to your goal.</p>\n",
      "\n",
      "<p>The concept is simple. Create a single line sketch that would represent the desired curve, starting from, in this example, the nose of the cone and traveling to the base. Create only one-half of the nose cone curve and maintain a \"standard\" axis reference, say, using the Y-axis as the rotation point.</p>\n",
      "\n",
      "<p>The process is called <a href=\"http://help.autodesk.com/view/fusion360/ENU/?guid=GUID-5C62F370-7AB4-4DFD-BE61-F8830F30A6D7\" rel=\"noreferrer\">revolve. Fusion 360</a> supports this action directly.</p>\n",
      "\n",
      "<pre><code>In the Sculpt workspace, choose Create Revolve.\n",
      "Select the profile to revolve.\n",
      "In the Revolve dialog:\n",
      "    Click Axis and then select the axis to revolve around.\n",
      "    Choose Full or Angle to specify whether the revolution is full or to a specific angle.\n",
      "    For Direction choose One Side, Two Side or Symmetrical.\n",
      "    For Symmetry, choose None or Circular.\n",
      "</code></pre>\n",
      "\n",
      "<p>The above text is taken directly from the link. The specific web site also includes a Flash video of the steps involved.</p>\n",
      "\n",
      "<p>If thickness is required for your creation, consider to draw the sketch from the nose to the base, then use Offset or hand sketch in a parallel line that returns to the nose. Ensure the base segment is joined and that the nose segments are open and are aligned to the Y-axis.</p>\n",
      "\n",
      "<p>As the sketch is revolved, the nose sections will \"close\" while the base creates the closure necessary to make a solid that is hollow within and open at the bottom.</p>\n",
      "\n",
      "<p>Use The Google or your preferred search engine with the terms \"Fusion 360 Revolve\" to find many tutorials and videos with the same information presented in various ways.</p>\n",
      "\n",
      "Comments:\n",
      "  1. @CarlWitthoft I am actually not making a model rocket. I am making an electric hydrofoil. I just wanted the nose cone front piece. I see your point though for rockets!\n",
      "5. How to create tappered thread in OpenSCAD? (similarity score: 0.12)\n",
      "Question: <p>Is there any simple way of creating tappered thread in OpenSCAD? I need something like 10 mm in diameter at the end, 9 at the top and the height of 10 mm.</p>\n",
      "\n",
      "Accepted Answer: <p>I have contacted Dan Kirshner (the author of openscad threads library) and he has updated the library. Now it supports tapered threads. Thanks, Dan!</p>\n",
      "\n",
      "<p><a href=\"http://dkprojects.net/openscad-threads/\" rel=\"nofollow\">Thread-drawing modules for OpenSCAD</a></p>\n",
      "\n",
      "Comments:\n",
      "  1. Could you elaborate on what approach you took, what you've already tried and why it failed? That might help possible asnswers to know where to start explaining.\n"
     ]
    }
   ],
   "source": [
    "import pandas as pd\n",
    "from sentence_transformers import SentenceTransformer\n",
    "import numpy as np\n",
    "from sklearn.metrics.pairwise import cosine_similarity\n",
    "\n",
    "# Load the cleaned data from CSV into a pandas DataFrame\n",
    "cleaned_data = pd.read_csv(\"C:\\\\Users\\\\Dell\\\\OneDrive - Northeastern University\\\\courses\\\\big data and intl analytics\\\\DAMG7245-Summer2023\\\\final project\\\\dataset_converted\\\\3d_printing\\\\posts_cleaned.csv\")\n",
    "comments_df = pd.read_csv(\"C:\\\\Users\\\\Dell\\\\OneDrive - Northeastern University\\\\courses\\\\big data and intl analytics\\\\DAMG7245-Summer2023\\\\final project\\\\dataset_converted\\\\3d_printing\\\\comments_cleaned.csv\")\n",
    "# Load the pre-trained Sentence Transformers model\n",
    "model = SentenceTransformer('distilbert-base-nli-stsb-mean-tokens')\n",
    "\n",
    "# Preprocessing function to convert tags from string to list\n",
    "def process_tags(Tags):\n",
    "    if pd.isna(Tags):  # Handle NaN values\n",
    "        return []      # Return an empty list for NaN values\n",
    "    return Tags.split(',')\n",
    "\n",
    "# Apply the preprocessing to the 'Tags' column (uppercase \"T\")\n",
    "cleaned_data['post_tags'] = cleaned_data['post_tags'].apply(process_tags)\n",
    "\n",
    "def generate_embeddings(text):\n",
    "    embeddings = model.encode(text)\n",
    "    return embeddings\n",
    "\n",
    "def filter_data(user_input_tag):\n",
    "    # Keep rows with \"posttypeid\" as 1 or 2\n",
    "    filtered_data = cleaned_data\n",
    "\n",
    "    # Keep only data for the user input tag\n",
    "    filtered_data = filtered_data[filtered_data['post_tags'].apply(lambda tags: user_input_tag in tags)]\n",
    "\n",
    "    return filtered_data\n",
    "\n",
    "def topic_relevance_search(user_input, user_input_tag, top_tags=10):\n",
    "    # Filter data based on user input tag and \"PostTypeId\"\n",
    "    filtered_data = filter_data(user_input_tag)\n",
    "\n",
    "    # Check if there is relevant data for the user input tag\n",
    "    if filtered_data.empty:\n",
    "        print(f\"No relevant data found for the tag '{user_input_tag}'.\")\n",
    "        return []\n",
    "\n",
    "    # Concatenate relevant columns for embedding, handling NaN values\n",
    "    relevant_text = filtered_data.apply(lambda row: ' '.join(filter(lambda x: pd.notna(x), [row['post_title'], row['post_body']])), axis=1)\n",
    "\n",
    "    # Convert relevant_text to a list\n",
    "    relevant_text_list = relevant_text.tolist()\n",
    "\n",
    "    # Generate embeddings for user input and relevant data\n",
    "    user_embedding = generate_embeddings([user_input])\n",
    "    data_embeddings = generate_embeddings(relevant_text_list)\n",
    "\n",
    "    # Calculate cosine similarity between user input and data embeddings\n",
    "    similarity_scores = cosine_similarity(user_embedding, data_embeddings)[0]\n",
    "\n",
    "    # Sort the data by similarity scores in descending order and select top 5 rows\n",
    "    top_indices = np.argsort(similarity_scores)[::-1][:5]\n",
    "    \n",
    "    # Merge filtered_data and comments_df on the post_id column\n",
    "    merged_data = pd.merge(filtered_data, comments_df, on='post_id', how='left')\n",
    "    \n",
    "    top_similar_topics = merged_data.iloc[top_indices][['post_title', 'comments_text', 'posttypeid', 'post_body', 'post_body_accepted']].to_dict('records')\n",
    "    top_similarity_scores = similarity_scores[top_indices]\n",
    "\n",
    "    return top_similar_topics, top_similarity_scores\n",
    "\n",
    "if __name__ == \"__main__\":\n",
    "    # Example usage:\n",
    "    user_question = \"what is stl file?\"\n",
    "    user_tag = \"<3d-design>\"\n",
    "\n",
    "    similar_topics, similarity_scores = topic_relevance_search(user_question, user_tag)\n",
    "    \n",
    "    for i in range(len(similar_topics)):\n",
    "        print(f\"{i+1}. {similar_topics[i]['post_title']} (similarity score: {similarity_scores[i]:.2f})\")\n",
    "        post_type = \"Question\" if similar_topics[i]['posttypeid'] == 1 else \"Answer\"\n",
    "        print(f\"{post_type}: {similar_topics[i]['post_body']}\")\n",
    "        if pd.notna(similar_topics[i]['post_body_accepted']):\n",
    "            print(f\"Accepted Answer: {similar_topics[i]['post_body_accepted']}\")\n",
    "        else:\n",
    "            print(\"No accepted answer.\")\n",
    "        print(\"Comments:\")\n",
    "        comments_text = similar_topics[i]['comments_text']\n",
    "        if comments_text is not None:\n",
    "            for j, comment in enumerate(comments_text.split('\\n')):\n",
    "                print(f\"  {j+1}. {comment}\")\n",
    "        else:\n",
    "            print(\"  No comments found.\")\n"
   ]
  },
  {
   "cell_type": "code",
   "execution_count": null,
   "id": "f8eef756",
   "metadata": {},
   "outputs": [],
   "source": []
  }
 ],
 "metadata": {
  "kernelspec": {
   "display_name": "Python 3 (ipykernel)",
   "language": "python",
   "name": "python3"
  },
  "language_info": {
   "codemirror_mode": {
    "name": "ipython",
    "version": 3
   },
   "file_extension": ".py",
   "mimetype": "text/x-python",
   "name": "python",
   "nbconvert_exporter": "python",
   "pygments_lexer": "ipython3",
   "version": "3.10.5"
  }
 },
 "nbformat": 4,
 "nbformat_minor": 5
}
