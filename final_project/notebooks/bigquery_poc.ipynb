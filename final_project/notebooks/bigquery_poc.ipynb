{
 "cells": [
  {
   "cell_type": "code",
   "execution_count": 6,
   "id": "d3dad52f",
   "metadata": {
    "ExecuteTime": {
     "end_time": "2023-08-03T20:27:05.454462Z",
     "start_time": "2023-08-03T20:26:23.195835Z"
    }
   },
   "outputs": [
    {
     "name": "stdout",
     "output_type": "stream",
     "text": [
      "Collecting google-cloud-bigquery\n",
      "  Using cached google_cloud_bigquery-3.11.4-py2.py3-none-any.whl (219 kB)\n",
      "Requirement already satisfied: grpcio<2.0dev,>=1.47.0 in c:\\users\\dell\\appdata\\local\\programs\\python\\python310\\lib\\site-packages (from google-cloud-bigquery) (1.49.1)\n",
      "Requirement already satisfied: google-api-core[grpc]!=2.0.*,!=2.1.*,!=2.2.*,!=2.3.0,<3.0.0dev,>=1.31.5 in c:\\users\\dell\\appdata\\local\\programs\\python\\python310\\lib\\site-packages (from google-cloud-bigquery) (2.11.0)\n",
      "Collecting proto-plus<2.0.0dev,>=1.15.0 (from google-cloud-bigquery)\n",
      "  Using cached proto_plus-1.22.3-py3-none-any.whl (48 kB)\n",
      "Collecting google-cloud-core<3.0.0dev,>=1.6.0 (from google-cloud-bigquery)\n",
      "  Using cached google_cloud_core-2.3.3-py2.py3-none-any.whl (29 kB)\n",
      "Collecting google-resumable-media<3.0dev,>=0.6.0 (from google-cloud-bigquery)\n",
      "  Using cached google_resumable_media-2.5.0-py2.py3-none-any.whl (77 kB)\n",
      "Requirement already satisfied: packaging>=20.0.0 in c:\\users\\dell\\appdata\\local\\programs\\python\\python310\\lib\\site-packages (from google-cloud-bigquery) (23.1)\n",
      "Requirement already satisfied: protobuf!=3.20.0,!=3.20.1,!=4.21.0,!=4.21.1,!=4.21.2,!=4.21.3,!=4.21.4,!=4.21.5,<5.0.0dev,>=3.19.5 in c:\\users\\dell\\appdata\\local\\programs\\python\\python310\\lib\\site-packages (from google-cloud-bigquery) (3.19.6)\n",
      "Requirement already satisfied: python-dateutil<3.0dev,>=2.7.2 in c:\\users\\dell\\appdata\\local\\programs\\python\\python310\\lib\\site-packages (from google-cloud-bigquery) (2.8.2)\n",
      "Requirement already satisfied: requests<3.0.0dev,>=2.21.0 in c:\\users\\dell\\appdata\\local\\programs\\python\\python310\\lib\\site-packages (from google-cloud-bigquery) (2.28.2)\n",
      "Requirement already satisfied: googleapis-common-protos<2.0dev,>=1.56.2 in c:\\users\\dell\\appdata\\local\\programs\\python\\python310\\lib\\site-packages (from google-api-core[grpc]!=2.0.*,!=2.1.*,!=2.2.*,!=2.3.0,<3.0.0dev,>=1.31.5->google-cloud-bigquery) (1.57.0)\n",
      "Requirement already satisfied: google-auth<3.0dev,>=2.14.1 in c:\\users\\dell\\appdata\\local\\programs\\python\\python310\\lib\\site-packages (from google-api-core[grpc]!=2.0.*,!=2.1.*,!=2.2.*,!=2.3.0,<3.0.0dev,>=1.31.5->google-cloud-bigquery) (2.17.3)\n",
      "Collecting grpcio-status<2.0dev,>=1.33.2 (from google-api-core[grpc]!=2.0.*,!=2.1.*,!=2.2.*,!=2.3.0,<3.0.0dev,>=1.31.5->google-cloud-bigquery)\n",
      "  Using cached grpcio_status-1.56.2-py3-none-any.whl (5.1 kB)\n",
      "Collecting google-crc32c<2.0dev,>=1.0 (from google-resumable-media<3.0dev,>=0.6.0->google-cloud-bigquery)\n",
      "  Using cached google_crc32c-1.5.0-cp310-cp310-win_amd64.whl (27 kB)\n",
      "Requirement already satisfied: six>=1.5.2 in c:\\users\\dell\\appdata\\local\\programs\\python\\python310\\lib\\site-packages (from grpcio<2.0dev,>=1.47.0->google-cloud-bigquery) (1.16.0)\n",
      "Requirement already satisfied: charset-normalizer<4,>=2 in c:\\users\\dell\\appdata\\local\\programs\\python\\python310\\lib\\site-packages (from requests<3.0.0dev,>=2.21.0->google-cloud-bigquery) (2.1.1)\n",
      "Requirement already satisfied: idna<4,>=2.5 in c:\\users\\dell\\appdata\\local\\programs\\python\\python310\\lib\\site-packages (from requests<3.0.0dev,>=2.21.0->google-cloud-bigquery) (3.4)\n",
      "Requirement already satisfied: urllib3<1.27,>=1.21.1 in c:\\users\\dell\\appdata\\local\\programs\\python\\python310\\lib\\site-packages (from requests<3.0.0dev,>=2.21.0->google-cloud-bigquery) (1.26.12)\n",
      "Requirement already satisfied: certifi>=2017.4.17 in c:\\users\\dell\\appdata\\local\\programs\\python\\python310\\lib\\site-packages (from requests<3.0.0dev,>=2.21.0->google-cloud-bigquery) (2022.9.24)\n",
      "Requirement already satisfied: cachetools<6.0,>=2.0.0 in c:\\users\\dell\\appdata\\local\\programs\\python\\python310\\lib\\site-packages (from google-auth<3.0dev,>=2.14.1->google-api-core[grpc]!=2.0.*,!=2.1.*,!=2.2.*,!=2.3.0,<3.0.0dev,>=1.31.5->google-cloud-bigquery) (5.2.0)\n",
      "Requirement already satisfied: pyasn1-modules>=0.2.1 in c:\\users\\dell\\appdata\\local\\programs\\python\\python310\\lib\\site-packages (from google-auth<3.0dev,>=2.14.1->google-api-core[grpc]!=2.0.*,!=2.1.*,!=2.2.*,!=2.3.0,<3.0.0dev,>=1.31.5->google-cloud-bigquery) (0.2.8)\n",
      "Requirement already satisfied: rsa<5,>=3.1.4 in c:\\users\\dell\\appdata\\local\\programs\\python\\python310\\lib\\site-packages (from google-auth<3.0dev,>=2.14.1->google-api-core[grpc]!=2.0.*,!=2.1.*,!=2.2.*,!=2.3.0,<3.0.0dev,>=1.31.5->google-cloud-bigquery) (4.9)\n",
      "Collecting protobuf!=3.20.0,!=3.20.1,!=4.21.0,!=4.21.1,!=4.21.2,!=4.21.3,!=4.21.4,!=4.21.5,<5.0.0dev,>=3.19.5 (from google-cloud-bigquery)\n",
      "  Using cached protobuf-4.23.4-cp310-abi3-win_amd64.whl (422 kB)\n",
      "Collecting grpcio<2.0dev,>=1.47.0 (from google-cloud-bigquery)\n",
      "  Downloading grpcio-1.56.2-cp310-cp310-win_amd64.whl (4.2 MB)\n",
      "     ---------------------------------------- 4.2/4.2 MB 4.2 MB/s eta 0:00:00\n",
      "Requirement already satisfied: pyasn1<0.5.0,>=0.4.6 in c:\\users\\dell\\appdata\\local\\programs\\python\\python310\\lib\\site-packages (from pyasn1-modules>=0.2.1->google-auth<3.0dev,>=2.14.1->google-api-core[grpc]!=2.0.*,!=2.1.*,!=2.2.*,!=2.3.0,<3.0.0dev,>=1.31.5->google-cloud-bigquery) (0.4.8)\n",
      "Installing collected packages: protobuf, grpcio, google-crc32c, proto-plus, google-resumable-media, grpcio-status, google-cloud-core, google-cloud-bigquery\n",
      "  Attempting uninstall: protobuf\n",
      "    Found existing installation: protobuf 3.19.6\n",
      "    Uninstalling protobuf-3.19.6:\n",
      "      Successfully uninstalled protobuf-3.19.6\n",
      "  Attempting uninstall: grpcio\n",
      "    Found existing installation: grpcio 1.49.1\n",
      "    Uninstalling grpcio-1.49.1:\n",
      "      Successfully uninstalled grpcio-1.49.1\n",
      "Successfully installed google-cloud-bigquery-3.11.4 google-cloud-core-2.3.3 google-crc32c-1.5.0 google-resumable-media-2.5.0 grpcio-1.56.2 grpcio-status-1.56.2 proto-plus-1.22.3 protobuf-4.23.4\n",
      "Note: you may need to restart the kernel to use updated packages.\n"
     ]
    },
    {
     "name": "stderr",
     "output_type": "stream",
     "text": [
      "ERROR: pip's dependency resolver does not currently take into account all the packages that are installed. This behaviour is the source of the following dependency conflicts.\n",
      "mysql-connector-python 8.0.32 requires protobuf<=3.20.3,>=3.11.0, but you have protobuf 4.23.4 which is incompatible.\n",
      "tensorboard 2.11.0 requires protobuf<4,>=3.9.2, but you have protobuf 4.23.4 which is incompatible.\n",
      "tensorflow-intel 2.11.0 requires protobuf<3.20,>=3.9.2, but you have protobuf 4.23.4 which is incompatible.\n",
      "tensorflow-metadata 1.11.0 requires protobuf<4,>=3.13, but you have protobuf 4.23.4 which is incompatible.\n",
      "\n",
      "[notice] A new release of pip is available: 23.1 -> 23.2.1\n",
      "[notice] To update, run: python.exe -m pip install --upgrade pip\n"
     ]
    }
   ],
   "source": [
    "pip install google-cloud-bigquery"
   ]
  },
  {
   "cell_type": "code",
   "execution_count": 7,
   "id": "5caa68cb",
   "metadata": {
    "ExecuteTime": {
     "end_time": "2023-08-03T21:29:51.353518Z",
     "start_time": "2023-08-03T21:29:37.294124Z"
    }
   },
   "outputs": [
    {
     "name": "stdout",
     "output_type": "stream",
     "text": [
      "Collecting db-dtypes\n",
      "  Using cached db_dtypes-1.1.1-py2.py3-none-any.whl (14 kB)\n",
      "Requirement already satisfied: packaging>=17.0 in c:\\users\\dell\\appdata\\local\\programs\\python\\python310\\lib\\site-packages (from db-dtypes) (23.1)\n",
      "Requirement already satisfied: pandas>=0.24.2 in c:\\users\\dell\\appdata\\local\\programs\\python\\python310\\lib\\site-packages (from db-dtypes) (1.5.1)\n",
      "Collecting pyarrow>=3.0.0 (from db-dtypes)\n",
      "  Using cached pyarrow-12.0.1-cp310-cp310-win_amd64.whl (21.5 MB)\n",
      "Requirement already satisfied: numpy>=1.16.6 in c:\\users\\dell\\appdata\\local\\programs\\python\\python310\\lib\\site-packages (from db-dtypes) (1.23.5)\n",
      "Requirement already satisfied: python-dateutil>=2.8.1 in c:\\users\\dell\\appdata\\local\\programs\\python\\python310\\lib\\site-packages (from pandas>=0.24.2->db-dtypes) (2.8.2)\n",
      "Requirement already satisfied: pytz>=2020.1 in c:\\users\\dell\\appdata\\local\\programs\\python\\python310\\lib\\site-packages (from pandas>=0.24.2->db-dtypes) (2022.2.1)\n",
      "Requirement already satisfied: six>=1.5 in c:\\users\\dell\\appdata\\local\\programs\\python\\python310\\lib\\site-packages (from python-dateutil>=2.8.1->pandas>=0.24.2->db-dtypes) (1.16.0)\n",
      "Installing collected packages: pyarrow, db-dtypes\n",
      "Successfully installed db-dtypes-1.1.1 pyarrow-12.0.1\n",
      "Note: you may need to restart the kernel to use updated packages.\n"
     ]
    },
    {
     "name": "stderr",
     "output_type": "stream",
     "text": [
      "\n",
      "[notice] A new release of pip is available: 23.1 -> 23.2.1\n",
      "[notice] To update, run: python.exe -m pip install --upgrade pip\n"
     ]
    }
   ],
   "source": [
    "pip install db-dtypes"
   ]
  },
  {
   "cell_type": "code",
   "execution_count": 43,
   "id": "8ef5346d",
   "metadata": {
    "ExecuteTime": {
     "end_time": "2023-08-03T21:30:45.073438Z",
     "start_time": "2023-08-03T21:30:38.936619Z"
    }
   },
   "outputs": [],
   "source": [
    "from google.cloud import bigquery\n",
    "import pandas\n",
    "\n",
    "# Set up BigQuery client with explicit project ID\n",
    "bq_client = bigquery.Client(project='stackai-394819')\n",
    "\n",
    "# Set up query\n",
    "query = \"\"\"\n",
    "    SELECT *\n",
    "    FROM `stackai-394819.StackAI.posts_cleaned`\n",
    "\"\"\"\n",
    "\n",
    "# Run query and fetch results into pandas DataFrame\n",
    "df = bq_client.query(query).to_dataframe()\n"
   ]
  },
  {
   "cell_type": "code",
   "execution_count": 44,
   "id": "c01fce2a",
   "metadata": {},
   "outputs": [],
   "source": [
    "# Concatenate relevant columns for embedding, handling NaN values\n",
    "relevant_text = df.apply(lambda row: ' '.join(filter(lambda x: pd.notna(x), [row['question_title'], row['question_body'] , row['accepted_answer']])), axis=1)\n",
    "\n",
    "# Convert relevant_text to a list\n",
    "relevant_text_list = relevant_text.tolist()\n",
    "\n",
    "# Load the pre-trained Sentence Transformers model\n",
    "model = SentenceTransformer('distilbert-base-nli-stsb-mean-tokens')\n",
    "\n",
    "def generate_embeddings(text):\n",
    "    embeddings = model.encode(text)\n",
    "    return embeddings\n",
    "\n",
    "# Generate embeddings for relevant data\n",
    "data_embeddings = generate_embeddings(relevant_text_list)\n",
    "\n",
    "# Add new column to DataFrame with embeddings\n",
    "df['embeddings'] = data_embeddings.tolist()"
   ]
  },
  {
   "cell_type": "code",
   "execution_count": 45,
   "id": "db8e1444",
   "metadata": {},
   "outputs": [
    {
     "data": {
      "text/plain": [
       "0      [-0.011609231121838093, 0.37894147634506226, 0...\n",
       "1      [-0.6155633330345154, 0.24588115513324738, 0.0...\n",
       "2      [-0.25975582003593445, 0.4285120368003845, 0.2...\n",
       "3      [-0.8276649713516235, 0.3956160545349121, 0.14...\n",
       "4      [-0.32777541875839233, -0.05247429013252258, 0...\n",
       "                             ...                        \n",
       "495    [-1.0283185243606567, 0.6513798236846924, 0.00...\n",
       "496    [-0.33344218134880066, 0.2886114716529846, 0.2...\n",
       "497    [-0.41436970233917236, 0.6520484685897827, 0.5...\n",
       "498    [-0.2258448600769043, 0.6035326719284058, 0.28...\n",
       "499    [-0.6599689722061157, 0.8397446870803833, 0.50...\n",
       "Name: embeddings, Length: 500, dtype: object"
      ]
     },
     "execution_count": 45,
     "metadata": {},
     "output_type": "execute_result"
    }
   ],
   "source": [
    "df['embeddings']"
   ]
  },
  {
   "cell_type": "code",
   "execution_count": 46,
   "id": "b2810ca0",
   "metadata": {},
   "outputs": [
    {
     "name": "stderr",
     "output_type": "stream",
     "text": [
      "c:\\Users\\Dell\\AppData\\Local\\Programs\\Python\\Python310\\lib\\site-packages\\google\\cloud\\bigquery\\_pandas_helpers.py:603: UserWarning: Pyarrow could not determine the type of columns: accepted_answer_view_count.\n",
      "  warnings.warn(\n"
     ]
    },
    {
     "data": {
      "text/plain": [
       "LoadJob<project=stackai-394819, location=US, id=7f0a479b-c31a-45b4-a7b5-ed192e0bf8bc>"
      ]
     },
     "execution_count": 46,
     "metadata": {},
     "output_type": "execute_result"
    }
   ],
   "source": [
    "# Update BigQuery table with new column\n",
    "job_config = bigquery.LoadJobConfig(\n",
    "    write_disposition=\"WRITE_TRUNCATE\",\n",
    "    schema=[\n",
    "        bigquery.SchemaField(\"embeddings\", \"STRING\"),\n",
    "    ],\n",
    ")\n",
    "\n",
    "job = bq_client.load_table_from_dataframe(\n",
    "    df, 'stackai-394819.StackAI.posts_cleaned', job_config=job_config\n",
    ")\n",
    "job.result()"
   ]
  },
  {
   "cell_type": "code",
   "execution_count": 20,
   "id": "50a301fa",
   "metadata": {
    "ExecuteTime": {
     "end_time": "2023-08-03T21:30:57.080195Z",
     "start_time": "2023-08-03T21:30:57.014194Z"
    }
   },
   "outputs": [
    {
     "data": {
      "text/html": [
       "<div>\n",
       "<style scoped>\n",
       "    .dataframe tbody tr th:only-of-type {\n",
       "        vertical-align: middle;\n",
       "    }\n",
       "\n",
       "    .dataframe tbody tr th {\n",
       "        vertical-align: top;\n",
       "    }\n",
       "\n",
       "    .dataframe thead th {\n",
       "        text-align: right;\n",
       "    }\n",
       "</style>\n",
       "<table border=\"1\" class=\"dataframe\">\n",
       "  <thead>\n",
       "    <tr style=\"text-align: right;\">\n",
       "      <th></th>\n",
       "      <th>question_id</th>\n",
       "      <th>question_title</th>\n",
       "      <th>question_body</th>\n",
       "      <th>question_tags</th>\n",
       "      <th>accepted_answer</th>\n",
       "      <th>question_creation_date</th>\n",
       "      <th>accepted_answer_creation_date</th>\n",
       "      <th>accepted_answer_owner_display_name</th>\n",
       "      <th>accepted_answer_score</th>\n",
       "      <th>accepted_answer_view_count</th>\n",
       "    </tr>\n",
       "  </thead>\n",
       "  <tbody>\n",
       "    <tr>\n",
       "      <th>0</th>\n",
       "      <td>2989926</td>\n",
       "      <td>Can I chain database links in Oracle?</td>\n",
       "      <td>&lt;p&gt;I have 3 databases.  1 links to 2, 2 links ...</td>\n",
       "      <td>sql|oracle|database-link</td>\n",
       "      <td>&lt;p&gt;I think you can do this by creating synonym...</td>\n",
       "      <td>2010-06-07 13:31:03.560000+00:00</td>\n",
       "      <td>2010-06-07 13:38:27.300000+00:00</td>\n",
       "      <td>Thomas Jones-Low</td>\n",
       "      <td>12</td>\n",
       "      <td>None</td>\n",
       "    </tr>\n",
       "    <tr>\n",
       "      <th>1</th>\n",
       "      <td>479408</td>\n",
       "      <td>Execute Statement or Run Script?</td>\n",
       "      <td>&lt;p&gt;While entering a SQL statement in Oracle SQ...</td>\n",
       "      <td>sql|database|oracle|oracle-sqldeveloper</td>\n",
       "      <td>&lt;p&gt;&lt;kbd&gt;Run Statement&lt;/kbd&gt; will give you a li...</td>\n",
       "      <td>2009-01-26 10:58:09.917000+00:00</td>\n",
       "      <td>2009-01-26 11:10:41.703000+00:00</td>\n",
       "      <td>Greg Reynolds</td>\n",
       "      <td>30</td>\n",
       "      <td>None</td>\n",
       "    </tr>\n",
       "    <tr>\n",
       "      <th>2</th>\n",
       "      <td>843242</td>\n",
       "      <td>Dropping then adding a constraint fails in oracle</td>\n",
       "      <td>&lt;p&gt;I'm trying to move a primary key constraint...</td>\n",
       "      <td>sql|oracle</td>\n",
       "      <td>&lt;p&gt;If the original constraint was a primary ke...</td>\n",
       "      <td>2009-05-09 12:46:39.020000+00:00</td>\n",
       "      <td>2009-05-09 13:36:33.950000+00:00</td>\n",
       "      <td>Thomas Jones-Low</td>\n",
       "      <td>11</td>\n",
       "      <td>None</td>\n",
       "    </tr>\n",
       "    <tr>\n",
       "      <th>3</th>\n",
       "      <td>1692538</td>\n",
       "      <td>What is the difference between primary, unique...</td>\n",
       "      <td>&lt;p&gt;What is the difference between &lt;code&gt;primar...</td>\n",
       "      <td>sql-server|database|oracle|constraints|indexing</td>\n",
       "      <td>&lt;p&gt;Primary Key and Unique Key are Entity integ...</td>\n",
       "      <td>2009-11-07 09:25:06.003000+00:00</td>\n",
       "      <td>2009-11-07 09:37:16.537000+00:00</td>\n",
       "      <td>Nadir SOUALEM</td>\n",
       "      <td>26</td>\n",
       "      <td>None</td>\n",
       "    </tr>\n",
       "    <tr>\n",
       "      <th>4</th>\n",
       "      <td>626267</td>\n",
       "      <td>What Situations Cause Oracle Packages to Becom...</td>\n",
       "      <td>&lt;p&gt;The scenario that created this question:  &lt;...</td>\n",
       "      <td>oracle|plsql|package|dependencies</td>\n",
       "      <td>&lt;p&gt;Changing anything object that a package rel...</td>\n",
       "      <td>2009-03-09 13:37:48.747000+00:00</td>\n",
       "      <td>2009-03-09 14:46:01.923000+00:00</td>\n",
       "      <td>Thomas Jones-Low</td>\n",
       "      <td>15</td>\n",
       "      <td>None</td>\n",
       "    </tr>\n",
       "  </tbody>\n",
       "</table>\n",
       "</div>"
      ],
      "text/plain": [
       "   question_id                                     question_title  \\\n",
       "0      2989926              Can I chain database links in Oracle?   \n",
       "1       479408                   Execute Statement or Run Script?   \n",
       "2       843242  Dropping then adding a constraint fails in oracle   \n",
       "3      1692538  What is the difference between primary, unique...   \n",
       "4       626267  What Situations Cause Oracle Packages to Becom...   \n",
       "\n",
       "                                       question_body  \\\n",
       "0  <p>I have 3 databases.  1 links to 2, 2 links ...   \n",
       "1  <p>While entering a SQL statement in Oracle SQ...   \n",
       "2  <p>I'm trying to move a primary key constraint...   \n",
       "3  <p>What is the difference between <code>primar...   \n",
       "4  <p>The scenario that created this question:  <...   \n",
       "\n",
       "                                     question_tags  \\\n",
       "0                         sql|oracle|database-link   \n",
       "1          sql|database|oracle|oracle-sqldeveloper   \n",
       "2                                       sql|oracle   \n",
       "3  sql-server|database|oracle|constraints|indexing   \n",
       "4                oracle|plsql|package|dependencies   \n",
       "\n",
       "                                     accepted_answer  \\\n",
       "0  <p>I think you can do this by creating synonym...   \n",
       "1  <p><kbd>Run Statement</kbd> will give you a li...   \n",
       "2  <p>If the original constraint was a primary ke...   \n",
       "3  <p>Primary Key and Unique Key are Entity integ...   \n",
       "4  <p>Changing anything object that a package rel...   \n",
       "\n",
       "            question_creation_date    accepted_answer_creation_date  \\\n",
       "0 2010-06-07 13:31:03.560000+00:00 2010-06-07 13:38:27.300000+00:00   \n",
       "1 2009-01-26 10:58:09.917000+00:00 2009-01-26 11:10:41.703000+00:00   \n",
       "2 2009-05-09 12:46:39.020000+00:00 2009-05-09 13:36:33.950000+00:00   \n",
       "3 2009-11-07 09:25:06.003000+00:00 2009-11-07 09:37:16.537000+00:00   \n",
       "4 2009-03-09 13:37:48.747000+00:00 2009-03-09 14:46:01.923000+00:00   \n",
       "\n",
       "  accepted_answer_owner_display_name  accepted_answer_score  \\\n",
       "0                   Thomas Jones-Low                     12   \n",
       "1                      Greg Reynolds                     30   \n",
       "2                   Thomas Jones-Low                     11   \n",
       "3                      Nadir SOUALEM                     26   \n",
       "4                   Thomas Jones-Low                     15   \n",
       "\n",
       "  accepted_answer_view_count  \n",
       "0                       None  \n",
       "1                       None  \n",
       "2                       None  \n",
       "3                       None  \n",
       "4                       None  "
      ]
     },
     "execution_count": 20,
     "metadata": {},
     "output_type": "execute_result"
    }
   ],
   "source": [
    "df.head()"
   ]
  },
  {
   "cell_type": "code",
   "execution_count": 21,
   "id": "53644d79",
   "metadata": {
    "ExecuteTime": {
     "end_time": "2023-08-03T21:31:38.603411Z",
     "start_time": "2023-08-03T21:31:38.575405Z"
    }
   },
   "outputs": [
    {
     "data": {
      "text/plain": [
       "question_id                                         Int64\n",
       "question_title                                     object\n",
       "question_body                                      object\n",
       "question_tags                                      object\n",
       "accepted_answer                                    object\n",
       "question_creation_date                datetime64[ns, UTC]\n",
       "accepted_answer_creation_date         datetime64[ns, UTC]\n",
       "accepted_answer_owner_display_name                 object\n",
       "accepted_answer_score                               Int64\n",
       "accepted_answer_view_count                         object\n",
       "dtype: object"
      ]
     },
     "execution_count": 21,
     "metadata": {},
     "output_type": "execute_result"
    }
   ],
   "source": [
    "df.dtypes"
   ]
  },
  {
   "cell_type": "code",
   "execution_count": 22,
   "id": "1d872f4b",
   "metadata": {
    "ExecuteTime": {
     "end_time": "2023-08-03T21:31:45.991021Z",
     "start_time": "2023-08-03T21:31:45.975020Z"
    }
   },
   "outputs": [
    {
     "data": {
      "text/plain": [
       "(500, 10)"
      ]
     },
     "execution_count": 22,
     "metadata": {},
     "output_type": "execute_result"
    }
   ],
   "source": [
    "df.shape"
   ]
  },
  {
   "cell_type": "code",
   "execution_count": 23,
   "id": "5634e570",
   "metadata": {},
   "outputs": [],
   "source": [
    "from google.cloud import bigquery\n",
    "import pandas\n",
    "\n",
    "# Set up BigQuery client with explicit project ID\n",
    "bq_client = bigquery.Client(project='stackai-394819')\n",
    "\n",
    "# Set up query\n",
    "query = \"\"\"\n",
    "    SELECT *\n",
    "    FROM `stackai-394819.StackAI.comments_cleaned`\n",
    "\"\"\"\n",
    "\n",
    "# Run query and fetch results into pandas DataFrame\n",
    "df2 = bq_client.query(query).to_dataframe()"
   ]
  },
  {
   "cell_type": "code",
   "execution_count": 24,
   "id": "b28cdebb",
   "metadata": {},
   "outputs": [
    {
     "data": {
      "text/html": [
       "<div>\n",
       "<style scoped>\n",
       "    .dataframe tbody tr th:only-of-type {\n",
       "        vertical-align: middle;\n",
       "    }\n",
       "\n",
       "    .dataframe tbody tr th {\n",
       "        vertical-align: top;\n",
       "    }\n",
       "\n",
       "    .dataframe thead th {\n",
       "        text-align: right;\n",
       "    }\n",
       "</style>\n",
       "<table border=\"1\" class=\"dataframe\">\n",
       "  <thead>\n",
       "    <tr style=\"text-align: right;\">\n",
       "      <th></th>\n",
       "      <th>post_id</th>\n",
       "      <th>text</th>\n",
       "      <th>creation_date</th>\n",
       "      <th>score</th>\n",
       "    </tr>\n",
       "  </thead>\n",
       "  <tbody>\n",
       "    <tr>\n",
       "      <th>0</th>\n",
       "      <td>31124058</td>\n",
       "      <td>thanks but that doesn't show how to enable out...</td>\n",
       "      <td>2015-06-29 20:16:12.830000+00:00</td>\n",
       "      <td>0</td>\n",
       "    </tr>\n",
       "    <tr>\n",
       "      <th>1</th>\n",
       "      <td>31124058</td>\n",
       "      <td>You are correct - it is the 'bulb' icon!  I ca...</td>\n",
       "      <td>2015-06-29 20:17:22.557000+00:00</td>\n",
       "      <td>0</td>\n",
       "    </tr>\n",
       "    <tr>\n",
       "      <th>2</th>\n",
       "      <td>30437541</td>\n",
       "      <td>@Ben This issue was with Data formats, I chang...</td>\n",
       "      <td>2015-07-03 09:12:24.610000+00:00</td>\n",
       "      <td>0</td>\n",
       "    </tr>\n",
       "    <tr>\n",
       "      <th>3</th>\n",
       "      <td>31532522</td>\n",
       "      <td>You don't have any values defined for `n` in t...</td>\n",
       "      <td>2015-07-21 07:15:44.393000+00:00</td>\n",
       "      <td>0</td>\n",
       "    </tr>\n",
       "    <tr>\n",
       "      <th>4</th>\n",
       "      <td>31532522</td>\n",
       "      <td>It would be nice if you showed what the result...</td>\n",
       "      <td>2015-07-22 04:58:03.200000+00:00</td>\n",
       "      <td>0</td>\n",
       "    </tr>\n",
       "  </tbody>\n",
       "</table>\n",
       "</div>"
      ],
      "text/plain": [
       "    post_id                                               text  \\\n",
       "0  31124058  thanks but that doesn't show how to enable out...   \n",
       "1  31124058  You are correct - it is the 'bulb' icon!  I ca...   \n",
       "2  30437541  @Ben This issue was with Data formats, I chang...   \n",
       "3  31532522  You don't have any values defined for `n` in t...   \n",
       "4  31532522  It would be nice if you showed what the result...   \n",
       "\n",
       "                     creation_date  score  \n",
       "0 2015-06-29 20:16:12.830000+00:00      0  \n",
       "1 2015-06-29 20:17:22.557000+00:00      0  \n",
       "2 2015-07-03 09:12:24.610000+00:00      0  \n",
       "3 2015-07-21 07:15:44.393000+00:00      0  \n",
       "4 2015-07-22 04:58:03.200000+00:00      0  "
      ]
     },
     "execution_count": 24,
     "metadata": {},
     "output_type": "execute_result"
    }
   ],
   "source": [
    "df2.head()"
   ]
  },
  {
   "cell_type": "code",
   "execution_count": 26,
   "id": "4ebc1348",
   "metadata": {},
   "outputs": [
    {
     "data": {
      "text/plain": [
       "post_id                        Int64\n",
       "text                          object\n",
       "creation_date    datetime64[ns, UTC]\n",
       "score                          Int64\n",
       "dtype: object"
      ]
     },
     "execution_count": 26,
     "metadata": {},
     "output_type": "execute_result"
    }
   ],
   "source": [
    "df2.dtypes"
   ]
  },
  {
   "cell_type": "code",
   "execution_count": 27,
   "id": "7251427b",
   "metadata": {},
   "outputs": [
    {
     "data": {
      "text/plain": [
       "(1215, 4)"
      ]
     },
     "execution_count": 27,
     "metadata": {},
     "output_type": "execute_result"
    }
   ],
   "source": [
    "df2.shape"
   ]
  },
  {
   "cell_type": "code",
   "execution_count": 12,
   "id": "0a8b35d5",
   "metadata": {
    "ExecuteTime": {
     "end_time": "2023-08-03T23:55:43.227235Z",
     "start_time": "2023-08-03T23:55:13.640240Z"
    }
   },
   "outputs": [],
   "source": [
    "import pandas as pd\n",
    "from sentence_transformers import SentenceTransformer\n",
    "import numpy as np\n",
    "from sklearn.metrics.pairwise import cosine_similarity\n",
    "from langchain.llms.openai import OpenAI\n",
    "from langchain.chains.summarize import load_summarize_chain\n",
    "from scipy.spatial.distance import cdist\n",
    "import openai"
   ]
  },
  {
   "cell_type": "code",
   "execution_count": 13,
   "id": "0c55f97e",
   "metadata": {
    "ExecuteTime": {
     "end_time": "2023-08-03T23:55:43.249235Z",
     "start_time": "2023-08-03T23:55:43.249235Z"
    }
   },
   "outputs": [],
   "source": [
    "# Load the pre-trained Sentence Transformers model\n",
    "model = SentenceTransformer('distilbert-base-nli-stsb-mean-tokens')"
   ]
  },
  {
   "cell_type": "code",
   "execution_count": 15,
   "id": "b725851e",
   "metadata": {},
   "outputs": [],
   "source": [
    "# Preprocessing function to convert tags from string to list\n",
    "def process_tags(Tags):\n",
    "    if pd.isna(Tags):  # Handle NaN values\n",
    "        return []      # Return an empty list for NaN values\n",
    "    return Tags.split(',')\n",
    "\n",
    "# Apply the preprocessing to the 'Tags' column (uppercase \"T\")\n",
    "df['question_tags'] = df['question_tags'].apply(process_tags)\n",
    "\n",
    "def generate_embeddings(text):\n",
    "    embeddings = model.encode(text)\n",
    "    return embeddings\n",
    "\n",
    "def filter_data(user_input_tag):\n",
    "    filtered_data = df\n",
    "\n",
    "    # Keep only data for the user input tag\n",
    "    filtered_data = filtered_data[filtered_data['question_tags'].apply(lambda tags: user_input_tag in tags)]\n",
    "\n",
    "    return filtered_data"
   ]
  },
  {
   "cell_type": "code",
   "execution_count": 47,
   "id": "9df90b8f",
   "metadata": {},
   "outputs": [],
   "source": [
    "def topic_relevance_search(user_input, user_input_tag):\n",
    "    # Filter data based on user input tag and \"PostTypeId\"\n",
    "    filtered_data = filter_data(user_input_tag)\n",
    "\n",
    "    # Check if there is relevant data for the user input tag\n",
    "    if filtered_data.empty:\n",
    "        print(f\"No relevant data found for the tag '{user_input_tag}'.\")\n",
    "        return []\n",
    "\n",
    "    # Fetch embeddings from BigQuery table\n",
    "    data_embeddings = np.array(filtered_data['embeddings'].tolist())\n",
    "\n",
    "    # Generate embedding for user input\n",
    "    user_embedding = generate_embeddings([user_input])\n",
    "\n",
    "    # Calculate cosine similarity between user input and data embeddings\n",
    "    similarity_scores = cosine_similarity(user_embedding, data_embeddings)[0]\n",
    "\n",
    "    # Sort the data by similarity scores in descending order and select top 5 rows\n",
    "    top_indices = np.argsort(similarity_scores)[::-1][:5]\n",
    "    \n",
    "    top_similar_topics = filtered_data.iloc[top_indices][['question_id', 'question_title', 'question_body', 'accepted_answer']].to_dict('records')\n",
    "    \n",
    "    top_similarity_scores = similarity_scores[top_indices]\n",
    "\n",
    "    return top_similar_topics, top_similarity_scores\n"
   ]
  },
  {
   "cell_type": "code",
   "execution_count": 49,
   "id": "85361266",
   "metadata": {},
   "outputs": [
    {
     "name": "stdout",
     "output_type": "stream",
     "text": [
      "Most similar topics:\n",
      "1. Question ID: 1371192 : Oracle: find index creation date from systables/information_schema? (similarity score: 0.70)\n",
      "2. Question ID: 19926959 : How to get root by recursive oracle query in Hibernate (similarity score: 0.67)\n",
      "3. Question ID: 38267997 : create sql Database from ER diagram (similarity score: 0.66)\n",
      "4. Question ID: 21990025 : What is the Default Date Format in Oracle? (similarity score: 0.65)\n",
      "5. Question ID: 14590344 : Oracle SQLDeveloper: How to search which tables have a column matching given query? (similarity score: 0.64)\n"
     ]
    }
   ],
   "source": [
    "if __name__ == \"__main__\":\n",
    "    # Example usage:\n",
    "    user_question = \"How to setup oracle database?\"\n",
    "    user_tag = \"sql|oracle\"\n",
    "    \n",
    "\n",
    "    similar_topics, similarity_scores = topic_relevance_search(user_question, user_tag)\n",
    "    \n",
    "    print(\"Most similar topics:\")\n",
    "    \n",
    "    for i in range(len(similar_topics)):\n",
    "        question_id, question_title, question_body, accepted_answer = similar_topics[i]['question_id'], similar_topics[i]['question_title'], similar_topics[i]['question_body'], similar_topics[i]['accepted_answer']\n",
    "        \n",
    "        print(f\"{i+1}. Question ID: {question_id} : {question_title} (similarity score: {similarity_scores[i]:.2f})\")"
   ]
  },
  {
   "cell_type": "code",
   "execution_count": 32,
   "id": "4253598e",
   "metadata": {},
   "outputs": [
    {
     "name": "stdout",
     "output_type": "stream",
     "text": [
      "\n",
      "Selected topic: Dropping then adding a constraint fails in oracle\n",
      "Accepted answer: <p>If the original constraint was a primary key constraint, Oracle creates an index to enforce the constraint. This index has the same name as the constraint (C_NAME in your example). You need to drop the index separately from the constraint. So you will need to do a :</p>\n",
      "\n",
      "<pre><code>ALTER TABLE &lt;table1&gt; DROP CONSTRAINT C_NAME;\n",
      "DROP INDEX C_NAME;\n",
      "\n",
      "ALTER TABLE &lt;table1&gt; ADD CONSTRAINT C_NAME PRIMARY KEY\n",
      "( COLUMN_2 ) ENABLE;\n",
      "</code></pre>\n",
      "Comments:\n",
      "\t- You need to specify the table name somewhere along the line :D\n"
     ]
    }
   ],
   "source": [
    "selected_topic_question_id = 843242\n",
    "    \n",
    "selected_topic_index = next(i for i in range(len(similar_topics)) if similar_topics[i]['question_id'] == selected_topic_question_id)\n",
    "    \n",
    "selected_topic = similar_topics[selected_topic_index]\n",
    "    \n",
    "question_id, question_title, question_body, accepted_answer = selected_topic['question_id'], selected_topic['question_title'], selected_topic['question_body'], selected_topic['accepted_answer']\n",
    "    \n",
    "print(f\"\\nSelected topic: {question_title}\")\n",
    "    \n",
    "if pd.isna(accepted_answer):\n",
    "        print(\"No accepted answer\")\n",
    "        accepted_answer_text = \"\"\n",
    "else:\n",
    "        print(f\"Accepted answer: {accepted_answer}\")\n",
    "        accepted_answer_text = f\"\\n\\nAccepted answer:\\n{accepted_answer}\"\n",
    "    \n",
    "    \n",
    "post_comments = df2[df2['post_id'] == question_id]\n",
    "    \n",
    "comments_text = \"\"\n",
    "if not post_comments.empty:\n",
    "        print(\"Comments:\")\n",
    "        for comment in post_comments['text']:\n",
    "            print(f\"\\t- {comment}\")\n",
    "            comments_text += f\"\\n- {comment}\"\n",
    "    "
   ]
  },
  {
   "cell_type": "code",
   "execution_count": 34,
   "id": "c5d9785f",
   "metadata": {},
   "outputs": [],
   "source": [
    "class Document:\n",
    "    def __init__(self, page_content):\n",
    "        self.page_content = page_content\n",
    "        self.metadata = {}"
   ]
  },
  {
   "cell_type": "code",
   "execution_count": 35,
   "id": "04f2e3a5",
   "metadata": {},
   "outputs": [],
   "source": [
    "data = f\"{question_title}{question_body}{accepted_answer}\\n\\nComments:{comments_text}\"\n",
    "# Create a Document object from the data string\n",
    "doc = Document(page_content=data)"
   ]
  },
  {
   "cell_type": "code",
   "execution_count": 38,
   "id": "7dcfee3a",
   "metadata": {},
   "outputs": [
    {
     "name": "stdout",
     "output_type": "stream",
     "text": [
      "summary of the post - Dropping then adding a constraint fails in oracle :   When trying to move a primary key constraint to a different column in Oracle, the attempt fails with an error saying the constraint already exists. To fix this, the index associated with the constraint must be dropped separately from the constraint before adding the new constraint. The table name must also be specified.\n"
     ]
    }
   ],
   "source": [
    "# Initialize the OpenAI module and load the summarize chain\n",
    "llm = OpenAI(temperature=0, openai_api_key=\"\")\n",
    "chain = load_summarize_chain(llm, chain_type=\"stuff\")\n",
    "\n",
    "# Use the string variable as input to the summarization chain\n",
    "summary = chain.run(input_documents=[doc], question=\"Write a concise summary within 300 words.\")\n",
    "#print summary of post title\n",
    "print(f\"summary of the post - {question_title} : \", summary)"
   ]
  },
  {
   "cell_type": "code",
   "execution_count": 40,
   "id": "586c1a0f",
   "metadata": {},
   "outputs": [],
   "source": [
    "openai_api_key = \"\"\n",
    "# User input\n",
    "user_input = \"Dropping then adding a constraint fails in oracle\"\n",
    "# Concatenate the data: post_title, post_text, accepted_answer_text, and comments_text\n",
    "data = f\"{question_title}{question_body}{accepted_answer}\\n\\nComments:{comments_text}\"\n",
    "openai.api_key = openai_api_key"
   ]
  },
  {
   "cell_type": "code",
   "execution_count": 41,
   "id": "90b46361",
   "metadata": {},
   "outputs": [],
   "source": [
    "def get_openai_response(user_input, data):\n",
    "    # Define the conversation history with system, user, and data messages\n",
    "    conversation = f\"You are a helpful assistant.\\n\\nUser: {user_input}\\n\\nData: {data}\"\n",
    "\n",
    "    # Use the OpenAI API to generate a response\n",
    "    response = openai.ChatCompletion.create(\n",
    "        model=\"gpt-3.5-turbo\",\n",
    "        messages=[\n",
    "            {\"role\": \"system\", \"content\": \"Give the answer to the user input using the data. If the answer doesn't exist in data, create your own answer.\"},\n",
    "            {\"role\": \"user\", \"content\": user_input},\n",
    "            {\"role\": \"system\", \"content\": f\"Data: {data}\"}\n",
    "        ],\n",
    "        temperature=0.2,\n",
    "        max_tokens=500\n",
    "    )\n",
    "\n",
    "    # Extract and return the model-generated answer from the response\n",
    "    return response[\"choices\"][0][\"message\"][\"content\"].strip()"
   ]
  },
  {
   "cell_type": "code",
   "execution_count": 42,
   "id": "eb80a4bb",
   "metadata": {},
   "outputs": [
    {
     "name": "stdout",
     "output_type": "stream",
     "text": [
      "AI: If the original constraint was a primary key constraint, Oracle creates an index to enforce the constraint. This index has the same name as the constraint. You need to drop the index separately from the constraint. So you will need to do a:\n",
      "\n",
      "```\n",
      "ALTER TABLE <table_name> DROP CONSTRAINT <constraint_name>;\n",
      "DROP INDEX <index_name>;\n",
      "\n",
      "ALTER TABLE <table_name> ADD CONSTRAINT <constraint_name> PRIMARY KEY (<column_name>) ENABLE;\n",
      "```\n",
      "\n",
      "Make sure to replace `<table_name>`, `<constraint_name>`, `<index_name>`, and `<column_name>` with the appropriate values for your situation.\n"
     ]
    }
   ],
   "source": [
    "# Get the model's response based on the user input and the given data\n",
    "answer = get_openai_response(user_input, data)\n",
    "\n",
    "# Print the generated answer\n",
    "print(\"AI: \" + answer)"
   ]
  },
  {
   "cell_type": "code",
   "execution_count": null,
   "id": "d7dca792",
   "metadata": {},
   "outputs": [],
   "source": []
  },
  {
   "cell_type": "code",
   "execution_count": null,
   "id": "2dca1a0a",
   "metadata": {},
   "outputs": [],
   "source": []
  },
  {
   "cell_type": "code",
   "execution_count": null,
   "id": "35dafe96",
   "metadata": {},
   "outputs": [],
   "source": []
  }
 ],
 "metadata": {
  "kernelspec": {
   "display_name": "Python 3 (ipykernel)",
   "language": "python",
   "name": "python3"
  },
  "language_info": {
   "codemirror_mode": {
    "name": "ipython",
    "version": 3
   },
   "file_extension": ".py",
   "mimetype": "text/x-python",
   "name": "python",
   "nbconvert_exporter": "python",
   "pygments_lexer": "ipython3",
   "version": "3.10.5"
  }
 },
 "nbformat": 4,
 "nbformat_minor": 5
}
