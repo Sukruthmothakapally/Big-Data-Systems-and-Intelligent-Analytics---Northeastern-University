{
 "cells": [
  {
   "cell_type": "markdown",
   "id": "ea348ef1",
   "metadata": {
    "ExecuteTime": {
     "end_time": "2023-08-02T17:29:25.243789Z",
     "start_time": "2023-08-02T17:29:23.423793Z"
    }
   },
   "source": [
    "# Proof of Concept - StackAI\n",
    "## Contents -\n",
    "1. EDA of the dataset\n",
    "2. Topic Relevance Search\n",
    "3. Topic summarization"
   ]
  },
  {
   "cell_type": "markdown",
   "id": "2a197b6d",
   "metadata": {},
   "source": [
    "### Required modules"
   ]
  },
  {
   "cell_type": "code",
   "execution_count": null,
   "id": "10ef65e4",
   "metadata": {},
   "outputs": [],
   "source": [
    "import pandas as pd\n",
    "from sentence_transformers import SentenceTransformer\n",
    "import numpy as np\n",
    "from sklearn.metrics.pairwise import cosine_similarity\n",
    "from langchain.llms.openai import OpenAI\n",
    "from langchain.chains.summarize import load_summarize_chain\n",
    "from scipy.spatial.distance import cdist\n",
    "import openai"
   ]
  },
  {
   "cell_type": "markdown",
   "id": "e8ded018",
   "metadata": {},
   "source": [
    "### Required datasets"
   ]
  },
  {
   "cell_type": "code",
   "execution_count": 8,
   "id": "213eee3c",
   "metadata": {
    "ExecuteTime": {
     "end_time": "2023-08-02T18:27:59.853778Z",
     "start_time": "2023-08-02T18:27:58.921741Z"
    }
   },
   "outputs": [],
   "source": [
    "posts_df = pd.read_csv(\"C:\\\\Users\\\\Dell\\\\OneDrive - Northeastern University\\\\courses\\\\big data and intl analytics\\\\DAMG7245-Summer2023\\\\final project\\\\dataset_converted\\\\3d_printing\\\\posts.csv\")"
   ]
  },
  {
   "cell_type": "code",
   "execution_count": 9,
   "id": "3cb43032",
   "metadata": {
    "ExecuteTime": {
     "end_time": "2023-08-02T18:28:00.343029Z",
     "start_time": "2023-08-02T18:28:00.041791Z"
    }
   },
   "outputs": [],
   "source": [
    "comments_df = pd.read_csv(\"C:\\\\Users\\\\Dell\\\\OneDrive - Northeastern University\\\\courses\\\\big data and intl analytics\\\\DAMG7245-Summer2023\\\\final project\\\\dataset_converted\\\\3d_printing\\\\comments.csv\")"
   ]
  },
  {
   "cell_type": "code",
   "execution_count": 10,
   "id": "978315ec",
   "metadata": {
    "ExecuteTime": {
     "end_time": "2023-08-02T18:28:00.985606Z",
     "start_time": "2023-08-02T18:28:00.931439Z"
    }
   },
   "outputs": [
    {
     "data": {
      "text/html": [
       "<div>\n",
       "<style scoped>\n",
       "    .dataframe tbody tr th:only-of-type {\n",
       "        vertical-align: middle;\n",
       "    }\n",
       "\n",
       "    .dataframe tbody tr th {\n",
       "        vertical-align: top;\n",
       "    }\n",
       "\n",
       "    .dataframe thead th {\n",
       "        text-align: right;\n",
       "    }\n",
       "</style>\n",
       "<table border=\"1\" class=\"dataframe\">\n",
       "  <thead>\n",
       "    <tr style=\"text-align: right;\">\n",
       "      <th></th>\n",
       "      <th>Unnamed: 0</th>\n",
       "      <th>Id</th>\n",
       "      <th>PostTypeId</th>\n",
       "      <th>CreationDate</th>\n",
       "      <th>Score</th>\n",
       "      <th>ViewCount</th>\n",
       "      <th>Body</th>\n",
       "      <th>OwnerUserId</th>\n",
       "      <th>LastActivityDate</th>\n",
       "      <th>Title</th>\n",
       "      <th>Tags</th>\n",
       "      <th>AnswerCount</th>\n",
       "      <th>CommentCount</th>\n",
       "      <th>AcceptedAnswerId</th>\n",
       "      <th>LastEditorUserId</th>\n",
       "      <th>ParentId</th>\n",
       "    </tr>\n",
       "  </thead>\n",
       "  <tbody>\n",
       "    <tr>\n",
       "      <th>0</th>\n",
       "      <td>0</td>\n",
       "      <td>1</td>\n",
       "      <td>1</td>\n",
       "      <td>2016-01-12T18:45:19.963</td>\n",
       "      <td>10</td>\n",
       "      <td>424.0</td>\n",
       "      <td>&lt;p&gt;When I've printed an object I've had to cho...</td>\n",
       "      <td>16.0</td>\n",
       "      <td>2017-10-31T02:31:08.560</td>\n",
       "      <td>How to obtain high resolution prints in a shor...</td>\n",
       "      <td>&lt;resolution&gt;&lt;speed&gt;&lt;quality&gt;</td>\n",
       "      <td>2.0</td>\n",
       "      <td>6</td>\n",
       "      <td>51.0</td>\n",
       "      <td>NaN</td>\n",
       "      <td>NaN</td>\n",
       "    </tr>\n",
       "    <tr>\n",
       "      <th>1</th>\n",
       "      <td>1</td>\n",
       "      <td>2</td>\n",
       "      <td>1</td>\n",
       "      <td>2016-01-12T18:45:51.287</td>\n",
       "      <td>34</td>\n",
       "      <td>7377.0</td>\n",
       "      <td>&lt;p&gt;I would like to buy a 3D printer, but I'm c...</td>\n",
       "      <td>20.0</td>\n",
       "      <td>2019-06-10T23:18:34.190</td>\n",
       "      <td>Is 3D printing safe for your health?</td>\n",
       "      <td>&lt;print-material&gt;&lt;safety&gt;&lt;health&gt;</td>\n",
       "      <td>4.0</td>\n",
       "      <td>1</td>\n",
       "      <td>12.0</td>\n",
       "      <td>334.0</td>\n",
       "      <td>NaN</td>\n",
       "    </tr>\n",
       "    <tr>\n",
       "      <th>2</th>\n",
       "      <td>2</td>\n",
       "      <td>3</td>\n",
       "      <td>1</td>\n",
       "      <td>2016-01-12T18:46:22.083</td>\n",
       "      <td>18</td>\n",
       "      <td>2678.0</td>\n",
       "      <td>&lt;p&gt;I know the minimum layer height will effect...</td>\n",
       "      <td>11.0</td>\n",
       "      <td>2016-09-19T15:41:06.537</td>\n",
       "      <td>How important is the minimum layer height on a...</td>\n",
       "      <td>&lt;quality&gt;&lt;resolution&gt;</td>\n",
       "      <td>3.0</td>\n",
       "      <td>5</td>\n",
       "      <td>152.0</td>\n",
       "      <td>11.0</td>\n",
       "      <td>NaN</td>\n",
       "    </tr>\n",
       "    <tr>\n",
       "      <th>3</th>\n",
       "      <td>3</td>\n",
       "      <td>4</td>\n",
       "      <td>1</td>\n",
       "      <td>2016-01-12T18:50:55.973</td>\n",
       "      <td>18</td>\n",
       "      <td>384.0</td>\n",
       "      <td>&lt;p&gt;Plastic is used in 3D FDM/FFF printing part...</td>\n",
       "      <td>16.0</td>\n",
       "      <td>2016-06-10T13:32:20.493</td>\n",
       "      <td>Are there any metals that exhibit a large glas...</td>\n",
       "      <td>&lt;fdm&gt;&lt;material&gt;&lt;print-material&gt;&lt;metal-parts&gt;</td>\n",
       "      <td>4.0</td>\n",
       "      <td>0</td>\n",
       "      <td>1289.0</td>\n",
       "      <td>98.0</td>\n",
       "      <td>NaN</td>\n",
       "    </tr>\n",
       "    <tr>\n",
       "      <th>4</th>\n",
       "      <td>4</td>\n",
       "      <td>5</td>\n",
       "      <td>1</td>\n",
       "      <td>2016-01-12T18:53:53.623</td>\n",
       "      <td>40</td>\n",
       "      <td>3985.0</td>\n",
       "      <td>&lt;p&gt;What are the main differences when using AB...</td>\n",
       "      <td>11.0</td>\n",
       "      <td>2017-08-02T09:49:07.263</td>\n",
       "      <td>How is PLA different from ABS material?</td>\n",
       "      <td>&lt;filament&gt;&lt;abs&gt;&lt;fdm&gt;&lt;pla&gt;</td>\n",
       "      <td>5.0</td>\n",
       "      <td>5</td>\n",
       "      <td>77.0</td>\n",
       "      <td>20.0</td>\n",
       "      <td>NaN</td>\n",
       "    </tr>\n",
       "  </tbody>\n",
       "</table>\n",
       "</div>"
      ],
      "text/plain": [
       "   Unnamed: 0  Id  PostTypeId             CreationDate  Score  ViewCount  \\\n",
       "0           0   1           1  2016-01-12T18:45:19.963     10      424.0   \n",
       "1           1   2           1  2016-01-12T18:45:51.287     34     7377.0   \n",
       "2           2   3           1  2016-01-12T18:46:22.083     18     2678.0   \n",
       "3           3   4           1  2016-01-12T18:50:55.973     18      384.0   \n",
       "4           4   5           1  2016-01-12T18:53:53.623     40     3985.0   \n",
       "\n",
       "                                                Body  OwnerUserId  \\\n",
       "0  <p>When I've printed an object I've had to cho...         16.0   \n",
       "1  <p>I would like to buy a 3D printer, but I'm c...         20.0   \n",
       "2  <p>I know the minimum layer height will effect...         11.0   \n",
       "3  <p>Plastic is used in 3D FDM/FFF printing part...         16.0   \n",
       "4  <p>What are the main differences when using AB...         11.0   \n",
       "\n",
       "          LastActivityDate                                              Title  \\\n",
       "0  2017-10-31T02:31:08.560  How to obtain high resolution prints in a shor...   \n",
       "1  2019-06-10T23:18:34.190               Is 3D printing safe for your health?   \n",
       "2  2016-09-19T15:41:06.537  How important is the minimum layer height on a...   \n",
       "3  2016-06-10T13:32:20.493  Are there any metals that exhibit a large glas...   \n",
       "4  2017-08-02T09:49:07.263            How is PLA different from ABS material?   \n",
       "\n",
       "                                           Tags  AnswerCount  CommentCount  \\\n",
       "0                  <resolution><speed><quality>          2.0             6   \n",
       "1              <print-material><safety><health>          4.0             1   \n",
       "2                         <quality><resolution>          3.0             5   \n",
       "3  <fdm><material><print-material><metal-parts>          4.0             0   \n",
       "4                     <filament><abs><fdm><pla>          5.0             5   \n",
       "\n",
       "   AcceptedAnswerId  LastEditorUserId  ParentId  \n",
       "0              51.0               NaN       NaN  \n",
       "1              12.0             334.0       NaN  \n",
       "2             152.0              11.0       NaN  \n",
       "3            1289.0              98.0       NaN  \n",
       "4              77.0              20.0       NaN  "
      ]
     },
     "execution_count": 10,
     "metadata": {},
     "output_type": "execute_result"
    }
   ],
   "source": [
    "posts_df.head()"
   ]
  },
  {
   "cell_type": "code",
   "execution_count": 11,
   "id": "7496a2a9",
   "metadata": {
    "ExecuteTime": {
     "end_time": "2023-08-02T18:28:02.021363Z",
     "start_time": "2023-08-02T18:28:01.990482Z"
    }
   },
   "outputs": [
    {
     "data": {
      "text/html": [
       "<div>\n",
       "<style scoped>\n",
       "    .dataframe tbody tr th:only-of-type {\n",
       "        vertical-align: middle;\n",
       "    }\n",
       "\n",
       "    .dataframe tbody tr th {\n",
       "        vertical-align: top;\n",
       "    }\n",
       "\n",
       "    .dataframe thead th {\n",
       "        text-align: right;\n",
       "    }\n",
       "</style>\n",
       "<table border=\"1\" class=\"dataframe\">\n",
       "  <thead>\n",
       "    <tr style=\"text-align: right;\">\n",
       "      <th></th>\n",
       "      <th>Unnamed: 0</th>\n",
       "      <th>Id</th>\n",
       "      <th>PostId</th>\n",
       "      <th>Score</th>\n",
       "      <th>Text</th>\n",
       "      <th>CreationDate</th>\n",
       "      <th>UserId</th>\n",
       "      <th>ContentLicense</th>\n",
       "    </tr>\n",
       "  </thead>\n",
       "  <tbody>\n",
       "    <tr>\n",
       "      <th>0</th>\n",
       "      <td>0</td>\n",
       "      <td>1</td>\n",
       "      <td>1</td>\n",
       "      <td>4</td>\n",
       "      <td>Did I just place the first upvote?  Congrats o...</td>\n",
       "      <td>2016-01-12T18:47:12.573</td>\n",
       "      <td>23.0</td>\n",
       "      <td>CC BY-SA 3.0</td>\n",
       "    </tr>\n",
       "    <tr>\n",
       "      <th>1</th>\n",
       "      <td>1</td>\n",
       "      <td>2</td>\n",
       "      <td>3</td>\n",
       "      <td>1</td>\n",
       "      <td>I think it would be a good idea to specify wha...</td>\n",
       "      <td>2016-01-12T19:01:35.180</td>\n",
       "      <td>10.0</td>\n",
       "      <td>CC BY-SA 3.0</td>\n",
       "    </tr>\n",
       "    <tr>\n",
       "      <th>2</th>\n",
       "      <td>2</td>\n",
       "      <td>3</td>\n",
       "      <td>1</td>\n",
       "      <td>1</td>\n",
       "      <td>What are you looking for in an answer? You are...</td>\n",
       "      <td>2016-01-12T19:42:08.613</td>\n",
       "      <td>26.0</td>\n",
       "      <td>CC BY-SA 3.0</td>\n",
       "    </tr>\n",
       "    <tr>\n",
       "      <th>3</th>\n",
       "      <td>3</td>\n",
       "      <td>4</td>\n",
       "      <td>21</td>\n",
       "      <td>9</td>\n",
       "      <td>It is worth noting here that acetone finishing...</td>\n",
       "      <td>2016-01-12T19:42:19.530</td>\n",
       "      <td>36.0</td>\n",
       "      <td>CC BY-SA 3.0</td>\n",
       "    </tr>\n",
       "    <tr>\n",
       "      <th>4</th>\n",
       "      <td>4</td>\n",
       "      <td>5</td>\n",
       "      <td>5</td>\n",
       "      <td>7</td>\n",
       "      <td>I think this is too broad for a good exhaustiv...</td>\n",
       "      <td>2016-01-12T19:44:02.667</td>\n",
       "      <td>36.0</td>\n",
       "      <td>CC BY-SA 3.0</td>\n",
       "    </tr>\n",
       "  </tbody>\n",
       "</table>\n",
       "</div>"
      ],
      "text/plain": [
       "   Unnamed: 0  Id  PostId  Score  \\\n",
       "0           0   1       1      4   \n",
       "1           1   2       3      1   \n",
       "2           2   3       1      1   \n",
       "3           3   4      21      9   \n",
       "4           4   5       5      7   \n",
       "\n",
       "                                                Text             CreationDate  \\\n",
       "0  Did I just place the first upvote?  Congrats o...  2016-01-12T18:47:12.573   \n",
       "1  I think it would be a good idea to specify wha...  2016-01-12T19:01:35.180   \n",
       "2  What are you looking for in an answer? You are...  2016-01-12T19:42:08.613   \n",
       "3  It is worth noting here that acetone finishing...  2016-01-12T19:42:19.530   \n",
       "4  I think this is too broad for a good exhaustiv...  2016-01-12T19:44:02.667   \n",
       "\n",
       "   UserId ContentLicense  \n",
       "0    23.0   CC BY-SA 3.0  \n",
       "1    10.0   CC BY-SA 3.0  \n",
       "2    26.0   CC BY-SA 3.0  \n",
       "3    36.0   CC BY-SA 3.0  \n",
       "4    36.0   CC BY-SA 3.0  "
      ]
     },
     "execution_count": 11,
     "metadata": {},
     "output_type": "execute_result"
    }
   ],
   "source": [
    "comments_df.head()"
   ]
  },
  {
   "cell_type": "code",
   "execution_count": 12,
   "id": "81c2dd75",
   "metadata": {
    "ExecuteTime": {
     "end_time": "2023-08-02T18:28:03.227064Z",
     "start_time": "2023-08-02T18:28:03.199066Z"
    }
   },
   "outputs": [
    {
     "data": {
      "text/plain": [
       "Unnamed: 0            int64\n",
       "Id                    int64\n",
       "PostTypeId            int64\n",
       "CreationDate         object\n",
       "Score                 int64\n",
       "ViewCount           float64\n",
       "Body                 object\n",
       "OwnerUserId         float64\n",
       "LastActivityDate     object\n",
       "Title                object\n",
       "Tags                 object\n",
       "AnswerCount         float64\n",
       "CommentCount          int64\n",
       "AcceptedAnswerId    float64\n",
       "LastEditorUserId    float64\n",
       "ParentId            float64\n",
       "dtype: object"
      ]
     },
     "execution_count": 12,
     "metadata": {},
     "output_type": "execute_result"
    }
   ],
   "source": [
    "posts_df.dtypes"
   ]
  },
  {
   "cell_type": "code",
   "execution_count": 13,
   "id": "e0c3700a",
   "metadata": {
    "ExecuteTime": {
     "end_time": "2023-08-02T18:28:03.932185Z",
     "start_time": "2023-08-02T18:28:03.907160Z"
    }
   },
   "outputs": [
    {
     "data": {
      "text/plain": [
       "Unnamed: 0          int64\n",
       "Id                  int64\n",
       "PostId              int64\n",
       "Score               int64\n",
       "Text               object\n",
       "CreationDate       object\n",
       "UserId            float64\n",
       "ContentLicense     object\n",
       "dtype: object"
      ]
     },
     "execution_count": 13,
     "metadata": {},
     "output_type": "execute_result"
    }
   ],
   "source": [
    "comments_df.dtypes"
   ]
  },
  {
   "cell_type": "code",
   "execution_count": 14,
   "id": "60762084",
   "metadata": {
    "ExecuteTime": {
     "end_time": "2023-08-02T18:28:04.593413Z",
     "start_time": "2023-08-02T18:28:04.568412Z"
    }
   },
   "outputs": [
    {
     "data": {
      "text/plain": [
       "(14475, 16)"
      ]
     },
     "execution_count": 14,
     "metadata": {},
     "output_type": "execute_result"
    }
   ],
   "source": [
    "posts_df.shape"
   ]
  },
  {
   "cell_type": "code",
   "execution_count": 15,
   "id": "00ae5c11",
   "metadata": {
    "ExecuteTime": {
     "end_time": "2023-08-02T18:28:05.250792Z",
     "start_time": "2023-08-02T18:28:05.238788Z"
    }
   },
   "outputs": [
    {
     "data": {
      "text/plain": [
       "(24320, 8)"
      ]
     },
     "execution_count": 15,
     "metadata": {},
     "output_type": "execute_result"
    }
   ],
   "source": [
    "comments_df.shape"
   ]
  },
  {
   "cell_type": "code",
   "execution_count": 16,
   "id": "d5c0471f",
   "metadata": {
    "ExecuteTime": {
     "end_time": "2023-08-02T18:28:08.827046Z",
     "start_time": "2023-08-02T18:28:08.789050Z"
    }
   },
   "outputs": [],
   "source": [
    "# Rename columns in posts_df\n",
    "posts_df = posts_df.rename(columns={\n",
    "    'Id': 'post_id',\n",
    "    'PostTypeId': 'posttypeid',\n",
    "    'CreationDate': 'post_creationdate',\n",
    "    'Score': 'post_score',\n",
    "    'ViewCount': 'post_viewcount',\n",
    "    'Body': 'post_body',\n",
    "    'Title': 'post_title',\n",
    "    'Tags': 'post_tags',\n",
    "    'AcceptedAnswerId': 'post_acceptedanswerid'\n",
    "})\n",
    "\n",
    "# Rename columns in comments_df\n",
    "comments_df = comments_df.rename(columns={\n",
    "    'Text': 'comments_text',\n",
    "    'Score': 'comments_score',\n",
    "    'CreationDate': 'comments_creationdate'\n",
    "})"
   ]
  },
  {
   "cell_type": "markdown",
   "id": "bdb17da8",
   "metadata": {},
   "source": [
    "### Mapping accepted answer with it's Post"
   ]
  },
  {
   "cell_type": "code",
   "execution_count": 17,
   "id": "8c6c1f8a",
   "metadata": {
    "ExecuteTime": {
     "end_time": "2023-08-02T18:28:24.373920Z",
     "start_time": "2023-08-02T18:28:24.290850Z"
    }
   },
   "outputs": [],
   "source": [
    "# Join posts dataframe with itself on post_acceptedanswerid and post_id\n",
    "posts_df = pd.merge(posts_df, posts_df, left_on='post_acceptedanswerid', right_on='post_id', how='left', suffixes=('', '_accepted'))\n",
    "\n",
    "# Keep only the required columns\n",
    "posts_df = posts_df[['post_id', 'posttypeid', 'post_creationdate', 'post_score', \n",
    "               'post_viewcount', 'post_body', 'post_title', \n",
    "               'post_tags',\n",
    "               'post_body_accepted', 'post_score_accepted']]"
   ]
  },
  {
   "cell_type": "markdown",
   "id": "9d868793",
   "metadata": {},
   "source": [
    "### Data Filtering"
   ]
  },
  {
   "cell_type": "markdown",
   "id": "3e5f0e9c",
   "metadata": {},
   "source": [
    "### we are interested only in question and answer"
   ]
  },
  {
   "cell_type": "code",
   "execution_count": 18,
   "id": "a3828230",
   "metadata": {
    "ExecuteTime": {
     "end_time": "2023-08-02T18:28:27.225630Z",
     "start_time": "2023-08-02T18:28:27.196635Z"
    }
   },
   "outputs": [],
   "source": [
    "# Keep only rows where posttypeid is 1 or 2.\n",
    "#1 = question\n",
    "#2 = answer\n",
    "posts_df = posts_df[posts_df['posttypeid'].isin([1, 2])]"
   ]
  },
  {
   "cell_type": "markdown",
   "id": "74abd649",
   "metadata": {},
   "source": [
    "### For now let's consider only 3 tags (for testing)"
   ]
  },
  {
   "cell_type": "code",
   "execution_count": 19,
   "id": "d08a3c6c",
   "metadata": {
    "ExecuteTime": {
     "end_time": "2023-08-02T18:28:29.646145Z",
     "start_time": "2023-08-02T18:28:29.614141Z"
    }
   },
   "outputs": [],
   "source": [
    "# Keep only rows where post_tags is <2d>, <3d-design>, or null\n",
    "mask = posts_df['post_tags'].isin(['<2d>', '<3d-design>']) | posts_df['post_tags'].isnull()\n",
    "posts_df = posts_df[mask]"
   ]
  },
  {
   "cell_type": "code",
   "execution_count": 20,
   "id": "7ba280ad",
   "metadata": {
    "ExecuteTime": {
     "end_time": "2023-08-02T18:28:31.691906Z",
     "start_time": "2023-08-02T18:28:31.679912Z"
    }
   },
   "outputs": [
    {
     "data": {
      "text/plain": [
       "(8508, 10)"
      ]
     },
     "execution_count": 20,
     "metadata": {},
     "output_type": "execute_result"
    }
   ],
   "source": [
    "posts_df.shape"
   ]
  },
  {
   "cell_type": "markdown",
   "id": "ccc72b9e",
   "metadata": {},
   "source": [
    "### Using small dataset for testing"
   ]
  },
  {
   "cell_type": "code",
   "execution_count": 22,
   "id": "4ba57f37",
   "metadata": {
    "ExecuteTime": {
     "end_time": "2023-08-02T18:31:57.491771Z",
     "start_time": "2023-08-02T18:31:57.438774Z"
    }
   },
   "outputs": [
    {
     "data": {
      "text/plain": [
       "(50, 10)"
      ]
     },
     "execution_count": 22,
     "metadata": {},
     "output_type": "execute_result"
    }
   ],
   "source": [
    "#for testing purpose - use small dataset\n",
    "# Remove rows with nan values in the post_title column\n",
    "posts_df = posts_df.dropna(subset=['post_title'])\n",
    "\n",
    "# Keep only the first 100 rows of the DataFrame\n",
    "posts_df = posts_df.head(100)\n",
    "posts_df.shape"
   ]
  },
  {
   "cell_type": "markdown",
   "id": "0962ee47",
   "metadata": {},
   "source": [
    "### Mapping comments with it's posts"
   ]
  },
  {
   "cell_type": "code",
   "execution_count": 23,
   "id": "1af6898a",
   "metadata": {
    "ExecuteTime": {
     "end_time": "2023-08-02T18:33:05.725008Z",
     "start_time": "2023-08-02T18:33:05.704984Z"
    }
   },
   "outputs": [],
   "source": [
    "# Merge the dataframes\n",
    "df_result = pd.merge(posts_df, comments_df, left_on='post_id', right_on='PostId', how='left')"
   ]
  },
  {
   "cell_type": "code",
   "execution_count": 24,
   "id": "a13ef421",
   "metadata": {
    "ExecuteTime": {
     "end_time": "2023-08-02T18:33:08.711232Z",
     "start_time": "2023-08-02T18:33:08.697237Z"
    }
   },
   "outputs": [],
   "source": [
    "# Remove rows where comments_text, comments_score, or comments_creationdate is null\n",
    "mask = df_result['comments_text'].notnull() & df_result['comments_score'].notnull() & df_result['comments_creationdate'].notnull()\n",
    "df_result = df_result[mask]"
   ]
  },
  {
   "cell_type": "code",
   "execution_count": 25,
   "id": "c2b6fc42",
   "metadata": {
    "ExecuteTime": {
     "end_time": "2023-08-02T18:33:12.373507Z",
     "start_time": "2023-08-02T18:33:12.357506Z"
    }
   },
   "outputs": [],
   "source": [
    "# Keep only the required columns\n",
    "df_result = df_result[['post_id', 'posttypeid', 'post_creationdate', 'post_score', \n",
    "                       'post_viewcount', 'post_body', 'post_title', \n",
    "                       'post_tags', 'post_body_accepted', 'post_score_accepted', \n",
    "                       'comments_text', 'comments_score', \n",
    "                       'comments_creationdate']]"
   ]
  },
  {
   "cell_type": "code",
   "execution_count": 26,
   "id": "21aa2d38",
   "metadata": {
    "ExecuteTime": {
     "end_time": "2023-08-02T18:33:13.681786Z",
     "start_time": "2023-08-02T18:33:13.661783Z"
    }
   },
   "outputs": [],
   "source": [
    "# Create a posts dataframe\n",
    "posts = df_result[['post_id', 'posttypeid', 'post_creationdate', 'post_score', \n",
    "                   'post_viewcount', 'post_body', 'post_title', \n",
    "                   'post_tags', 'post_body_accepted', 'post_score_accepted']].drop_duplicates()\n",
    "\n"
   ]
  },
  {
   "cell_type": "code",
   "execution_count": 27,
   "id": "e8b189f1",
   "metadata": {
    "ExecuteTime": {
     "end_time": "2023-08-02T18:33:17.949977Z",
     "start_time": "2023-08-02T18:33:17.928961Z"
    }
   },
   "outputs": [],
   "source": [
    "# Create a comments dataframe\n",
    "comments = df_result[['post_id', 'comments_text', \n",
    "                      'comments_score', \n",
    "                      'comments_creationdate']]"
   ]
  },
  {
   "cell_type": "code",
   "execution_count": 28,
   "id": "ad6710c0",
   "metadata": {
    "ExecuteTime": {
     "end_time": "2023-08-02T18:33:19.281350Z",
     "start_time": "2023-08-02T18:33:19.256335Z"
    }
   },
   "outputs": [
    {
     "data": {
      "text/plain": [
       "(30, 10)"
      ]
     },
     "execution_count": 28,
     "metadata": {},
     "output_type": "execute_result"
    }
   ],
   "source": [
    "posts.shape"
   ]
  },
  {
   "cell_type": "code",
   "execution_count": 29,
   "id": "90ea98cb",
   "metadata": {
    "ExecuteTime": {
     "end_time": "2023-08-02T18:33:20.472529Z",
     "start_time": "2023-08-02T18:33:20.449526Z"
    }
   },
   "outputs": [
    {
     "data": {
      "text/plain": [
       "(91, 4)"
      ]
     },
     "execution_count": 29,
     "metadata": {},
     "output_type": "execute_result"
    }
   ],
   "source": [
    "comments.shape"
   ]
  },
  {
   "cell_type": "code",
   "execution_count": 30,
   "id": "4447fc2b",
   "metadata": {
    "ExecuteTime": {
     "end_time": "2023-08-02T18:33:23.711576Z",
     "start_time": "2023-08-02T18:33:23.687554Z"
    }
   },
   "outputs": [],
   "source": [
    "posts.to_csv('posts_cleaned.csv', index=False)"
   ]
  },
  {
   "cell_type": "code",
   "execution_count": 31,
   "id": "665fa730",
   "metadata": {
    "ExecuteTime": {
     "end_time": "2023-08-02T18:33:24.324442Z",
     "start_time": "2023-08-02T18:33:24.307437Z"
    }
   },
   "outputs": [],
   "source": [
    "comments.to_csv('comments_cleaned.csv', index=False)"
   ]
  },
  {
   "cell_type": "markdown",
   "id": "137c325e",
   "metadata": {},
   "source": [
    "### Cleaned Posts table"
   ]
  },
  {
   "cell_type": "code",
   "execution_count": 33,
   "id": "c86b63e5",
   "metadata": {
    "ExecuteTime": {
     "end_time": "2023-08-02T17:33:32.353799Z",
     "start_time": "2023-08-02T17:33:32.330799Z"
    }
   },
   "outputs": [
    {
     "data": {
      "text/html": [
       "<div>\n",
       "<style scoped>\n",
       "    .dataframe tbody tr th:only-of-type {\n",
       "        vertical-align: middle;\n",
       "    }\n",
       "\n",
       "    .dataframe tbody tr th {\n",
       "        vertical-align: top;\n",
       "    }\n",
       "\n",
       "    .dataframe thead th {\n",
       "        text-align: right;\n",
       "    }\n",
       "</style>\n",
       "<table border=\"1\" class=\"dataframe\">\n",
       "  <thead>\n",
       "    <tr style=\"text-align: right;\">\n",
       "      <th></th>\n",
       "      <th>post_id</th>\n",
       "      <th>posttypeid</th>\n",
       "      <th>post_creationdate</th>\n",
       "      <th>post_score</th>\n",
       "      <th>post_viewcount</th>\n",
       "      <th>post_body</th>\n",
       "      <th>post_title</th>\n",
       "      <th>post_tags</th>\n",
       "      <th>post_body_accepted</th>\n",
       "      <th>post_score_accepted</th>\n",
       "    </tr>\n",
       "  </thead>\n",
       "  <tbody>\n",
       "    <tr>\n",
       "      <th>0</th>\n",
       "      <td>548</td>\n",
       "      <td>1</td>\n",
       "      <td>2016-02-10T14:52:38.880</td>\n",
       "      <td>9</td>\n",
       "      <td>578.0</td>\n",
       "      <td>&lt;p&gt;Fair warning: I am a complete novice in 3-D...</td>\n",
       "      <td>Printing a CV joint</td>\n",
       "      <td>&lt;3d-design&gt;</td>\n",
       "      <td>NaN</td>\n",
       "      <td>NaN</td>\n",
       "    </tr>\n",
       "    <tr>\n",
       "      <th>7</th>\n",
       "      <td>1053</td>\n",
       "      <td>1</td>\n",
       "      <td>2016-04-27T13:12:32.580</td>\n",
       "      <td>1</td>\n",
       "      <td>455.0</td>\n",
       "      <td>&lt;p&gt;In Google Sketchup, I have text on a surfac...</td>\n",
       "      <td>Pushing Text into surface - Google Sketchup</td>\n",
       "      <td>&lt;3d-design&gt;</td>\n",
       "      <td>&lt;p&gt;Definitely you have to perform substract op...</td>\n",
       "      <td>1.0</td>\n",
       "    </tr>\n",
       "    <tr>\n",
       "      <th>10</th>\n",
       "      <td>1264</td>\n",
       "      <td>1</td>\n",
       "      <td>2016-06-05T20:46:02.477</td>\n",
       "      <td>4</td>\n",
       "      <td>288.0</td>\n",
       "      <td>&lt;p&gt;What type of printer would one recommend to...</td>\n",
       "      <td>Car Body shop Printers</td>\n",
       "      <td>&lt;3d-design&gt;</td>\n",
       "      <td>NaN</td>\n",
       "      <td>NaN</td>\n",
       "    </tr>\n",
       "    <tr>\n",
       "      <th>16</th>\n",
       "      <td>1383</td>\n",
       "      <td>1</td>\n",
       "      <td>2016-06-18T09:54:45.630</td>\n",
       "      <td>9</td>\n",
       "      <td>2149.0</td>\n",
       "      <td>&lt;p&gt;Is there any simple way of creating tappere...</td>\n",
       "      <td>How to create tappered thread in OpenSCAD?</td>\n",
       "      <td>&lt;3d-design&gt;</td>\n",
       "      <td>&lt;p&gt;I have contacted Dan Kirshner (the author o...</td>\n",
       "      <td>4.0</td>\n",
       "    </tr>\n",
       "    <tr>\n",
       "      <th>18</th>\n",
       "      <td>2697</td>\n",
       "      <td>1</td>\n",
       "      <td>2016-08-28T00:32:36.523</td>\n",
       "      <td>-2</td>\n",
       "      <td>1752.0</td>\n",
       "      <td>&lt;p&gt;I am an absolute beginner when it comes to ...</td>\n",
       "      <td>What is a good software for designing car parts</td>\n",
       "      <td>&lt;3d-design&gt;</td>\n",
       "      <td>&lt;p&gt;You've avoided a number of attributes of a ...</td>\n",
       "      <td>2.0</td>\n",
       "    </tr>\n",
       "  </tbody>\n",
       "</table>\n",
       "</div>"
      ],
      "text/plain": [
       "    post_id  posttypeid        post_creationdate  post_score  post_viewcount  \\\n",
       "0       548           1  2016-02-10T14:52:38.880           9           578.0   \n",
       "7      1053           1  2016-04-27T13:12:32.580           1           455.0   \n",
       "10     1264           1  2016-06-05T20:46:02.477           4           288.0   \n",
       "16     1383           1  2016-06-18T09:54:45.630           9          2149.0   \n",
       "18     2697           1  2016-08-28T00:32:36.523          -2          1752.0   \n",
       "\n",
       "                                            post_body  \\\n",
       "0   <p>Fair warning: I am a complete novice in 3-D...   \n",
       "7   <p>In Google Sketchup, I have text on a surfac...   \n",
       "10  <p>What type of printer would one recommend to...   \n",
       "16  <p>Is there any simple way of creating tappere...   \n",
       "18  <p>I am an absolute beginner when it comes to ...   \n",
       "\n",
       "                                         post_title    post_tags  \\\n",
       "0                               Printing a CV joint  <3d-design>   \n",
       "7       Pushing Text into surface - Google Sketchup  <3d-design>   \n",
       "10                           Car Body shop Printers  <3d-design>   \n",
       "16       How to create tappered thread in OpenSCAD?  <3d-design>   \n",
       "18  What is a good software for designing car parts  <3d-design>   \n",
       "\n",
       "                                   post_body_accepted  post_score_accepted  \n",
       "0                                                 NaN                  NaN  \n",
       "7   <p>Definitely you have to perform substract op...                  1.0  \n",
       "10                                                NaN                  NaN  \n",
       "16  <p>I have contacted Dan Kirshner (the author o...                  4.0  \n",
       "18  <p>You've avoided a number of attributes of a ...                  2.0  "
      ]
     },
     "execution_count": 33,
     "metadata": {},
     "output_type": "execute_result"
    }
   ],
   "source": [
    "posts.head()"
   ]
  },
  {
   "cell_type": "markdown",
   "id": "8d2a7004",
   "metadata": {},
   "source": [
    "### Cleaned Comments table"
   ]
  },
  {
   "cell_type": "code",
   "execution_count": 34,
   "id": "8f52fa88",
   "metadata": {
    "ExecuteTime": {
     "end_time": "2023-08-02T17:33:33.162059Z",
     "start_time": "2023-08-02T17:33:33.145055Z"
    }
   },
   "outputs": [
    {
     "data": {
      "text/html": [
       "<div>\n",
       "<style scoped>\n",
       "    .dataframe tbody tr th:only-of-type {\n",
       "        vertical-align: middle;\n",
       "    }\n",
       "\n",
       "    .dataframe tbody tr th {\n",
       "        vertical-align: top;\n",
       "    }\n",
       "\n",
       "    .dataframe thead th {\n",
       "        text-align: right;\n",
       "    }\n",
       "</style>\n",
       "<table border=\"1\" class=\"dataframe\">\n",
       "  <thead>\n",
       "    <tr style=\"text-align: right;\">\n",
       "      <th></th>\n",
       "      <th>post_id</th>\n",
       "      <th>comments_text</th>\n",
       "      <th>comments_score</th>\n",
       "      <th>comments_creationdate</th>\n",
       "    </tr>\n",
       "  </thead>\n",
       "  <tbody>\n",
       "    <tr>\n",
       "      <th>0</th>\n",
       "      <td>548</td>\n",
       "      <td>A couple questions... Are you printing this yo...</td>\n",
       "      <td>0.0</td>\n",
       "      <td>2016-02-10T15:08:32.023</td>\n",
       "    </tr>\n",
       "    <tr>\n",
       "      <th>1</th>\n",
       "      <td>548</td>\n",
       "      <td>Thanks! I'm planning on using one of my school...</td>\n",
       "      <td>0.0</td>\n",
       "      <td>2016-02-10T17:23:12.223</td>\n",
       "    </tr>\n",
       "    <tr>\n",
       "      <th>2</th>\n",
       "      <td>548</td>\n",
       "      <td>There's a nice video of printing a ball bearin...</td>\n",
       "      <td>0.0</td>\n",
       "      <td>2016-02-13T19:58:22.803</td>\n",
       "    </tr>\n",
       "    <tr>\n",
       "      <th>3</th>\n",
       "      <td>548</td>\n",
       "      <td>Here are some uni lab blog entries from 2017 t...</td>\n",
       "      <td>0.0</td>\n",
       "      <td>2018-11-13T16:45:34.727</td>\n",
       "    </tr>\n",
       "    <tr>\n",
       "      <th>7</th>\n",
       "      <td>1053</td>\n",
       "      <td>Have you tried ungrouping the text? It's creat...</td>\n",
       "      <td>0.0</td>\n",
       "      <td>2016-04-27T17:52:56.217</td>\n",
       "    </tr>\n",
       "  </tbody>\n",
       "</table>\n",
       "</div>"
      ],
      "text/plain": [
       "   post_id                                      comments_text  comments_score  \\\n",
       "0      548  A couple questions... Are you printing this yo...             0.0   \n",
       "1      548  Thanks! I'm planning on using one of my school...             0.0   \n",
       "2      548  There's a nice video of printing a ball bearin...             0.0   \n",
       "3      548  Here are some uni lab blog entries from 2017 t...             0.0   \n",
       "7     1053  Have you tried ungrouping the text? It's creat...             0.0   \n",
       "\n",
       "     comments_creationdate  \n",
       "0  2016-02-10T15:08:32.023  \n",
       "1  2016-02-10T17:23:12.223  \n",
       "2  2016-02-13T19:58:22.803  \n",
       "3  2018-11-13T16:45:34.727  \n",
       "7  2016-04-27T17:52:56.217  "
      ]
     },
     "execution_count": 34,
     "metadata": {},
     "output_type": "execute_result"
    }
   ],
   "source": [
    "comments.head()"
   ]
  },
  {
   "cell_type": "code",
   "execution_count": 35,
   "id": "ce2907f7",
   "metadata": {
    "ExecuteTime": {
     "end_time": "2023-08-02T17:33:37.373106Z",
     "start_time": "2023-08-02T17:33:37.350112Z"
    }
   },
   "outputs": [
    {
     "data": {
      "text/plain": [
       "post_id                  int64\n",
       "posttypeid               int64\n",
       "post_creationdate       object\n",
       "post_score               int64\n",
       "post_viewcount         float64\n",
       "post_body               object\n",
       "post_title              object\n",
       "post_tags               object\n",
       "post_body_accepted      object\n",
       "post_score_accepted    float64\n",
       "dtype: object"
      ]
     },
     "execution_count": 35,
     "metadata": {},
     "output_type": "execute_result"
    }
   ],
   "source": [
    "posts.dtypes"
   ]
  },
  {
   "cell_type": "code",
   "execution_count": 50,
   "id": "1bb190a4",
   "metadata": {
    "ExecuteTime": {
     "end_time": "2023-08-02T17:33:37.830622Z",
     "start_time": "2023-08-02T17:33:37.812615Z"
    }
   },
   "outputs": [
    {
     "data": {
      "text/plain": [
       "post_id                    int64\n",
       "comments_text             object\n",
       "comments_score           float64\n",
       "comments_creationdate     object\n",
       "dtype: object"
      ]
     },
     "execution_count": 50,
     "metadata": {},
     "output_type": "execute_result"
    }
   ],
   "source": [
    "comments.dtypes"
   ]
  },
  {
   "cell_type": "code",
   "execution_count": 52,
   "id": "c4b9d6a6",
   "metadata": {
    "ExecuteTime": {
     "end_time": "2023-08-02T17:20:59.419457Z",
     "start_time": "2023-08-02T17:20:59.401457Z"
    }
   },
   "outputs": [
    {
     "data": {
      "text/plain": [
       "0"
      ]
     },
     "execution_count": 52,
     "metadata": {},
     "output_type": "execute_result"
    }
   ],
   "source": [
    "posts['post_id'].isnull().sum()"
   ]
  },
  {
   "cell_type": "markdown",
   "id": "11b5ac33",
   "metadata": {},
   "source": [
    "## Feature 1 - Topic relevance search"
   ]
  },
  {
   "cell_type": "markdown",
   "id": "59b42b4d",
   "metadata": {},
   "source": [
    "#### User can ask a question regarding the category and it's tag\n",
    "#### User's input is embeded is compared with the existing topics embeddings and returns the top 5 most similar topics"
   ]
  },
  {
   "cell_type": "markdown",
   "id": "7288174a",
   "metadata": {},
   "source": [
    "### SBert - cosine similarity"
   ]
  },
  {
   "cell_type": "code",
   "execution_count": 38,
   "id": "1d8fa521",
   "metadata": {},
   "outputs": [],
   "source": [
    "# Load the cleaned data from CSV into a pandas DataFrame\n",
    "cleaned_data = pd.read_csv(\"C:\\\\Users\\\\Dell\\\\OneDrive - Northeastern University\\\\courses\\\\big data and intl analytics\\\\DAMG7245-Summer2023\\\\final project\\\\dataset_converted\\\\3d_printing\\\\posts_cleaned.csv\")\n",
    "comments_df = pd.read_csv(\"C:\\\\Users\\\\Dell\\\\OneDrive - Northeastern University\\\\courses\\\\big data and intl analytics\\\\DAMG7245-Summer2023\\\\final project\\\\dataset_converted\\\\3d_printing\\\\comments_cleaned.csv\")\n",
    "# Load the pre-trained Sentence Transformers model\n",
    "model = SentenceTransformer('distilbert-base-nli-stsb-mean-tokens')"
   ]
  },
  {
   "cell_type": "code",
   "execution_count": 39,
   "id": "43f5ce09",
   "metadata": {},
   "outputs": [],
   "source": [
    "# Preprocessing function to convert tags from string to list\n",
    "def process_tags(Tags):\n",
    "    if pd.isna(Tags):  # Handle NaN values\n",
    "        return []      # Return an empty list for NaN values\n",
    "    return Tags.split(',')\n",
    "\n",
    "# Apply the preprocessing to the 'Tags' column (uppercase \"T\")\n",
    "cleaned_data['post_tags'] = cleaned_data['post_tags'].apply(process_tags)\n",
    "\n",
    "def generate_embeddings(text):\n",
    "    embeddings = model.encode(text)\n",
    "    return embeddings\n",
    "\n",
    "def filter_data(user_input_tag):\n",
    "    # Keep rows with \"posttypeid\" as 1 or 2\n",
    "    filtered_data = cleaned_data\n",
    "\n",
    "    # Keep only data for the user input tag\n",
    "    filtered_data = filtered_data[filtered_data['post_tags'].apply(lambda tags: user_input_tag in tags)]\n",
    "\n",
    "    return filtered_data"
   ]
  },
  {
   "cell_type": "code",
   "execution_count": 40,
   "id": "6aabb6c5",
   "metadata": {},
   "outputs": [],
   "source": [
    "def topic_relevance_search(user_input, user_input_tag):\n",
    "    # Filter data based on user input tag and \"PostTypeId\"\n",
    "    filtered_data = filter_data(user_input_tag)\n",
    "\n",
    "    # Check if there is relevant data for the user input tag\n",
    "    if filtered_data.empty:\n",
    "        print(f\"No relevant data found for the tag '{user_input_tag}'.\")\n",
    "        return []\n",
    "\n",
    "    # Concatenate relevant columns for embedding, handling NaN values\n",
    "    relevant_text = filtered_data.apply(lambda row: ' '.join(filter(lambda x: pd.notna(x), [row['post_title'], row['post_body']])), axis=1)\n",
    "\n",
    "    # Convert relevant_text to a list\n",
    "    relevant_text_list = relevant_text.tolist()\n",
    "\n",
    "    # Generate embeddings for user input and relevant data\n",
    "    user_embedding = generate_embeddings([user_input])\n",
    "    data_embeddings = generate_embeddings(relevant_text_list)\n",
    "\n",
    "    # Calculate cosine similarity between user input and data embeddings\n",
    "    similarity_scores = cosine_similarity(user_embedding, data_embeddings)[0]\n",
    "\n",
    "    # Sort the data by similarity scores in descending order and select top 5 rows\n",
    "    top_indices = np.argsort(similarity_scores)[::-1][:5]\n",
    "    \n",
    "    top_similar_topics = filtered_data.iloc[top_indices][['post_id', 'post_title', 'posttypeid', 'post_body', 'post_body_accepted']].to_dict('records')\n",
    "    \n",
    "    top_similarity_scores = similarity_scores[top_indices]\n",
    "\n",
    "    return top_similar_topics, top_similarity_scores"
   ]
  },
  {
   "cell_type": "code",
   "execution_count": 42,
   "id": "45ddd6aa",
   "metadata": {},
   "outputs": [
    {
     "name": "stdout",
     "output_type": "stream",
     "text": [
      "Most similar topics:\n",
      "1. Post ID: 4672 : Designing back plate for Ring Doorbell (similarity score: 0.21)\n",
      "2. Post ID: 20570 : How would this OLED be mounted if in a commercial device? (similarity score: 0.08)\n",
      "3. Post ID: 8172 : How do I decide what size my push-fit feature should be? (similarity score: 0.07)\n",
      "4. Post ID: 4681 : Make a nose cone in Fusion 360 (similarity score: 0.02)\n",
      "5. Post ID: 16106 : Source of design advice for modeling functional parts (similarity score: -0.00)\n"
     ]
    }
   ],
   "source": [
    "if __name__ == \"__main__\":\n",
    "    # Example usage:\n",
    "    user_question = \"3d printing ring door bell\"\n",
    "    user_tag = \"<3d-design>\"\n",
    "    \n",
    "\n",
    "    similar_topics, similarity_scores = topic_relevance_search(user_question, user_tag)\n",
    "    \n",
    "    print(\"Most similar topics:\")\n",
    "    \n",
    "    for i in range(len(similar_topics)):\n",
    "        post_id, post_title, posttypeid, post_body, post_body_accepted = similar_topics[i]['post_id'], similar_topics[i]['post_title'], similar_topics[i]['posttypeid'], similar_topics[i]['post_body'], similar_topics[i]['post_body_accepted']\n",
    "        \n",
    "        print(f\"{i+1}. Post ID: {post_id} : {post_title} (similarity score: {similarity_scores[i]:.2f})\")"
   ]
  },
  {
   "cell_type": "code",
   "execution_count": 43,
   "id": "fa05dd42",
   "metadata": {},
   "outputs": [
    {
     "name": "stdout",
     "output_type": "stream",
     "text": [
      "\n",
      "Selected topic: Make a nose cone in Fusion 360\n",
      "Accepted answer: <p>If you have a specific shape in mind and can create a sketch to represent that shape, you are halfway to your goal.</p>\n",
      "\n",
      "<p>The concept is simple. Create a single line sketch that would represent the desired curve, starting from, in this example, the nose of the cone and traveling to the base. Create only one-half of the nose cone curve and maintain a \"standard\" axis reference, say, using the Y-axis as the rotation point.</p>\n",
      "\n",
      "<p>The process is called <a href=\"http://help.autodesk.com/view/fusion360/ENU/?guid=GUID-5C62F370-7AB4-4DFD-BE61-F8830F30A6D7\" rel=\"noreferrer\">revolve. Fusion 360</a> supports this action directly.</p>\n",
      "\n",
      "<pre><code>In the Sculpt workspace, choose Create Revolve.\n",
      "Select the profile to revolve.\n",
      "In the Revolve dialog:\n",
      "    Click Axis and then select the axis to revolve around.\n",
      "    Choose Full or Angle to specify whether the revolution is full or to a specific angle.\n",
      "    For Direction choose One Side, Two Side or Symmetrical.\n",
      "    For Symmetry, choose None or Circular.\n",
      "</code></pre>\n",
      "\n",
      "<p>The above text is taken directly from the link. The specific web site also includes a Flash video of the steps involved.</p>\n",
      "\n",
      "<p>If thickness is required for your creation, consider to draw the sketch from the nose to the base, then use Offset or hand sketch in a parallel line that returns to the nose. Ensure the base segment is joined and that the nose segments are open and are aligned to the Y-axis.</p>\n",
      "\n",
      "<p>As the sketch is revolved, the nose sections will \"close\" while the base creates the closure necessary to make a solid that is hollow within and open at the bottom.</p>\n",
      "\n",
      "<p>Use The Google or your preferred search engine with the terms \"Fusion 360 Revolve\" to find many tutorials and videos with the same information presented in various ways.</p>\n",
      "\n",
      "Description: <p>I am new to Fusion 360 and I think I'm going straight to something complicated. Is there a way to make a nose cone for a model rocket? What tools would one you to accomplish this?</p>\n",
      "\n",
      "Comments:\n",
      "\t- @CarlWitthoft I am actually not making a model rocket. I am making an electric hydrofoil. I just wanted the nose cone front piece. I see your point though for rockets!\n",
      "\t- @CarlWitthoft IME, model rocket nosecones like those from Estes are made from rigid plastics. They're hollow to be sure, but definitely not very soft or crushable.\n",
      "\t- @DLS3141  showing my age, I guess.  When I was a kid, the nose cones were balsa\n"
     ]
    }
   ],
   "source": [
    "selected_topic_post_id = 4681\n",
    "    \n",
    "selected_topic_index = next(i for i in range(len(similar_topics)) if similar_topics[i]['post_id'] == selected_topic_post_id)\n",
    "    \n",
    "selected_topic = similar_topics[selected_topic_index]\n",
    "    \n",
    "post_id, post_title, posttypeid, post_body, post_body_accepted = selected_topic['post_id'], selected_topic['post_title'], selected_topic['posttypeid'], selected_topic['post_body'], selected_topic['post_body_accepted']\n",
    "    \n",
    "print(f\"\\nSelected topic: {post_title}\")\n",
    "    \n",
    "if pd.isna(post_body_accepted):\n",
    "        print(\"No accepted answer\")\n",
    "        accepted_answer_text = \"\"\n",
    "else:\n",
    "        print(f\"Accepted answer: {post_body_accepted}\")\n",
    "        accepted_answer_text = f\"\\n\\nAccepted answer:\\n{post_body_accepted}\"\n",
    "    \n",
    "if posttypeid == 1:\n",
    "        print(f\"Description: {post_body}\")\n",
    "        post_text = f\"\\n\\nDescription:\\n{post_body}\"\n",
    "elif posttypeid == 2:\n",
    "        print(f\"Answer: {post_body}\")\n",
    "        post_text = f\"\\n\\nAnswer:\\n{post_body}\"\n",
    "    \n",
    "post_comments = comments_df[comments_df['post_id'] == post_id]\n",
    "    \n",
    "comments_text = \"\"\n",
    "if not post_comments.empty:\n",
    "        print(\"Comments:\")\n",
    "        for comment in post_comments['comments_text']:\n",
    "            print(f\"\\t- {comment}\")\n",
    "            comments_text += f\"\\n- {comment}\"\n",
    "    "
   ]
  },
  {
   "cell_type": "markdown",
   "id": "72e8976c",
   "metadata": {},
   "source": [
    "## Feature 2 - Topic Summarization"
   ]
  },
  {
   "cell_type": "markdown",
   "id": "f23c3747",
   "metadata": {},
   "source": [
    "#### Gives a summary of the selected Post, it's comments and answer"
   ]
  },
  {
   "cell_type": "markdown",
   "id": "b2941930",
   "metadata": {},
   "source": [
    "### Langchain - OpenAI summarization"
   ]
  },
  {
   "cell_type": "code",
   "execution_count": 45,
   "id": "3d379451",
   "metadata": {},
   "outputs": [],
   "source": [
    "class Document:\n",
    "    def __init__(self, page_content):\n",
    "        self.page_content = page_content\n",
    "        self.metadata = {}"
   ]
  },
  {
   "cell_type": "code",
   "execution_count": 46,
   "id": "22bfdea5",
   "metadata": {},
   "outputs": [],
   "source": [
    "data = f\"{post_title}{post_text}{accepted_answer_text}\\n\\nComments:{comments_text}\"\n",
    "# Create a Document object from the data string\n",
    "doc = Document(page_content=data)"
   ]
  },
  {
   "cell_type": "code",
   "execution_count": 49,
   "id": "59a4c4d2",
   "metadata": {},
   "outputs": [
    {
     "name": "stdout",
     "output_type": "stream",
     "text": [
      "summary of the post - Make a nose cone in Fusion 360 :  \n",
      "Using Fusion 360, one can create a nose cone for a model rocket by creating a single line sketch of the desired shape, then using the Revolve tool to create the cone. The sketch should start from the nose and travel to the base, and the base segment should be joined while the nose segments should be open and aligned to the Y-axis. Offsetting or hand sketching a parallel line that returns to the nose can add thickness. Tutorials and videos are available online for further guidance.\n"
     ]
    }
   ],
   "source": [
    "# Initialize the OpenAI module and load the summarize chain\n",
    "llm = OpenAI(temperature=0, openai_api_key=\"\")\n",
    "chain = load_summarize_chain(llm, chain_type=\"stuff\")\n",
    "\n",
    "# Use the string variable as input to the summarization chain\n",
    "summary = chain.run(input_documents=[doc], question=\"Write a concise summary within 200 words.\")\n",
    "#print summary of post title\n",
    "print(f\"summary of the post - {post_title} : \", summary)"
   ]
  },
  {
   "cell_type": "markdown",
   "id": "4064a6ca",
   "metadata": {},
   "source": [
    "## Feature 3"
   ]
  },
  {
   "cell_type": "markdown",
   "id": "ab37c8db",
   "metadata": {},
   "source": [
    "### AI - Generated Answers"
   ]
  },
  {
   "cell_type": "markdown",
   "id": "d5f76998",
   "metadata": {},
   "source": [
    "### Users can view an AI generated answer for their questions \n",
    "-  if the most similar topic doesn't have an existing accepted answer\n",
    "-  if the user is not satisfied with the most similar topic itself\n",
    "### The model utilizes the topic's dataset along with user's question to generate an answer"
   ]
  },
  {
   "cell_type": "code",
   "execution_count": null,
   "id": "3e6a9003",
   "metadata": {},
   "outputs": [],
   "source": [
    "openai_api_key = \"\"\n",
    "# User input\n",
    "user_input = \"how to design a back plate for a Ring Doorbell?\"\n",
    "# Concatenate the data: post_title, post_text, accepted_answer_text, and comments_text\n",
    "data = f\"{post_title}{post_text}{accepted_answer_text}\\n\\nComments:{comments_text}\"\n",
    "openai.api_key = openai_api_key"
   ]
  },
  {
   "cell_type": "code",
   "execution_count": null,
   "id": "a19d535f",
   "metadata": {},
   "outputs": [],
   "source": [
    "def get_openai_response(user_input, data):\n",
    "    # Define the conversation history with system, user, and data messages\n",
    "    conversation = f\"You are a helpful assistant.\\n\\nUser: {user_input}\\n\\nData: {data}\"\n",
    "\n",
    "    # Use the OpenAI API to generate a response\n",
    "    response = openai.ChatCompletion.create(\n",
    "        model=\"gpt-3.5-turbo\",\n",
    "        messages=[\n",
    "            {\"role\": \"system\", \"content\": \"Give the answer to the user input using the data. If the answer doesn't exist in data, create your own answer.\"},\n",
    "            {\"role\": \"user\", \"content\": user_input},\n",
    "            {\"role\": \"system\", \"content\": f\"Data: {data}\"}\n",
    "        ],\n",
    "        temperature=0.2,\n",
    "        max_tokens=500\n",
    "    )\n",
    "\n",
    "    # Extract and return the model-generated answer from the response\n",
    "    return response[\"choices\"][0][\"message\"][\"content\"].strip()"
   ]
  },
  {
   "cell_type": "code",
   "execution_count": null,
   "id": "aedd5f82",
   "metadata": {},
   "outputs": [],
   "source": [
    "# Get the model's response based on the user input and the given data\n",
    "answer = get_openai_response(user_input, data)\n",
    "\n",
    "# Print the generated answer\n",
    "print(\"AI: \" + answer)"
   ]
  },
  {
   "cell_type": "markdown",
   "id": "f490ef76",
   "metadata": {},
   "source": []
  },
  {
   "cell_type": "markdown",
   "id": "d1efb02b",
   "metadata": {},
   "source": [
    "# xxxxx"
   ]
  },
  {
   "cell_type": "code",
   "execution_count": null,
   "id": "0fdb8de9",
   "metadata": {},
   "outputs": [],
   "source": []
  }
 ],
 "metadata": {
  "kernelspec": {
   "display_name": "Python 3 (ipykernel)",
   "language": "python",
   "name": "python3"
  },
  "language_info": {
   "codemirror_mode": {
    "name": "ipython",
    "version": 3
   },
   "file_extension": ".py",
   "mimetype": "text/x-python",
   "name": "python",
   "nbconvert_exporter": "python",
   "pygments_lexer": "ipython3",
   "version": "3.9.15"
  }
 },
 "nbformat": 4,
 "nbformat_minor": 5
}
