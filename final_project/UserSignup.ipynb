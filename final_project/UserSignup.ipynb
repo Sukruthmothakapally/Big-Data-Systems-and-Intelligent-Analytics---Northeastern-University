{
 "cells": [
  {
   "cell_type": "code",
   "execution_count": null,
   "id": "182bee13-e124-40fb-8946-d5ad9036615d",
   "metadata": {},
   "outputs": [],
   "source": [
    "#pip install fastapi"
   ]
  },
  {
   "cell_type": "code",
   "execution_count": null,
   "id": "e22974a8-ff78-4bd0-a0bb-0e10e2bc45a1",
   "metadata": {},
   "outputs": [],
   "source": [
    "#pip install uvicorn"
   ]
  },
  {
   "cell_type": "code",
   "execution_count": null,
   "id": "adfd41d0-7457-4bb8-b065-9c91095bd820",
   "metadata": {},
   "outputs": [],
   "source": [
    "#pip install snowflake-connector-python"
   ]
  },
  {
   "cell_type": "code",
   "execution_count": null,
   "id": "80a6b80f-dd5c-4e22-aa23-4be38e3a528b",
   "metadata": {},
   "outputs": [],
   "source": [
    "#pip install passlib"
   ]
  },
  {
   "cell_type": "code",
   "execution_count": null,
   "id": "61a06840-8b88-4d4b-be0f-12cf53da57e1",
   "metadata": {},
   "outputs": [],
   "source": [
    "#pip install \"pydantic[email]\""
   ]
  },
  {
   "cell_type": "code",
   "execution_count": null,
   "id": "106e6088-f1f6-4c81-9ab9-43bed6b724f7",
   "metadata": {},
   "outputs": [],
   "source": [
    "from fastapi import FastAPI, HTTPException\n",
    "from pydantic import BaseModel, EmailStr\n",
    "from snowflake.connector import connect\n",
    "from passlib.context import CryptContext\n",
    "import uvicorn\n",
    "\n",
    "app = FastAPI()\n",
    "\n",
    "# Snowflake Database Configuration\n",
    "SNOWFLAKE_USER = \"VEDANT1511\"\n",
    "SNOWFLAKE_PASSWORD = \"Ronaldo7vedant\"\n",
    "SNOWFLAKE_ACCOUNT = \"GMBDPCM-ZEB88340\"\n",
    "SNOWFLAKE_DATABASE = \"STACKAI\"\n",
    "SNOWFLAKE_SCHEMA = \"PUBLIC\"\n",
    "\n",
    "# Password Hashing Configuration\n",
    "pwd_context = CryptContext(schemes=[\"bcrypt\"], deprecated=\"auto\")\n",
    "\n",
    "\n",
    "# Function to create a Snowflake connection\n",
    "def get_snowflake_connection():\n",
    "    conn = connect(\n",
    "        user=SNOWFLAKE_USER,\n",
    "        password=SNOWFLAKE_PASSWORD,\n",
    "        account=SNOWFLAKE_ACCOUNT,\n",
    "        database=SNOWFLAKE_DATABASE,\n",
    "        schema=SNOWFLAKE_SCHEMA\n",
    "    )\n",
    "    return conn\n",
    "\n",
    "\n",
    "# Pydantic model for user signup\n",
    "class UserSignup(BaseModel):\n",
    "    email: EmailStr\n",
    "    username: str\n",
    "    password: str\n",
    "\n",
    "\n",
    "# New endpoint for manual user signup\n",
    "@app.post(\"/manual-register/\")\n",
    "async def manual_register_user(user_signup: UserSignup):\n",
    "    # Hash the password before storing it\n",
    "    hashed_password = pwd_context.hash(user_signup.password)\n",
    "\n",
    "    # Store the user information in the database\n",
    "    try:\n",
    "        conn = get_snowflake_connection()\n",
    "        cursor = conn.cursor()\n",
    "\n",
    "        cursor.execute(\n",
    "            f\"INSERT INTO users (email, username, password) VALUES ('{user_signup.email}', '{user_signup.username}', '{hashed_password}')\"\n",
    "        )\n",
    "\n",
    "        cursor.close()\n",
    "        conn.commit()\n",
    "        conn.close()\n",
    "\n",
    "        # Return the user data in the response\n",
    "        return {\"message\": \"User registered successfully!\", \"email\": user_signup.email, \"username\": user_signup.username}\n",
    "    except Exception as e:\n",
    "        # Handle database errors and other exceptions\n",
    "        raise HTTPException(status_code=500, detail=\"Internal Server Error\")\n",
    "\n",
    "\n",
    "if __name__ == \"__main__\":\n",
    "    import nest_asyncio\n",
    "    nest_asyncio.apply()\n",
    "    uvicorn.run(app, host=\"0.0.0.0\", port=8000)\n"
   ]
  },
  {
   "cell_type": "code",
   "execution_count": null,
   "id": "b7aa6580-52d5-46f0-be29-aec995498779",
   "metadata": {},
   "outputs": [],
   "source": [
    "Do this in Postman: Create a post request as:\n",
    "http://localhost:8000/register/\n",
    "\n",
    "{\n",
    "  \"email\": \"user@example.com\",\n",
    "  \"username\": \"new_user\",\n",
    "  \"password\": \"secretpassword\"\n",
    "}"
   ]
  }
 ],
 "metadata": {
  "kernelspec": {
   "display_name": "Python 3 (ipykernel)",
   "language": "python",
   "name": "python3"
  },
  "language_info": {
   "codemirror_mode": {
    "name": "ipython",
    "version": 3
   },
   "file_extension": ".py",
   "mimetype": "text/x-python",
   "name": "python",
   "nbconvert_exporter": "python",
   "pygments_lexer": "ipython3",
   "version": "3.11.4"
  }
 },
 "nbformat": 4,
 "nbformat_minor": 5
}
