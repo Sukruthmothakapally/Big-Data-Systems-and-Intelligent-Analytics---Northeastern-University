{
 "cells": [
  {
   "cell_type": "code",
   "execution_count": 1,
   "id": "61cf14e7",
   "metadata": {
    "ExecuteTime": {
     "end_time": "2023-08-02T17:29:25.243789Z",
     "start_time": "2023-08-02T17:29:23.423793Z"
    }
   },
   "outputs": [],
   "source": [
    "import pandas as pd"
   ]
  },
  {
   "cell_type": "code",
   "execution_count": 2,
   "id": "213eee3c",
   "metadata": {
    "ExecuteTime": {
     "end_time": "2023-08-02T17:29:26.098794Z",
     "start_time": "2023-08-02T17:29:25.254793Z"
    }
   },
   "outputs": [],
   "source": [
    "posts_df = pd.read_csv(\"C:\\\\Users\\\\Dell\\\\OneDrive - Northeastern University\\\\courses\\\\big data and intl analytics\\\\DAMG7245-Summer2023\\\\final project\\\\dataset_converted\\\\3d_printing\\\\posts.csv\")"
   ]
  },
  {
   "cell_type": "code",
   "execution_count": 3,
   "id": "3cb43032",
   "metadata": {
    "ExecuteTime": {
     "end_time": "2023-08-02T17:29:26.445791Z",
     "start_time": "2023-08-02T17:29:26.104795Z"
    }
   },
   "outputs": [],
   "source": [
    "comments_df = pd.read_csv(\"C:\\\\Users\\\\Dell\\\\OneDrive - Northeastern University\\\\courses\\\\big data and intl analytics\\\\DAMG7245-Summer2023\\\\final project\\\\dataset_converted\\\\3d_printing\\\\comments.csv\")"
   ]
  },
  {
   "cell_type": "code",
   "execution_count": 4,
   "id": "978315ec",
   "metadata": {
    "ExecuteTime": {
     "end_time": "2023-08-02T17:29:26.556797Z",
     "start_time": "2023-08-02T17:29:26.460795Z"
    }
   },
   "outputs": [
    {
     "data": {
      "text/html": [
       "<div>\n",
       "<style scoped>\n",
       "    .dataframe tbody tr th:only-of-type {\n",
       "        vertical-align: middle;\n",
       "    }\n",
       "\n",
       "    .dataframe tbody tr th {\n",
       "        vertical-align: top;\n",
       "    }\n",
       "\n",
       "    .dataframe thead th {\n",
       "        text-align: right;\n",
       "    }\n",
       "</style>\n",
       "<table border=\"1\" class=\"dataframe\">\n",
       "  <thead>\n",
       "    <tr style=\"text-align: right;\">\n",
       "      <th></th>\n",
       "      <th>Unnamed: 0</th>\n",
       "      <th>Id</th>\n",
       "      <th>PostTypeId</th>\n",
       "      <th>CreationDate</th>\n",
       "      <th>Score</th>\n",
       "      <th>ViewCount</th>\n",
       "      <th>Body</th>\n",
       "      <th>OwnerUserId</th>\n",
       "      <th>LastActivityDate</th>\n",
       "      <th>Title</th>\n",
       "      <th>Tags</th>\n",
       "      <th>AnswerCount</th>\n",
       "      <th>CommentCount</th>\n",
       "      <th>AcceptedAnswerId</th>\n",
       "      <th>LastEditorUserId</th>\n",
       "      <th>ParentId</th>\n",
       "    </tr>\n",
       "  </thead>\n",
       "  <tbody>\n",
       "    <tr>\n",
       "      <th>0</th>\n",
       "      <td>0</td>\n",
       "      <td>1</td>\n",
       "      <td>1</td>\n",
       "      <td>2016-01-12T18:45:19.963</td>\n",
       "      <td>10</td>\n",
       "      <td>424.0</td>\n",
       "      <td>&lt;p&gt;When I've printed an object I've had to cho...</td>\n",
       "      <td>16.0</td>\n",
       "      <td>2017-10-31T02:31:08.560</td>\n",
       "      <td>How to obtain high resolution prints in a shor...</td>\n",
       "      <td>&lt;resolution&gt;&lt;speed&gt;&lt;quality&gt;</td>\n",
       "      <td>2.0</td>\n",
       "      <td>6</td>\n",
       "      <td>51.0</td>\n",
       "      <td>NaN</td>\n",
       "      <td>NaN</td>\n",
       "    </tr>\n",
       "    <tr>\n",
       "      <th>1</th>\n",
       "      <td>1</td>\n",
       "      <td>2</td>\n",
       "      <td>1</td>\n",
       "      <td>2016-01-12T18:45:51.287</td>\n",
       "      <td>34</td>\n",
       "      <td>7377.0</td>\n",
       "      <td>&lt;p&gt;I would like to buy a 3D printer, but I'm c...</td>\n",
       "      <td>20.0</td>\n",
       "      <td>2019-06-10T23:18:34.190</td>\n",
       "      <td>Is 3D printing safe for your health?</td>\n",
       "      <td>&lt;print-material&gt;&lt;safety&gt;&lt;health&gt;</td>\n",
       "      <td>4.0</td>\n",
       "      <td>1</td>\n",
       "      <td>12.0</td>\n",
       "      <td>334.0</td>\n",
       "      <td>NaN</td>\n",
       "    </tr>\n",
       "    <tr>\n",
       "      <th>2</th>\n",
       "      <td>2</td>\n",
       "      <td>3</td>\n",
       "      <td>1</td>\n",
       "      <td>2016-01-12T18:46:22.083</td>\n",
       "      <td>18</td>\n",
       "      <td>2678.0</td>\n",
       "      <td>&lt;p&gt;I know the minimum layer height will effect...</td>\n",
       "      <td>11.0</td>\n",
       "      <td>2016-09-19T15:41:06.537</td>\n",
       "      <td>How important is the minimum layer height on a...</td>\n",
       "      <td>&lt;quality&gt;&lt;resolution&gt;</td>\n",
       "      <td>3.0</td>\n",
       "      <td>5</td>\n",
       "      <td>152.0</td>\n",
       "      <td>11.0</td>\n",
       "      <td>NaN</td>\n",
       "    </tr>\n",
       "    <tr>\n",
       "      <th>3</th>\n",
       "      <td>3</td>\n",
       "      <td>4</td>\n",
       "      <td>1</td>\n",
       "      <td>2016-01-12T18:50:55.973</td>\n",
       "      <td>18</td>\n",
       "      <td>384.0</td>\n",
       "      <td>&lt;p&gt;Plastic is used in 3D FDM/FFF printing part...</td>\n",
       "      <td>16.0</td>\n",
       "      <td>2016-06-10T13:32:20.493</td>\n",
       "      <td>Are there any metals that exhibit a large glas...</td>\n",
       "      <td>&lt;fdm&gt;&lt;material&gt;&lt;print-material&gt;&lt;metal-parts&gt;</td>\n",
       "      <td>4.0</td>\n",
       "      <td>0</td>\n",
       "      <td>1289.0</td>\n",
       "      <td>98.0</td>\n",
       "      <td>NaN</td>\n",
       "    </tr>\n",
       "    <tr>\n",
       "      <th>4</th>\n",
       "      <td>4</td>\n",
       "      <td>5</td>\n",
       "      <td>1</td>\n",
       "      <td>2016-01-12T18:53:53.623</td>\n",
       "      <td>40</td>\n",
       "      <td>3985.0</td>\n",
       "      <td>&lt;p&gt;What are the main differences when using AB...</td>\n",
       "      <td>11.0</td>\n",
       "      <td>2017-08-02T09:49:07.263</td>\n",
       "      <td>How is PLA different from ABS material?</td>\n",
       "      <td>&lt;filament&gt;&lt;abs&gt;&lt;fdm&gt;&lt;pla&gt;</td>\n",
       "      <td>5.0</td>\n",
       "      <td>5</td>\n",
       "      <td>77.0</td>\n",
       "      <td>20.0</td>\n",
       "      <td>NaN</td>\n",
       "    </tr>\n",
       "  </tbody>\n",
       "</table>\n",
       "</div>"
      ],
      "text/plain": [
       "   Unnamed: 0  Id  PostTypeId             CreationDate  Score  ViewCount  \\\n",
       "0           0   1           1  2016-01-12T18:45:19.963     10      424.0   \n",
       "1           1   2           1  2016-01-12T18:45:51.287     34     7377.0   \n",
       "2           2   3           1  2016-01-12T18:46:22.083     18     2678.0   \n",
       "3           3   4           1  2016-01-12T18:50:55.973     18      384.0   \n",
       "4           4   5           1  2016-01-12T18:53:53.623     40     3985.0   \n",
       "\n",
       "                                                Body  OwnerUserId  \\\n",
       "0  <p>When I've printed an object I've had to cho...         16.0   \n",
       "1  <p>I would like to buy a 3D printer, but I'm c...         20.0   \n",
       "2  <p>I know the minimum layer height will effect...         11.0   \n",
       "3  <p>Plastic is used in 3D FDM/FFF printing part...         16.0   \n",
       "4  <p>What are the main differences when using AB...         11.0   \n",
       "\n",
       "          LastActivityDate                                              Title  \\\n",
       "0  2017-10-31T02:31:08.560  How to obtain high resolution prints in a shor...   \n",
       "1  2019-06-10T23:18:34.190               Is 3D printing safe for your health?   \n",
       "2  2016-09-19T15:41:06.537  How important is the minimum layer height on a...   \n",
       "3  2016-06-10T13:32:20.493  Are there any metals that exhibit a large glas...   \n",
       "4  2017-08-02T09:49:07.263            How is PLA different from ABS material?   \n",
       "\n",
       "                                           Tags  AnswerCount  CommentCount  \\\n",
       "0                  <resolution><speed><quality>          2.0             6   \n",
       "1              <print-material><safety><health>          4.0             1   \n",
       "2                         <quality><resolution>          3.0             5   \n",
       "3  <fdm><material><print-material><metal-parts>          4.0             0   \n",
       "4                     <filament><abs><fdm><pla>          5.0             5   \n",
       "\n",
       "   AcceptedAnswerId  LastEditorUserId  ParentId  \n",
       "0              51.0               NaN       NaN  \n",
       "1              12.0             334.0       NaN  \n",
       "2             152.0              11.0       NaN  \n",
       "3            1289.0              98.0       NaN  \n",
       "4              77.0              20.0       NaN  "
      ]
     },
     "execution_count": 4,
     "metadata": {},
     "output_type": "execute_result"
    }
   ],
   "source": [
    "posts_df.head()"
   ]
  },
  {
   "cell_type": "code",
   "execution_count": 5,
   "id": "7496a2a9",
   "metadata": {
    "ExecuteTime": {
     "end_time": "2023-08-02T17:29:26.603795Z",
     "start_time": "2023-08-02T17:29:26.563794Z"
    }
   },
   "outputs": [
    {
     "data": {
      "text/html": [
       "<div>\n",
       "<style scoped>\n",
       "    .dataframe tbody tr th:only-of-type {\n",
       "        vertical-align: middle;\n",
       "    }\n",
       "\n",
       "    .dataframe tbody tr th {\n",
       "        vertical-align: top;\n",
       "    }\n",
       "\n",
       "    .dataframe thead th {\n",
       "        text-align: right;\n",
       "    }\n",
       "</style>\n",
       "<table border=\"1\" class=\"dataframe\">\n",
       "  <thead>\n",
       "    <tr style=\"text-align: right;\">\n",
       "      <th></th>\n",
       "      <th>Unnamed: 0</th>\n",
       "      <th>Id</th>\n",
       "      <th>PostId</th>\n",
       "      <th>Score</th>\n",
       "      <th>Text</th>\n",
       "      <th>CreationDate</th>\n",
       "      <th>UserId</th>\n",
       "      <th>ContentLicense</th>\n",
       "    </tr>\n",
       "  </thead>\n",
       "  <tbody>\n",
       "    <tr>\n",
       "      <th>0</th>\n",
       "      <td>0</td>\n",
       "      <td>1</td>\n",
       "      <td>1</td>\n",
       "      <td>4</td>\n",
       "      <td>Did I just place the first upvote?  Congrats o...</td>\n",
       "      <td>2016-01-12T18:47:12.573</td>\n",
       "      <td>23.0</td>\n",
       "      <td>CC BY-SA 3.0</td>\n",
       "    </tr>\n",
       "    <tr>\n",
       "      <th>1</th>\n",
       "      <td>1</td>\n",
       "      <td>2</td>\n",
       "      <td>3</td>\n",
       "      <td>1</td>\n",
       "      <td>I think it would be a good idea to specify wha...</td>\n",
       "      <td>2016-01-12T19:01:35.180</td>\n",
       "      <td>10.0</td>\n",
       "      <td>CC BY-SA 3.0</td>\n",
       "    </tr>\n",
       "    <tr>\n",
       "      <th>2</th>\n",
       "      <td>2</td>\n",
       "      <td>3</td>\n",
       "      <td>1</td>\n",
       "      <td>1</td>\n",
       "      <td>What are you looking for in an answer? You are...</td>\n",
       "      <td>2016-01-12T19:42:08.613</td>\n",
       "      <td>26.0</td>\n",
       "      <td>CC BY-SA 3.0</td>\n",
       "    </tr>\n",
       "    <tr>\n",
       "      <th>3</th>\n",
       "      <td>3</td>\n",
       "      <td>4</td>\n",
       "      <td>21</td>\n",
       "      <td>9</td>\n",
       "      <td>It is worth noting here that acetone finishing...</td>\n",
       "      <td>2016-01-12T19:42:19.530</td>\n",
       "      <td>36.0</td>\n",
       "      <td>CC BY-SA 3.0</td>\n",
       "    </tr>\n",
       "    <tr>\n",
       "      <th>4</th>\n",
       "      <td>4</td>\n",
       "      <td>5</td>\n",
       "      <td>5</td>\n",
       "      <td>7</td>\n",
       "      <td>I think this is too broad for a good exhaustiv...</td>\n",
       "      <td>2016-01-12T19:44:02.667</td>\n",
       "      <td>36.0</td>\n",
       "      <td>CC BY-SA 3.0</td>\n",
       "    </tr>\n",
       "  </tbody>\n",
       "</table>\n",
       "</div>"
      ],
      "text/plain": [
       "   Unnamed: 0  Id  PostId  Score  \\\n",
       "0           0   1       1      4   \n",
       "1           1   2       3      1   \n",
       "2           2   3       1      1   \n",
       "3           3   4      21      9   \n",
       "4           4   5       5      7   \n",
       "\n",
       "                                                Text             CreationDate  \\\n",
       "0  Did I just place the first upvote?  Congrats o...  2016-01-12T18:47:12.573   \n",
       "1  I think it would be a good idea to specify wha...  2016-01-12T19:01:35.180   \n",
       "2  What are you looking for in an answer? You are...  2016-01-12T19:42:08.613   \n",
       "3  It is worth noting here that acetone finishing...  2016-01-12T19:42:19.530   \n",
       "4  I think this is too broad for a good exhaustiv...  2016-01-12T19:44:02.667   \n",
       "\n",
       "   UserId ContentLicense  \n",
       "0    23.0   CC BY-SA 3.0  \n",
       "1    10.0   CC BY-SA 3.0  \n",
       "2    26.0   CC BY-SA 3.0  \n",
       "3    36.0   CC BY-SA 3.0  \n",
       "4    36.0   CC BY-SA 3.0  "
      ]
     },
     "execution_count": 5,
     "metadata": {},
     "output_type": "execute_result"
    }
   ],
   "source": [
    "comments_df.head()"
   ]
  },
  {
   "cell_type": "code",
   "execution_count": 6,
   "id": "81c2dd75",
   "metadata": {
    "ExecuteTime": {
     "end_time": "2023-08-02T17:29:26.635793Z",
     "start_time": "2023-08-02T17:29:26.609792Z"
    }
   },
   "outputs": [
    {
     "data": {
      "text/plain": [
       "Unnamed: 0            int64\n",
       "Id                    int64\n",
       "PostTypeId            int64\n",
       "CreationDate         object\n",
       "Score                 int64\n",
       "ViewCount           float64\n",
       "Body                 object\n",
       "OwnerUserId         float64\n",
       "LastActivityDate     object\n",
       "Title                object\n",
       "Tags                 object\n",
       "AnswerCount         float64\n",
       "CommentCount          int64\n",
       "AcceptedAnswerId    float64\n",
       "LastEditorUserId    float64\n",
       "ParentId            float64\n",
       "dtype: object"
      ]
     },
     "execution_count": 6,
     "metadata": {},
     "output_type": "execute_result"
    }
   ],
   "source": [
    "posts_df.dtypes"
   ]
  },
  {
   "cell_type": "code",
   "execution_count": 7,
   "id": "e0c3700a",
   "metadata": {
    "ExecuteTime": {
     "end_time": "2023-08-02T17:29:26.667791Z",
     "start_time": "2023-08-02T17:29:26.642796Z"
    }
   },
   "outputs": [
    {
     "data": {
      "text/plain": [
       "Unnamed: 0          int64\n",
       "Id                  int64\n",
       "PostId              int64\n",
       "Score               int64\n",
       "Text               object\n",
       "CreationDate       object\n",
       "UserId            float64\n",
       "ContentLicense     object\n",
       "dtype: object"
      ]
     },
     "execution_count": 7,
     "metadata": {},
     "output_type": "execute_result"
    }
   ],
   "source": [
    "comments_df.dtypes"
   ]
  },
  {
   "cell_type": "code",
   "execution_count": 8,
   "id": "60762084",
   "metadata": {
    "ExecuteTime": {
     "end_time": "2023-08-02T17:29:26.699827Z",
     "start_time": "2023-08-02T17:29:26.679796Z"
    }
   },
   "outputs": [
    {
     "data": {
      "text/plain": [
       "(14475, 16)"
      ]
     },
     "execution_count": 8,
     "metadata": {},
     "output_type": "execute_result"
    }
   ],
   "source": [
    "posts_df.shape"
   ]
  },
  {
   "cell_type": "code",
   "execution_count": 9,
   "id": "00ae5c11",
   "metadata": {
    "ExecuteTime": {
     "end_time": "2023-08-02T17:29:32.027794Z",
     "start_time": "2023-08-02T17:29:32.013793Z"
    }
   },
   "outputs": [
    {
     "data": {
      "text/plain": [
       "(24320, 8)"
      ]
     },
     "execution_count": 9,
     "metadata": {},
     "output_type": "execute_result"
    }
   ],
   "source": [
    "comments_df.shape"
   ]
  },
  {
   "cell_type": "code",
   "execution_count": 10,
   "id": "d5c0471f",
   "metadata": {
    "ExecuteTime": {
     "end_time": "2023-08-02T17:29:34.670794Z",
     "start_time": "2023-08-02T17:29:34.643793Z"
    }
   },
   "outputs": [],
   "source": [
    "# Rename columns in posts_df\n",
    "posts_df = posts_df.rename(columns={\n",
    "    'Id': 'post_id',\n",
    "    'PostTypeId': 'posttypeid',\n",
    "    'CreationDate': 'post_creationdate',\n",
    "    'Score': 'post_score',\n",
    "    'ViewCount': 'post_viewcount',\n",
    "    'Body': 'post_body',\n",
    "    'Title': 'post_title',\n",
    "    'Tags': 'post_tags',\n",
    "    'AcceptedAnswerId': 'post_acceptedanswerid'\n",
    "})\n",
    "\n",
    "# Rename columns in comments_df\n",
    "comments_df = comments_df.rename(columns={\n",
    "    'Text': 'comments_text',\n",
    "    'Score': 'comments_score',\n",
    "    'CreationDate': 'comments_creationdate'\n",
    "})\n",
    "\n",
    "\n"
   ]
  },
  {
   "cell_type": "code",
   "execution_count": 11,
   "id": "8c6c1f8a",
   "metadata": {
    "ExecuteTime": {
     "end_time": "2023-08-02T17:30:27.607791Z",
     "start_time": "2023-08-02T17:30:27.500793Z"
    }
   },
   "outputs": [],
   "source": [
    "# Join posts dataframe with itself on post_acceptedanswerid and post_id\n",
    "posts_df = pd.merge(posts_df, posts_df, left_on='post_acceptedanswerid', right_on='post_id', how='left', suffixes=('', '_accepted'))\n",
    "\n",
    "# Keep only the required columns\n",
    "posts_df = posts_df[['post_id', 'posttypeid', 'post_creationdate', 'post_score', \n",
    "               'post_viewcount', 'post_body', 'post_title', \n",
    "               'post_tags',\n",
    "               'post_body_accepted', 'post_score_accepted']]\n"
   ]
  },
  {
   "cell_type": "code",
   "execution_count": 12,
   "id": "a3828230",
   "metadata": {
    "ExecuteTime": {
     "end_time": "2023-08-02T17:30:30.890792Z",
     "start_time": "2023-08-02T17:30:30.865794Z"
    }
   },
   "outputs": [],
   "source": [
    "# Keep only rows where posttypeid is 1 or 2\n",
    "posts_df = posts_df[posts_df['posttypeid'].isin([1, 2])]"
   ]
  },
  {
   "cell_type": "code",
   "execution_count": 13,
   "id": "d08a3c6c",
   "metadata": {
    "ExecuteTime": {
     "end_time": "2023-08-02T17:30:34.040792Z",
     "start_time": "2023-08-02T17:30:34.014797Z"
    }
   },
   "outputs": [],
   "source": [
    "# Keep only rows where post_tags is <2d>, <3d-design>, or null\n",
    "mask = posts_df['post_tags'].isin(['<2d>', '<3d-design>']) | posts_df['post_tags'].isnull()\n",
    "posts_df = posts_df[mask]"
   ]
  },
  {
   "cell_type": "code",
   "execution_count": 14,
   "id": "8125fae9",
   "metadata": {
    "ExecuteTime": {
     "end_time": "2023-08-02T17:32:22.053934Z",
     "start_time": "2023-08-02T17:32:22.042932Z"
    }
   },
   "outputs": [
    {
     "data": {
      "text/plain": [
       "(8508, 10)"
      ]
     },
     "execution_count": 14,
     "metadata": {},
     "output_type": "execute_result"
    }
   ],
   "source": [
    "posts_df.shape"
   ]
  },
  {
   "cell_type": "code",
   "execution_count": 15,
   "id": "0d3ce0ff",
   "metadata": {
    "ExecuteTime": {
     "end_time": "2023-08-02T17:32:37.326194Z",
     "start_time": "2023-08-02T17:32:37.313189Z"
    }
   },
   "outputs": [
    {
     "data": {
      "text/plain": [
       "(100, 10)"
      ]
     },
     "execution_count": 15,
     "metadata": {},
     "output_type": "execute_result"
    }
   ],
   "source": [
    "# Keep only the first 100 rows of the DataFrame\n",
    "posts_df = posts_df.head(100)\n",
    "posts_df.shape"
   ]
  },
  {
   "cell_type": "code",
   "execution_count": 16,
   "id": "1af6898a",
   "metadata": {
    "ExecuteTime": {
     "end_time": "2023-08-02T17:32:43.348640Z",
     "start_time": "2023-08-02T17:32:43.319637Z"
    }
   },
   "outputs": [],
   "source": [
    "# Merge the dataframes\n",
    "df_result = pd.merge(posts_df, comments_df, left_on='post_id', right_on='PostId', how='left')"
   ]
  },
  {
   "cell_type": "code",
   "execution_count": 17,
   "id": "a13ef421",
   "metadata": {
    "ExecuteTime": {
     "end_time": "2023-08-02T17:32:48.415247Z",
     "start_time": "2023-08-02T17:32:48.402243Z"
    }
   },
   "outputs": [],
   "source": [
    "# Remove rows where comments_text, comments_score, or comments_creationdate is null\n",
    "mask = df_result['comments_text'].notnull() & df_result['comments_score'].notnull() & df_result['comments_creationdate'].notnull()\n",
    "df_result = df_result[mask]"
   ]
  },
  {
   "cell_type": "code",
   "execution_count": 18,
   "id": "c2b6fc42",
   "metadata": {
    "ExecuteTime": {
     "end_time": "2023-08-02T17:32:51.666040Z",
     "start_time": "2023-08-02T17:32:51.645037Z"
    }
   },
   "outputs": [],
   "source": [
    "# Keep only the required columns\n",
    "df_result = df_result[['post_id', 'posttypeid', 'post_creationdate', 'post_score', \n",
    "                       'post_viewcount', 'post_body', 'post_title', \n",
    "                       'post_tags', 'post_body_accepted', 'post_score_accepted', \n",
    "                       'comments_text', 'comments_score', \n",
    "                       'comments_creationdate']]"
   ]
  },
  {
   "cell_type": "code",
   "execution_count": 19,
   "id": "21aa2d38",
   "metadata": {
    "ExecuteTime": {
     "end_time": "2023-08-02T17:32:54.783199Z",
     "start_time": "2023-08-02T17:32:54.764201Z"
    }
   },
   "outputs": [],
   "source": [
    "# Create a posts dataframe\n",
    "posts = df_result[['post_id', 'posttypeid', 'post_creationdate', 'post_score', \n",
    "                   'post_viewcount', 'post_body', 'post_title', \n",
    "                   'post_tags', 'post_body_accepted', 'post_score_accepted']].drop_duplicates()\n",
    "\n"
   ]
  },
  {
   "cell_type": "code",
   "execution_count": 20,
   "id": "e8b189f1",
   "metadata": {
    "ExecuteTime": {
     "end_time": "2023-08-02T17:32:55.781203Z",
     "start_time": "2023-08-02T17:32:55.767203Z"
    }
   },
   "outputs": [],
   "source": [
    "# Create a comments dataframe\n",
    "comments = df_result[['post_id', 'comments_text', \n",
    "                      'comments_score', \n",
    "                      'comments_creationdate']]"
   ]
  },
  {
   "cell_type": "code",
   "execution_count": 21,
   "id": "ad6710c0",
   "metadata": {
    "ExecuteTime": {
     "end_time": "2023-08-02T17:32:58.484120Z",
     "start_time": "2023-08-02T17:32:58.472122Z"
    }
   },
   "outputs": [
    {
     "data": {
      "text/plain": [
       "(54, 10)"
      ]
     },
     "execution_count": 21,
     "metadata": {},
     "output_type": "execute_result"
    }
   ],
   "source": [
    "posts.shape"
   ]
  },
  {
   "cell_type": "code",
   "execution_count": 22,
   "id": "90ea98cb",
   "metadata": {
    "ExecuteTime": {
     "end_time": "2023-08-02T17:32:59.283885Z",
     "start_time": "2023-08-02T17:32:59.269881Z"
    }
   },
   "outputs": [
    {
     "data": {
      "text/plain": [
       "(136, 4)"
      ]
     },
     "execution_count": 22,
     "metadata": {},
     "output_type": "execute_result"
    }
   ],
   "source": [
    "comments.shape"
   ]
  },
  {
   "cell_type": "code",
   "execution_count": 23,
   "id": "4447fc2b",
   "metadata": {
    "ExecuteTime": {
     "end_time": "2023-08-02T17:33:25.653427Z",
     "start_time": "2023-08-02T17:33:25.608430Z"
    }
   },
   "outputs": [],
   "source": [
    "posts.to_csv('posts_cleaned.csv', index=False)"
   ]
  },
  {
   "cell_type": "code",
   "execution_count": 24,
   "id": "665fa730",
   "metadata": {
    "ExecuteTime": {
     "end_time": "2023-08-02T17:33:27.358131Z",
     "start_time": "2023-08-02T17:33:27.341135Z"
    }
   },
   "outputs": [],
   "source": [
    "comments.to_csv('comments_cleaned.csv', index=False)"
   ]
  },
  {
   "cell_type": "code",
   "execution_count": 25,
   "id": "c86b63e5",
   "metadata": {
    "ExecuteTime": {
     "end_time": "2023-08-02T17:33:32.353799Z",
     "start_time": "2023-08-02T17:33:32.330799Z"
    }
   },
   "outputs": [
    {
     "data": {
      "text/html": [
       "<div>\n",
       "<style scoped>\n",
       "    .dataframe tbody tr th:only-of-type {\n",
       "        vertical-align: middle;\n",
       "    }\n",
       "\n",
       "    .dataframe tbody tr th {\n",
       "        vertical-align: top;\n",
       "    }\n",
       "\n",
       "    .dataframe thead th {\n",
       "        text-align: right;\n",
       "    }\n",
       "</style>\n",
       "<table border=\"1\" class=\"dataframe\">\n",
       "  <thead>\n",
       "    <tr style=\"text-align: right;\">\n",
       "      <th></th>\n",
       "      <th>post_id</th>\n",
       "      <th>posttypeid</th>\n",
       "      <th>post_creationdate</th>\n",
       "      <th>post_score</th>\n",
       "      <th>post_viewcount</th>\n",
       "      <th>post_body</th>\n",
       "      <th>post_title</th>\n",
       "      <th>post_tags</th>\n",
       "      <th>post_body_accepted</th>\n",
       "      <th>post_score_accepted</th>\n",
       "    </tr>\n",
       "  </thead>\n",
       "  <tbody>\n",
       "    <tr>\n",
       "      <th>0</th>\n",
       "      <td>9</td>\n",
       "      <td>2</td>\n",
       "      <td>2016-01-12T18:58:04.410</td>\n",
       "      <td>18</td>\n",
       "      <td>NaN</td>\n",
       "      <td>&lt;p&gt;Almost all 3D printers have issues that cou...</td>\n",
       "      <td>NaN</td>\n",
       "      <td>NaN</td>\n",
       "      <td>NaN</td>\n",
       "      <td>NaN</td>\n",
       "    </tr>\n",
       "    <tr>\n",
       "      <th>2</th>\n",
       "      <td>12</td>\n",
       "      <td>2</td>\n",
       "      <td>2016-01-12T19:13:00.710</td>\n",
       "      <td>23</td>\n",
       "      <td>NaN</td>\n",
       "      <td>&lt;p&gt;There is very little information about safe...</td>\n",
       "      <td>NaN</td>\n",
       "      <td>NaN</td>\n",
       "      <td>NaN</td>\n",
       "      <td>NaN</td>\n",
       "    </tr>\n",
       "    <tr>\n",
       "      <th>4</th>\n",
       "      <td>15</td>\n",
       "      <td>2</td>\n",
       "      <td>2016-01-12T19:25:07.817</td>\n",
       "      <td>5</td>\n",
       "      <td>NaN</td>\n",
       "      <td>&lt;p&gt;Apart from the inherent process itself and ...</td>\n",
       "      <td>NaN</td>\n",
       "      <td>NaN</td>\n",
       "      <td>NaN</td>\n",
       "      <td>NaN</td>\n",
       "    </tr>\n",
       "    <tr>\n",
       "      <th>6</th>\n",
       "      <td>17</td>\n",
       "      <td>2</td>\n",
       "      <td>2016-01-12T19:27:20.113</td>\n",
       "      <td>5</td>\n",
       "      <td>NaN</td>\n",
       "      <td>&lt;p&gt;I\"m no expert on this, but the article at &lt;...</td>\n",
       "      <td>NaN</td>\n",
       "      <td>NaN</td>\n",
       "      <td>NaN</td>\n",
       "      <td>NaN</td>\n",
       "    </tr>\n",
       "    <tr>\n",
       "      <th>8</th>\n",
       "      <td>18</td>\n",
       "      <td>2</td>\n",
       "      <td>2016-01-12T19:28:04.263</td>\n",
       "      <td>10</td>\n",
       "      <td>NaN</td>\n",
       "      <td>&lt;p&gt;PET(G) is a strong contender. It is very st...</td>\n",
       "      <td>NaN</td>\n",
       "      <td>NaN</td>\n",
       "      <td>NaN</td>\n",
       "      <td>NaN</td>\n",
       "    </tr>\n",
       "  </tbody>\n",
       "</table>\n",
       "</div>"
      ],
      "text/plain": [
       "   post_id  posttypeid        post_creationdate  post_score  post_viewcount  \\\n",
       "0        9           2  2016-01-12T18:58:04.410          18             NaN   \n",
       "2       12           2  2016-01-12T19:13:00.710          23             NaN   \n",
       "4       15           2  2016-01-12T19:25:07.817           5             NaN   \n",
       "6       17           2  2016-01-12T19:27:20.113           5             NaN   \n",
       "8       18           2  2016-01-12T19:28:04.263          10             NaN   \n",
       "\n",
       "                                           post_body post_title post_tags  \\\n",
       "0  <p>Almost all 3D printers have issues that cou...        NaN       NaN   \n",
       "2  <p>There is very little information about safe...        NaN       NaN   \n",
       "4  <p>Apart from the inherent process itself and ...        NaN       NaN   \n",
       "6  <p>I\"m no expert on this, but the article at <...        NaN       NaN   \n",
       "8  <p>PET(G) is a strong contender. It is very st...        NaN       NaN   \n",
       "\n",
       "  post_body_accepted  post_score_accepted  \n",
       "0                NaN                  NaN  \n",
       "2                NaN                  NaN  \n",
       "4                NaN                  NaN  \n",
       "6                NaN                  NaN  \n",
       "8                NaN                  NaN  "
      ]
     },
     "execution_count": 25,
     "metadata": {},
     "output_type": "execute_result"
    }
   ],
   "source": [
    "posts.head()"
   ]
  },
  {
   "cell_type": "code",
   "execution_count": 26,
   "id": "8f52fa88",
   "metadata": {
    "ExecuteTime": {
     "end_time": "2023-08-02T17:33:33.162059Z",
     "start_time": "2023-08-02T17:33:33.145055Z"
    }
   },
   "outputs": [
    {
     "data": {
      "text/html": [
       "<div>\n",
       "<style scoped>\n",
       "    .dataframe tbody tr th:only-of-type {\n",
       "        vertical-align: middle;\n",
       "    }\n",
       "\n",
       "    .dataframe tbody tr th {\n",
       "        vertical-align: top;\n",
       "    }\n",
       "\n",
       "    .dataframe thead th {\n",
       "        text-align: right;\n",
       "    }\n",
       "</style>\n",
       "<table border=\"1\" class=\"dataframe\">\n",
       "  <thead>\n",
       "    <tr style=\"text-align: right;\">\n",
       "      <th></th>\n",
       "      <th>post_id</th>\n",
       "      <th>comments_text</th>\n",
       "      <th>comments_score</th>\n",
       "      <th>comments_creationdate</th>\n",
       "    </tr>\n",
       "  </thead>\n",
       "  <tbody>\n",
       "    <tr>\n",
       "      <th>0</th>\n",
       "      <td>9</td>\n",
       "      <td>I'm not sure this applies worldwide: but in Ca...</td>\n",
       "      <td>0.0</td>\n",
       "      <td>2016-01-13T01:14:36.707</td>\n",
       "    </tr>\n",
       "    <tr>\n",
       "      <th>1</th>\n",
       "      <td>9</td>\n",
       "      <td>\"*May* not be healthy\" can't be stressed out e...</td>\n",
       "      <td>1.0</td>\n",
       "      <td>2016-02-07T10:51:22.563</td>\n",
       "    </tr>\n",
       "    <tr>\n",
       "      <th>2</th>\n",
       "      <td>12</td>\n",
       "      <td>I think I'm going to start turning on the vent...</td>\n",
       "      <td>0.0</td>\n",
       "      <td>2016-01-13T17:28:35.820</td>\n",
       "    </tr>\n",
       "    <tr>\n",
       "      <th>3</th>\n",
       "      <td>12</td>\n",
       "      <td>Great answer. In the molecular level there is ...</td>\n",
       "      <td>5.0</td>\n",
       "      <td>2016-02-07T10:42:09.990</td>\n",
       "    </tr>\n",
       "    <tr>\n",
       "      <th>4</th>\n",
       "      <td>15</td>\n",
       "      <td>Are these really health issues? Is \"you might ...</td>\n",
       "      <td>1.0</td>\n",
       "      <td>2016-01-14T06:56:34.723</td>\n",
       "    </tr>\n",
       "  </tbody>\n",
       "</table>\n",
       "</div>"
      ],
      "text/plain": [
       "   post_id                                      comments_text  comments_score  \\\n",
       "0        9  I'm not sure this applies worldwide: but in Ca...             0.0   \n",
       "1        9  \"*May* not be healthy\" can't be stressed out e...             1.0   \n",
       "2       12  I think I'm going to start turning on the vent...             0.0   \n",
       "3       12  Great answer. In the molecular level there is ...             5.0   \n",
       "4       15  Are these really health issues? Is \"you might ...             1.0   \n",
       "\n",
       "     comments_creationdate  \n",
       "0  2016-01-13T01:14:36.707  \n",
       "1  2016-02-07T10:51:22.563  \n",
       "2  2016-01-13T17:28:35.820  \n",
       "3  2016-02-07T10:42:09.990  \n",
       "4  2016-01-14T06:56:34.723  "
      ]
     },
     "execution_count": 26,
     "metadata": {},
     "output_type": "execute_result"
    }
   ],
   "source": [
    "comments.head()"
   ]
  },
  {
   "cell_type": "code",
   "execution_count": 27,
   "id": "ce2907f7",
   "metadata": {
    "ExecuteTime": {
     "end_time": "2023-08-02T17:33:37.373106Z",
     "start_time": "2023-08-02T17:33:37.350112Z"
    }
   },
   "outputs": [
    {
     "data": {
      "text/plain": [
       "post_id                  int64\n",
       "posttypeid               int64\n",
       "post_creationdate       object\n",
       "post_score               int64\n",
       "post_viewcount         float64\n",
       "post_body               object\n",
       "post_title              object\n",
       "post_tags               object\n",
       "post_body_accepted      object\n",
       "post_score_accepted    float64\n",
       "dtype: object"
      ]
     },
     "execution_count": 27,
     "metadata": {},
     "output_type": "execute_result"
    }
   ],
   "source": [
    "posts.dtypes"
   ]
  },
  {
   "cell_type": "code",
   "execution_count": 28,
   "id": "1bb190a4",
   "metadata": {
    "ExecuteTime": {
     "end_time": "2023-08-02T17:33:37.830622Z",
     "start_time": "2023-08-02T17:33:37.812615Z"
    }
   },
   "outputs": [
    {
     "data": {
      "text/plain": [
       "post_id                    int64\n",
       "comments_text             object\n",
       "comments_score           float64\n",
       "comments_creationdate     object\n",
       "dtype: object"
      ]
     },
     "execution_count": 28,
     "metadata": {},
     "output_type": "execute_result"
    }
   ],
   "source": [
    "comments.dtypes"
   ]
  },
  {
   "cell_type": "code",
   "execution_count": null,
   "id": "c4b9d6a6",
   "metadata": {
    "ExecuteTime": {
     "end_time": "2023-08-02T17:20:59.419457Z",
     "start_time": "2023-08-02T17:20:59.401457Z"
    }
   },
   "outputs": [],
   "source": [
    "#pip install openai\n",
    "from scipy.spatial.distance import cdist\n",
    "import openai\n",
    "import pandas as pd"
   ]
  },
  {
   "cell_type": "code",
   "execution_count": null,
   "id": "04873223",
   "metadata": {
    "ExecuteTime": {
     "end_time": "2023-08-02T17:21:02.417456Z",
     "start_time": "2023-08-02T17:21:02.403455Z"
    }
   },
   "outputs": [],
   "source": [
    "openai.api_key = \"\""
   ]
  },
  {
   "cell_type": "code",
   "execution_count": null,
   "id": "80071fd6",
   "metadata": {
    "ExecuteTime": {
     "end_time": "2023-08-02T17:21:05.782456Z",
     "start_time": "2023-08-02T17:21:05.478455Z"
    }
   },
   "outputs": [],
   "source": [
    "df = pd.read_csv(\"C:\\\\Users\\\\Dell\\\\OneDrive - Northeastern University\\\\courses\\\\big data and intl analytics\\\\DAMG7245-Summer2023\\\\final project\\\\posts_cleaned.csv\")"
   ]
  },
  {
   "cell_type": "code",
   "execution_count": null,
   "id": "7aff7d5f",
   "metadata": {
    "ExecuteTime": {
     "end_time": "2023-08-02T17:21:06.790459Z",
     "start_time": "2023-08-02T17:21:06.753457Z"
    }
   },
   "outputs": [],
   "source": [
    "df.head()"
   ]
  },
  {
   "cell_type": "code",
   "execution_count": null,
   "id": "69229745",
   "metadata": {
    "ExecuteTime": {
     "end_time": "2023-08-02T17:21:07.312460Z",
     "start_time": "2023-08-02T17:21:07.290457Z"
    }
   },
   "outputs": [],
   "source": [
    "df.dtypes"
   ]
  },
  {
   "cell_type": "code",
   "execution_count": null,
   "id": "75b59579",
   "metadata": {
    "ExecuteTime": {
     "end_time": "2023-08-02T17:21:09.310462Z",
     "start_time": "2023-08-02T17:21:09.286459Z"
    }
   },
   "outputs": [],
   "source": [
    "#openai embedding using text-embedding model\n",
    "def get_openai_embedding(text):\n",
    "    response = openai.Embedding.create(\n",
    "        input=text,\n",
    "        model=\"text-embedding-ada-002\"\n",
    "    )\n",
    "    return response['data'][0]['embedding']\n"
   ]
  },
  {
   "cell_type": "code",
   "execution_count": null,
   "id": "46f84adf",
   "metadata": {
    "ExecuteTime": {
     "end_time": "2023-08-02T17:21:32.854458Z",
     "start_time": "2023-08-02T17:21:32.830458Z"
    }
   },
   "outputs": [],
   "source": [
    "#funcction to combine the text needed to be embeded\n",
    "def get_combined_text(row):\n",
    "    title = row['post_title']\n",
    "    post_body = row['post_body']\n",
    "    comments = row['comments']\n",
    "    tags = row['tags']\n",
    "    combined_text = f\"{title} {post_body} {comments} {tags}\"\n",
    "    return combined_text\n"
   ]
  },
  {
   "cell_type": "code",
   "execution_count": null,
   "id": "b718392d",
   "metadata": {
    "ExecuteTime": {
     "start_time": "2023-08-02T17:21:39.220Z"
    }
   },
   "outputs": [],
   "source": [
    "#creating and appending the embedding to df\n",
    "df['openai_embeddings'] = df.apply(get_combined_text, axis=1).apply(get_openai_embedding)"
   ]
  },
  {
   "cell_type": "code",
   "execution_count": null,
   "id": "096bd803",
   "metadata": {
    "ExecuteTime": {
     "end_time": "2023-08-02T01:52:10.637300Z",
     "start_time": "2023-08-02T01:52:10.580306Z"
    }
   },
   "outputs": [],
   "source": [
    "df.head()"
   ]
  },
  {
   "cell_type": "code",
   "execution_count": null,
   "id": "57821e50",
   "metadata": {
    "ExecuteTime": {
     "end_time": "2023-08-02T01:32:32.592547Z",
     "start_time": "2023-08-02T01:32:32.535549Z"
    }
   },
   "outputs": [],
   "source": [
    "df.to_csv('demo2.csv', index=False)"
   ]
  },
  {
   "cell_type": "code",
   "execution_count": null,
   "id": "1a8da603",
   "metadata": {
    "ExecuteTime": {
     "end_time": "2023-08-02T01:53:08.724618Z",
     "start_time": "2023-08-02T01:53:08.703623Z"
    }
   },
   "outputs": [],
   "source": [
    "user_input=\"3d printer strength\""
   ]
  },
  {
   "cell_type": "code",
   "execution_count": null,
   "id": "57ec5196",
   "metadata": {
    "ExecuteTime": {
     "end_time": "2023-08-02T02:04:25.012974Z",
     "start_time": "2023-08-02T02:04:24.940968Z"
    }
   },
   "outputs": [],
   "source": [
    "#euclidian distance - similarity search\n",
    "def get_most_similar_title(user_input, df):\n",
    "    user_input_embedding = get_openai_embedding(user_input)\n",
    "    distances = cdist([user_input_embedding], df['openai_embeddings'].tolist(), metric='euclidean')\n",
    "    most_similar_index = distances.argmin()\n",
    "    most_similar_title = df.iloc[most_similar_index]['title']\n",
    "    return most_similar_title"
   ]
  },
  {
   "cell_type": "code",
   "execution_count": null,
   "id": "b53be7d9",
   "metadata": {
    "ExecuteTime": {
     "end_time": "2023-08-02T01:53:12.728617Z",
     "start_time": "2023-08-02T01:53:12.551624Z"
    }
   },
   "outputs": [],
   "source": [
    "most_similar_title = get_most_similar_title(user_input, df)\n",
    "print(f\"The most similar title is: {most_similar_title}\")"
   ]
  },
  {
   "cell_type": "code",
   "execution_count": null,
   "id": "0fdb8de9",
   "metadata": {},
   "outputs": [],
   "source": []
  }
 ],
 "metadata": {
  "kernelspec": {
   "display_name": "venv",
   "language": "python",
   "name": "venv"
  },
  "language_info": {
   "codemirror_mode": {
    "name": "ipython",
    "version": 3
   },
   "file_extension": ".py",
   "mimetype": "text/x-python",
   "name": "python",
   "nbconvert_exporter": "python",
   "pygments_lexer": "ipython3",
   "version": "3.10.5"
  }
 },
 "nbformat": 4,
 "nbformat_minor": 5
}
