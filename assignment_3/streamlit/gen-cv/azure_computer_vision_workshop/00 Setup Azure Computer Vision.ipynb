{
 "cells": [
  {
   "cell_type": "markdown",
   "id": "e4c5a36d",
   "metadata": {},
   "source": [
    "# Azure Computer Vision 4 (Florence)\n",
    "## Setup Azure Computer Vision\n",
    "![Image](florence.jpg)\n",
    "> Serge Retkowsky | Microsoft | https://github.com/retkowsky | 3rd of May, 2023"
   ]
  },
  {
   "cell_type": "markdown",
   "id": "686b984a",
   "metadata": {},
   "source": [
    "## 1 Azure Computer Vision 4 presentation\n",
    "\n",
    "\n",
    "### Presentation:\n",
    "Azure Computer Vision 4.pdf\n",
    "\n",
    "## 2 Azure Computer Vision service\n",
    "- An Azure subscription - Create one for free\n",
    "https://azure.microsoft.com/free/cognitive-services/\n",
    "\n",
    "- Once you have your Azure subscription, create a Computer Vision resource in the Azure portal. \n",
    "In order to use the captioning feature in this quickstart, you must create your resource in one of the following Azure regions: East US, France Central, Korea Central, North Europe, Southeast Asia, West Europe, West US. After it deploys, click Go to resource: https://portal.azure.com/#create/Microsoft.CognitiveServicesComputerVision\n",
    "\n",
    "You will need the key and endpoint from the resource you create to connect your application to the Computer Vision service.\n",
    "You can use the free pricing tier (F0) to try the service, and upgrade later to a paid tier for production.\n",
    "\n",
    "##  3 Declare your Azure Computer Vision endpoint and key\n",
    "Edit the **azure.env** file with your **Azure Computer Vision endpoint and key**"
   ]
  },
  {
   "cell_type": "code",
   "execution_count": 11,
   "id": "ed2f2464",
   "metadata": {},
   "outputs": [
    {
     "name": "stdout",
     "output_type": "stream",
     "text": [
      " Volume in drive C has no label.\n",
      " Volume Serial Number is 481B-396F\n",
      "\n",
      " Directory of c:\\Users\\Dell\\OneDrive - Northeastern University\\courses\\big data and intl analytics\\DAMG7245-Summer2023\\assignment_3\\gen-cv\\azure_computer_vision_workshop\n",
      "\n",
      "07-07-2023  11:24               398 azure.env\n",
      "               1 File(s)            398 bytes\n",
      "               0 Dir(s)  192,290,603,008 bytes free\n"
     ]
    }
   ],
   "source": [
    "!dir azure.env"
   ]
  },
  {
   "cell_type": "markdown",
   "id": "3eb9f9d1",
   "metadata": {},
   "source": [
    "## 4 Python libraries"
   ]
  },
  {
   "cell_type": "code",
   "execution_count": 12,
   "id": "4c0a16d2",
   "metadata": {
    "gather": {
     "logged": 1683118045155
    }
   },
   "outputs": [
    {
     "name": "stdout",
     "output_type": "stream",
     "text": [
      "Tested with Python 3.8.5\n",
      "\n",
      "You are using python: 3.10.5 (tags/v3.10.5:f377153, Jun  6 2022, 16:14:13) [MSC v.1929 64 bit (AMD64)]\n"
     ]
    }
   ],
   "source": [
    "import sys\n",
    "\n",
    "print(\"Tested with Python 3.8.5\\n\")\n",
    "print(\"You are using python:\", sys.version)"
   ]
  },
  {
   "cell_type": "code",
   "execution_count": 1,
   "id": "1d53ed5e",
   "metadata": {
    "gather": {
     "logged": 1683118053119
    }
   },
   "outputs": [
    {
     "name": "stdout",
     "output_type": "stream",
     "text": [
      "Requirement already satisfied: python-dotenv in c:\\users\\dell\\onedrive - northeastern university\\courses\\big data and intl analytics\\damg7245-summer2023\\assignment_3\\env_cv\\lib\\site-packages (1.0.0)\n",
      "Collecting opencv-python\n",
      "  Downloading opencv_python-4.8.0.74-cp37-abi3-win_amd64.whl (38.1 MB)\n",
      "     --------------------------------------- 38.1/38.1 MB 19.3 MB/s eta 0:00:00\n",
      "Collecting seaborn\n",
      "  Using cached seaborn-0.12.2-py3-none-any.whl (293 kB)\n",
      "Collecting gradio\n",
      "  Downloading gradio-3.36.0-py3-none-any.whl (19.8 MB)\n",
      "     --------------------------------------- 19.8/19.8 MB 18.2 MB/s eta 0:00:00\n",
      "Collecting cleanvision\n",
      "  Downloading cleanvision-0.3.0-py3-none-any.whl (53 kB)\n",
      "     ---------------------------------------- 53.6/53.6 KB 1.4 MB/s eta 0:00:00\n",
      "Collecting nomic\n",
      "  Downloading nomic-2.0.3.tar.gz (31 kB)\n",
      "  Preparing metadata (setup.py): started\n",
      "  Preparing metadata (setup.py): finished with status 'done'\n",
      "Collecting umap-learn\n",
      "  Downloading umap-learn-0.5.3.tar.gz (88 kB)\n",
      "     ---------------------------------------- 88.2/88.2 KB 4.9 MB/s eta 0:00:00\n",
      "  Preparing metadata (setup.py): started\n",
      "  Preparing metadata (setup.py): finished with status 'done'\n",
      "Collecting pprintjson\n",
      "  Downloading pprintjson-1.4.2-py3-none-any.whl (5.7 kB)\n",
      "Requirement already satisfied: numpy>=1.19.3 in c:\\users\\dell\\onedrive - northeastern university\\courses\\big data and intl analytics\\damg7245-summer2023\\assignment_3\\env_cv\\lib\\site-packages (from opencv-python) (1.25.0)\n",
      "Requirement already satisfied: matplotlib!=3.6.1,>=3.1 in c:\\users\\dell\\onedrive - northeastern university\\courses\\big data and intl analytics\\damg7245-summer2023\\assignment_3\\env_cv\\lib\\site-packages (from seaborn) (3.7.2)\n",
      "Requirement already satisfied: pandas>=0.25 in c:\\users\\dell\\onedrive - northeastern university\\courses\\big data and intl analytics\\damg7245-summer2023\\assignment_3\\env_cv\\lib\\site-packages (from seaborn) (2.0.3)\n",
      "Requirement already satisfied: pygments>=2.12.0 in c:\\users\\dell\\onedrive - northeastern university\\courses\\big data and intl analytics\\damg7245-summer2023\\assignment_3\\env_cv\\lib\\site-packages (from gradio) (2.15.1)\n",
      "Requirement already satisfied: jinja2 in c:\\users\\dell\\onedrive - northeastern university\\courses\\big data and intl analytics\\damg7245-summer2023\\assignment_3\\env_cv\\lib\\site-packages (from gradio) (3.1.2)\n",
      "Collecting python-multipart\n",
      "  Downloading python_multipart-0.0.6-py3-none-any.whl (45 kB)\n",
      "     ---------------------------------------- 45.7/45.7 KB 2.2 MB/s eta 0:00:00\n",
      "Collecting uvicorn>=0.14.0\n",
      "  Using cached uvicorn-0.22.0-py3-none-any.whl (58 kB)\n",
      "Requirement already satisfied: huggingface-hub>=0.14.0 in c:\\users\\dell\\onedrive - northeastern university\\courses\\big data and intl analytics\\damg7245-summer2023\\assignment_3\\env_cv\\lib\\site-packages (from gradio) (0.16.4)\n",
      "Requirement already satisfied: pillow in c:\\users\\dell\\onedrive - northeastern university\\courses\\big data and intl analytics\\damg7245-summer2023\\assignment_3\\env_cv\\lib\\site-packages (from gradio) (10.0.0)\n",
      "Collecting httpx\n",
      "  Using cached httpx-0.24.1-py3-none-any.whl (75 kB)\n",
      "Collecting websockets>=10.0\n",
      "  Downloading websockets-11.0.3-cp310-cp310-win_amd64.whl (124 kB)\n",
      "     -------------------------------------- 124.7/124.7 KB 7.6 MB/s eta 0:00:00\n",
      "Collecting fastapi\n",
      "  Downloading fastapi-0.100.0-py3-none-any.whl (65 kB)\n",
      "     ---------------------------------------- 65.7/65.7 KB 3.5 MB/s eta 0:00:00\n",
      "Collecting altair>=4.2.0\n",
      "  Downloading altair-5.0.1-py3-none-any.whl (471 kB)\n",
      "     ------------------------------------- 471.5/471.5 KB 14.4 MB/s eta 0:00:00\n",
      "Collecting mdit-py-plugins<=0.3.3\n",
      "  Downloading mdit_py_plugins-0.3.3-py3-none-any.whl (50 kB)\n",
      "     ---------------------------------------- 50.5/50.5 KB 2.7 MB/s eta 0:00:00\n",
      "Requirement already satisfied: aiohttp in c:\\users\\dell\\onedrive - northeastern university\\courses\\big data and intl analytics\\damg7245-summer2023\\assignment_3\\env_cv\\lib\\site-packages (from gradio) (3.8.4)\n",
      "Collecting orjson\n",
      "  Downloading orjson-3.9.2-cp310-none-win_amd64.whl (195 kB)\n",
      "     -------------------------------------- 195.7/195.7 KB 5.8 MB/s eta 0:00:00\n",
      "Collecting pydantic\n",
      "  Using cached pydantic-2.0.2-py3-none-any.whl (359 kB)\n",
      "Requirement already satisfied: markupsafe in c:\\users\\dell\\onedrive - northeastern university\\courses\\big data and intl analytics\\damg7245-summer2023\\assignment_3\\env_cv\\lib\\site-packages (from gradio) (2.1.3)\n",
      "Collecting gradio-client>=0.2.7\n",
      "  Downloading gradio_client-0.2.7-py3-none-any.whl (288 kB)\n",
      "     -------------------------------------- 288.4/288.4 KB 9.0 MB/s eta 0:00:00\n",
      "Requirement already satisfied: requests in c:\\users\\dell\\onedrive - northeastern university\\courses\\big data and intl analytics\\damg7245-summer2023\\assignment_3\\env_cv\\lib\\site-packages (from gradio) (2.31.0)\n",
      "Collecting aiofiles\n",
      "  Downloading aiofiles-23.1.0-py3-none-any.whl (14 kB)\n",
      "Requirement already satisfied: pyyaml in c:\\users\\dell\\onedrive - northeastern university\\courses\\big data and intl analytics\\damg7245-summer2023\\assignment_3\\env_cv\\lib\\site-packages (from gradio) (6.0)\n",
      "Collecting markdown-it-py[linkify]>=2.0.0\n",
      "  Using cached markdown_it_py-3.0.0-py3-none-any.whl (87 kB)\n",
      "Collecting ffmpy\n",
      "  Downloading ffmpy-0.3.0.tar.gz (4.8 kB)\n",
      "  Preparing metadata (setup.py): started\n",
      "  Preparing metadata (setup.py): finished with status 'done'\n",
      "Collecting semantic-version\n",
      "  Downloading semantic_version-2.10.0-py2.py3-none-any.whl (15 kB)\n",
      "Collecting pydub\n",
      "  Downloading pydub-0.25.1-py2.py3-none-any.whl (32 kB)\n",
      "Requirement already satisfied: tqdm>=4.53.0 in c:\\users\\dell\\onedrive - northeastern university\\courses\\big data and intl analytics\\damg7245-summer2023\\assignment_3\\env_cv\\lib\\site-packages (from cleanvision) (4.65.0)\n",
      "Requirement already satisfied: tabulate>=0.8.3 in c:\\users\\dell\\onedrive - northeastern university\\courses\\big data and intl analytics\\damg7245-summer2023\\assignment_3\\env_cv\\lib\\site-packages (from cleanvision) (0.9.0)\n",
      "Collecting imagehash>=4.2.0\n",
      "  Using cached ImageHash-4.3.1-py2.py3-none-any.whl (296 kB)\n",
      "Requirement already satisfied: click in c:\\users\\dell\\onedrive - northeastern university\\courses\\big data and intl analytics\\damg7245-summer2023\\assignment_3\\env_cv\\lib\\site-packages (from nomic) (8.1.4)\n",
      "Collecting jsonlines\n",
      "  Downloading jsonlines-3.1.0-py3-none-any.whl (8.6 kB)\n",
      "Collecting loguru\n",
      "  Using cached loguru-0.7.0-py3-none-any.whl (59 kB)\n",
      "Collecting rich\n",
      "  Using cached rich-13.4.2-py3-none-any.whl (239 kB)\n",
      "Collecting wonderwords\n",
      "  Downloading wonderwords-2.2.0-py3-none-any.whl (44 kB)\n",
      "     ---------------------------------------- 45.0/45.0 KB 1.1 MB/s eta 0:00:00\n",
      "Collecting cohere\n",
      "  Downloading cohere-4.11.2-py3-none-any.whl (39 kB)\n",
      "Requirement already satisfied: pyarrow in c:\\users\\dell\\onedrive - northeastern university\\courses\\big data and intl analytics\\damg7245-summer2023\\assignment_3\\env_cv\\lib\\site-packages (from nomic) (12.0.1)\n",
      "Requirement already satisfied: scikit-learn>=0.22 in c:\\users\\dell\\onedrive - northeastern university\\courses\\big data and intl analytics\\damg7245-summer2023\\assignment_3\\env_cv\\lib\\site-packages (from umap-learn) (1.3.0)\n",
      "Requirement already satisfied: scipy>=1.0 in c:\\users\\dell\\onedrive - northeastern university\\courses\\big data and intl analytics\\damg7245-summer2023\\assignment_3\\env_cv\\lib\\site-packages (from umap-learn) (1.11.1)\n",
      "Collecting numba>=0.49\n",
      "  Downloading numba-0.57.1-cp310-cp310-win_amd64.whl (2.5 MB)\n",
      "     ---------------------------------------- 2.5/2.5 MB 23.2 MB/s eta 0:00:00\n",
      "Collecting pynndescent>=0.5\n",
      "  Downloading pynndescent-0.5.10.tar.gz (1.1 MB)\n",
      "     ---------------------------------------- 1.1/1.1 MB 17.9 MB/s eta 0:00:00\n",
      "  Preparing metadata (setup.py): started\n",
      "  Preparing metadata (setup.py): finished with status 'done'\n",
      "Requirement already satisfied: jsonschema>=3.0 in c:\\users\\dell\\onedrive - northeastern university\\courses\\big data and intl analytics\\damg7245-summer2023\\assignment_3\\env_cv\\lib\\site-packages (from altair>=4.2.0->gradio) (4.18.0)\n",
      "Requirement already satisfied: typing-extensions>=4.0.1 in c:\\users\\dell\\onedrive - northeastern university\\courses\\big data and intl analytics\\damg7245-summer2023\\assignment_3\\env_cv\\lib\\site-packages (from altair>=4.2.0->gradio) (4.7.1)\n",
      "Collecting toolz\n",
      "  Using cached toolz-0.12.0-py3-none-any.whl (55 kB)\n",
      "Requirement already satisfied: packaging in c:\\users\\dell\\onedrive - northeastern university\\courses\\big data and intl analytics\\damg7245-summer2023\\assignment_3\\env_cv\\lib\\site-packages (from gradio-client>=0.2.7->gradio) (23.1)\n",
      "Requirement already satisfied: fsspec in c:\\users\\dell\\onedrive - northeastern university\\courses\\big data and intl analytics\\damg7245-summer2023\\assignment_3\\env_cv\\lib\\site-packages (from gradio-client>=0.2.7->gradio) (2023.6.0)\n",
      "Requirement already satisfied: filelock in c:\\users\\dell\\onedrive - northeastern university\\courses\\big data and intl analytics\\damg7245-summer2023\\assignment_3\\env_cv\\lib\\site-packages (from huggingface-hub>=0.14.0->gradio) (3.12.2)\n",
      "Collecting PyWavelets\n",
      "  Using cached PyWavelets-1.4.1-cp310-cp310-win_amd64.whl (4.2 MB)\n",
      "Collecting mdurl~=0.1\n",
      "  Using cached mdurl-0.1.2-py3-none-any.whl (10.0 kB)\n",
      "Collecting linkify-it-py<3,>=1\n",
      "  Using cached linkify_it_py-2.0.2-py3-none-any.whl (19 kB)\n",
      "Requirement already satisfied: fonttools>=4.22.0 in c:\\users\\dell\\onedrive - northeastern university\\courses\\big data and intl analytics\\damg7245-summer2023\\assignment_3\\env_cv\\lib\\site-packages (from matplotlib!=3.6.1,>=3.1->seaborn) (4.40.0)\n",
      "Requirement already satisfied: contourpy>=1.0.1 in c:\\users\\dell\\onedrive - northeastern university\\courses\\big data and intl analytics\\damg7245-summer2023\\assignment_3\\env_cv\\lib\\site-packages (from matplotlib!=3.6.1,>=3.1->seaborn) (1.1.0)\n",
      "Requirement already satisfied: pyparsing<3.1,>=2.3.1 in c:\\users\\dell\\onedrive - northeastern university\\courses\\big data and intl analytics\\damg7245-summer2023\\assignment_3\\env_cv\\lib\\site-packages (from matplotlib!=3.6.1,>=3.1->seaborn) (3.0.9)\n",
      "Requirement already satisfied: kiwisolver>=1.0.1 in c:\\users\\dell\\onedrive - northeastern university\\courses\\big data and intl analytics\\damg7245-summer2023\\assignment_3\\env_cv\\lib\\site-packages (from matplotlib!=3.6.1,>=3.1->seaborn) (1.4.4)\n",
      "Requirement already satisfied: python-dateutil>=2.7 in c:\\users\\dell\\onedrive - northeastern university\\courses\\big data and intl analytics\\damg7245-summer2023\\assignment_3\\env_cv\\lib\\site-packages (from matplotlib!=3.6.1,>=3.1->seaborn) (2.8.2)\n",
      "Requirement already satisfied: cycler>=0.10 in c:\\users\\dell\\onedrive - northeastern university\\courses\\big data and intl analytics\\damg7245-summer2023\\assignment_3\\env_cv\\lib\\site-packages (from matplotlib!=3.6.1,>=3.1->seaborn) (0.11.0)\n",
      "Collecting mdit-py-plugins<=0.3.3\n",
      "  Downloading mdit_py_plugins-0.3.2-py3-none-any.whl (50 kB)\n",
      "     ---------------------------------------- 50.4/50.4 KB 2.7 MB/s eta 0:00:00\n",
      "  Downloading mdit_py_plugins-0.3.1-py3-none-any.whl (46 kB)\n",
      "     ---------------------------------------- 46.5/46.5 KB 2.3 MB/s eta 0:00:00\n",
      "  Downloading mdit_py_plugins-0.3.0-py3-none-any.whl (43 kB)\n",
      "     ---------------------------------------- 43.7/43.7 KB 2.1 MB/s eta 0:00:00\n",
      "  Downloading mdit_py_plugins-0.2.8-py3-none-any.whl (41 kB)\n",
      "     -------------------------------------- 41.0/41.0 KB 992.5 kB/s eta 0:00:00\n",
      "  Downloading mdit_py_plugins-0.2.7-py3-none-any.whl (41 kB)\n",
      "     ---------------------------------------- 41.0/41.0 KB 1.9 MB/s eta 0:00:00\n",
      "  Downloading mdit_py_plugins-0.2.6-py3-none-any.whl (39 kB)\n",
      "  Downloading mdit_py_plugins-0.2.5-py3-none-any.whl (39 kB)\n",
      "  Downloading mdit_py_plugins-0.2.4-py3-none-any.whl (39 kB)\n",
      "  Downloading mdit_py_plugins-0.2.3-py3-none-any.whl (39 kB)\n",
      "  Downloading mdit_py_plugins-0.2.2-py3-none-any.whl (39 kB)\n",
      "  Downloading mdit_py_plugins-0.2.1-py3-none-any.whl (38 kB)\n",
      "  Downloading mdit_py_plugins-0.2.0-py3-none-any.whl (38 kB)\n",
      "  Downloading mdit_py_plugins-0.1.0-py3-none-any.whl (37 kB)\n",
      "INFO: pip is looking at multiple versions of matplotlib to determine which version is compatible with other requirements. This could take a while.\n",
      "Collecting matplotlib!=3.6.1,>=3.1\n",
      "  Using cached matplotlib-3.7.2-cp310-cp310-win_amd64.whl (7.5 MB)\n",
      "INFO: pip is looking at multiple versions of markdown-it-py[linkify] to determine which version is compatible with other requirements. This could take a while.\n",
      "Collecting markdown-it-py[linkify]>=2.0.0\n",
      "  Using cached markdown_it_py-2.2.0-py3-none-any.whl (84 kB)\n",
      "Collecting llvmlite<0.41,>=0.40.0dev0\n",
      "  Downloading llvmlite-0.40.1-cp310-cp310-win_amd64.whl (27.7 MB)\n",
      "     --------------------------------------- 27.7/27.7 MB 19.8 MB/s eta 0:00:00\n",
      "Collecting numpy>=1.19.3\n",
      "  Downloading numpy-1.24.4-cp310-cp310-win_amd64.whl (14.8 MB)\n",
      "     --------------------------------------- 14.8/14.8 MB 27.3 MB/s eta 0:00:00\n",
      "Requirement already satisfied: pytz>=2020.1 in c:\\users\\dell\\onedrive - northeastern university\\courses\\big data and intl analytics\\damg7245-summer2023\\assignment_3\\env_cv\\lib\\site-packages (from pandas>=0.25->seaborn) (2023.3)\n",
      "Requirement already satisfied: tzdata>=2022.1 in c:\\users\\dell\\onedrive - northeastern university\\courses\\big data and intl analytics\\damg7245-summer2023\\assignment_3\\env_cv\\lib\\site-packages (from pandas>=0.25->seaborn) (2023.3)\n",
      "Requirement already satisfied: joblib>=0.11 in c:\\users\\dell\\onedrive - northeastern university\\courses\\big data and intl analytics\\damg7245-summer2023\\assignment_3\\env_cv\\lib\\site-packages (from pynndescent>=0.5->umap-learn) (1.3.1)\n",
      "Requirement already satisfied: threadpoolctl>=2.0.0 in c:\\users\\dell\\onedrive - northeastern university\\courses\\big data and intl analytics\\damg7245-summer2023\\assignment_3\\env_cv\\lib\\site-packages (from scikit-learn>=0.22->umap-learn) (3.1.0)\n",
      "Requirement already satisfied: colorama in c:\\users\\dell\\onedrive - northeastern university\\courses\\big data and intl analytics\\damg7245-summer2023\\assignment_3\\env_cv\\lib\\site-packages (from tqdm>=4.53.0->cleanvision) (0.4.6)\n",
      "Collecting h11>=0.8\n",
      "  Using cached h11-0.14.0-py3-none-any.whl (58 kB)\n",
      "Requirement already satisfied: aiosignal>=1.1.2 in c:\\users\\dell\\onedrive - northeastern university\\courses\\big data and intl analytics\\damg7245-summer2023\\assignment_3\\env_cv\\lib\\site-packages (from aiohttp->gradio) (1.3.1)\n",
      "Requirement already satisfied: yarl<2.0,>=1.0 in c:\\users\\dell\\onedrive - northeastern university\\courses\\big data and intl analytics\\damg7245-summer2023\\assignment_3\\env_cv\\lib\\site-packages (from aiohttp->gradio) (1.9.2)\n",
      "Requirement already satisfied: multidict<7.0,>=4.5 in c:\\users\\dell\\onedrive - northeastern university\\courses\\big data and intl analytics\\damg7245-summer2023\\assignment_3\\env_cv\\lib\\site-packages (from aiohttp->gradio) (6.0.4)\n",
      "Requirement already satisfied: charset-normalizer<4.0,>=2.0 in c:\\users\\dell\\onedrive - northeastern university\\courses\\big data and intl analytics\\damg7245-summer2023\\assignment_3\\env_cv\\lib\\site-packages (from aiohttp->gradio) (3.1.0)\n",
      "Requirement already satisfied: frozenlist>=1.1.1 in c:\\users\\dell\\onedrive - northeastern university\\courses\\big data and intl analytics\\damg7245-summer2023\\assignment_3\\env_cv\\lib\\site-packages (from aiohttp->gradio) (1.3.3)\n",
      "Requirement already satisfied: async-timeout<5.0,>=4.0.0a3 in c:\\users\\dell\\onedrive - northeastern university\\courses\\big data and intl analytics\\damg7245-summer2023\\assignment_3\\env_cv\\lib\\site-packages (from aiohttp->gradio) (4.0.2)\n",
      "Requirement already satisfied: attrs>=17.3.0 in c:\\users\\dell\\onedrive - northeastern university\\courses\\big data and intl analytics\\damg7245-summer2023\\assignment_3\\env_cv\\lib\\site-packages (from aiohttp->gradio) (23.1.0)\n",
      "Requirement already satisfied: importlib_metadata<7.0,>=6.0 in c:\\users\\dell\\onedrive - northeastern university\\courses\\big data and intl analytics\\damg7245-summer2023\\assignment_3\\env_cv\\lib\\site-packages (from cohere->nomic) (6.8.0)\n",
      "Collecting backoff<3.0,>=2.0\n",
      "  Downloading backoff-2.2.1-py3-none-any.whl (15 kB)\n",
      "Requirement already satisfied: idna<4,>=2.5 in c:\\users\\dell\\onedrive - northeastern university\\courses\\big data and intl analytics\\damg7245-summer2023\\assignment_3\\env_cv\\lib\\site-packages (from requests->gradio) (3.4)\n",
      "Requirement already satisfied: urllib3<3,>=1.21.1 in c:\\users\\dell\\onedrive - northeastern university\\courses\\big data and intl analytics\\damg7245-summer2023\\assignment_3\\env_cv\\lib\\site-packages (from requests->gradio) (1.26.16)\n",
      "Requirement already satisfied: certifi>=2017.4.17 in c:\\users\\dell\\onedrive - northeastern university\\courses\\big data and intl analytics\\damg7245-summer2023\\assignment_3\\env_cv\\lib\\site-packages (from requests->gradio) (2023.5.7)\n",
      "Collecting starlette<0.28.0,>=0.27.0\n",
      "  Using cached starlette-0.27.0-py3-none-any.whl (66 kB)\n",
      "Collecting pydantic-core==2.1.2\n",
      "  Downloading pydantic_core-2.1.2-cp310-none-win_amd64.whl (1.5 MB)\n",
      "     ---------------------------------------- 1.5/1.5 MB 24.2 MB/s eta 0:00:00\n",
      "Collecting annotated-types>=0.4.0\n",
      "  Downloading annotated_types-0.5.0-py3-none-any.whl (11 kB)\n",
      "Collecting sniffio\n",
      "  Using cached sniffio-1.3.0-py3-none-any.whl (10 kB)\n",
      "Collecting httpcore<0.18.0,>=0.15.0\n",
      "  Using cached httpcore-0.17.3-py3-none-any.whl (74 kB)\n",
      "Collecting win32-setctime>=1.0.0\n",
      "  Using cached win32_setctime-1.1.0-py3-none-any.whl (3.6 kB)\n",
      "Collecting anyio<5.0,>=3.0\n",
      "  Using cached anyio-3.7.1-py3-none-any.whl (80 kB)\n",
      "Requirement already satisfied: zipp>=0.5 in c:\\users\\dell\\onedrive - northeastern university\\courses\\big data and intl analytics\\damg7245-summer2023\\assignment_3\\env_cv\\lib\\site-packages (from importlib_metadata<7.0,>=6.0->cohere->nomic) (3.15.0)\n",
      "Requirement already satisfied: jsonschema-specifications>=2023.03.6 in c:\\users\\dell\\onedrive - northeastern university\\courses\\big data and intl analytics\\damg7245-summer2023\\assignment_3\\env_cv\\lib\\site-packages (from jsonschema>=3.0->altair>=4.2.0->gradio) (2023.6.1)\n",
      "Requirement already satisfied: rpds-py>=0.7.1 in c:\\users\\dell\\onedrive - northeastern university\\courses\\big data and intl analytics\\damg7245-summer2023\\assignment_3\\env_cv\\lib\\site-packages (from jsonschema>=3.0->altair>=4.2.0->gradio) (0.8.8)\n",
      "Requirement already satisfied: referencing>=0.28.4 in c:\\users\\dell\\onedrive - northeastern university\\courses\\big data and intl analytics\\damg7245-summer2023\\assignment_3\\env_cv\\lib\\site-packages (from jsonschema>=3.0->altair>=4.2.0->gradio) (0.29.1)\n",
      "Collecting uc-micro-py\n",
      "  Using cached uc_micro_py-1.0.2-py3-none-any.whl (6.2 kB)\n",
      "Requirement already satisfied: six>=1.5 in c:\\users\\dell\\onedrive - northeastern university\\courses\\big data and intl analytics\\damg7245-summer2023\\assignment_3\\env_cv\\lib\\site-packages (from python-dateutil>=2.7->matplotlib!=3.6.1,>=3.1->seaborn) (1.16.0)\n",
      "Collecting exceptiongroup\n",
      "  Using cached exceptiongroup-1.1.2-py3-none-any.whl (14 kB)\n",
      "Using legacy 'setup.py install' for nomic, since package 'wheel' is not installed.\n",
      "Using legacy 'setup.py install' for umap-learn, since package 'wheel' is not installed.\n",
      "Using legacy 'setup.py install' for pynndescent, since package 'wheel' is not installed.\n",
      "Using legacy 'setup.py install' for ffmpy, since package 'wheel' is not installed.\n",
      "Installing collected packages: pydub, ffmpy, wonderwords, win32-setctime, websockets, uc-micro-py, toolz, sniffio, semantic-version, python-multipart, pydantic-core, pprintjson, orjson, numpy, mdurl, llvmlite, jsonlines, h11, exceptiongroup, backoff, annotated-types, aiofiles, uvicorn, PyWavelets, pydantic, opencv-python, numba, markdown-it-py, loguru, linkify-it-py, anyio, starlette, rich, mdit-py-plugins, imagehash, httpcore, cohere, seaborn, pynndescent, nomic, httpx, fastapi, cleanvision, altair, umap-learn, gradio-client, gradio\n",
      "  Running setup.py install for ffmpy: started\n",
      "  Running setup.py install for ffmpy: finished with status 'done'\n",
      "  Attempting uninstall: numpy\n",
      "    Found existing installation: numpy 1.25.0\n",
      "    Uninstalling numpy-1.25.0:\n",
      "      Successfully uninstalled numpy-1.25.0\n",
      "  Running setup.py install for pynndescent: started\n",
      "  Running setup.py install for pynndescent: finished with status 'done'\n",
      "  Running setup.py install for nomic: started\n",
      "  Running setup.py install for nomic: finished with status 'done'\n",
      "  Running setup.py install for umap-learn: started\n",
      "  Running setup.py install for umap-learn: finished with status 'done'\n",
      "Successfully installed PyWavelets-1.4.1 aiofiles-23.1.0 altair-5.0.1 annotated-types-0.5.0 anyio-3.7.1 backoff-2.2.1 cleanvision-0.3.0 cohere-4.11.2 exceptiongroup-1.1.2 fastapi-0.100.0 ffmpy-0.3.0 gradio-3.36.0 gradio-client-0.2.7 h11-0.14.0 httpcore-0.17.3 httpx-0.24.1 imagehash-4.3.1 jsonlines-3.1.0 linkify-it-py-2.0.2 llvmlite-0.40.1 loguru-0.7.0 markdown-it-py-2.2.0 mdit-py-plugins-0.3.3 mdurl-0.1.2 nomic-2.0.3 numba-0.57.1 numpy-1.24.4 opencv-python-4.8.0.74 orjson-3.9.2 pprintjson-1.4.2 pydantic-2.0.2 pydantic-core-2.1.2 pydub-0.25.1 pynndescent-0.5.10 python-multipart-0.0.6 rich-13.4.2 seaborn-0.12.2 semantic-version-2.10.0 sniffio-1.3.0 starlette-0.27.0 toolz-0.12.0 uc-micro-py-1.0.2 umap-learn-0.5.3 uvicorn-0.22.0 websockets-11.0.3 win32-setctime-1.1.0 wonderwords-2.2.0\n",
      "Note: you may need to restart the kernel to use updated packages.\n"
     ]
    },
    {
     "name": "stderr",
     "output_type": "stream",
     "text": [
      "WARNING: You are using pip version 22.0.4; however, version 23.1.2 is available.\n",
      "You should consider upgrading via the 'c:\\Users\\Dell\\OneDrive - Northeastern University\\courses\\big data and intl analytics\\DAMG7245-Summer2023\\assignment_3\\env_cv\\Scripts\\python.exe -m pip install --upgrade pip' command.\n"
     ]
    }
   ],
   "source": [
    "%pip install python-dotenv opencv-python seaborn gradio cleanvision nomic umap-learn pprintjson"
   ]
  },
  {
   "cell_type": "code",
   "execution_count": 13,
   "id": "e2df2295",
   "metadata": {},
   "outputs": [
    {
     "name": "stdout",
     "output_type": "stream",
     "text": [
      "Name: python-dotenv\n",
      "Version: 1.0.0\n",
      "Summary: Read key-value pairs from a .env file and set them as environment variables\n",
      "Home-page: https://github.com/theskumar/python-dotenv\n",
      "Author: Saurabh Kumar\n",
      "Author-email: me+github@saurabh-kumar.com\n",
      "License: BSD-3-Clause\n",
      "Location: c:\\users\\dell\\onedrive - northeastern university\\courses\\big data and intl analytics\\damg7245-summer2023\\assignment_3\\env_cv\\lib\\site-packages\n",
      "Requires: \n",
      "Required-by: \n",
      "Note: you may need to restart the kernel to use updated packages.\n"
     ]
    }
   ],
   "source": [
    "%pip show python-dotenv"
   ]
  },
  {
   "cell_type": "code",
   "execution_count": 14,
   "id": "16e8af71",
   "metadata": {},
   "outputs": [
    {
     "name": "stdout",
     "output_type": "stream",
     "text": [
      "Note: you may need to restart the kernel to use updated packages.\n"
     ]
    },
    {
     "name": "stderr",
     "output_type": "stream",
     "text": [
      "WARNING: Package(s) not found: opencv-python\n"
     ]
    }
   ],
   "source": [
    "%pip show opencv-python"
   ]
  },
  {
   "cell_type": "code",
   "execution_count": 15,
   "id": "6a10144e",
   "metadata": {},
   "outputs": [
    {
     "name": "stdout",
     "output_type": "stream",
     "text": [
      "Note: you may need to restart the kernel to use updated packages.\n"
     ]
    },
    {
     "name": "stderr",
     "output_type": "stream",
     "text": [
      "WARNING: Package(s) not found: seaborn\n"
     ]
    }
   ],
   "source": [
    "%pip show seaborn"
   ]
  },
  {
   "cell_type": "code",
   "execution_count": 16,
   "id": "60a7ffc5",
   "metadata": {},
   "outputs": [
    {
     "name": "stdout",
     "output_type": "stream",
     "text": [
      "Note: you may need to restart the kernel to use updated packages.\n"
     ]
    },
    {
     "name": "stderr",
     "output_type": "stream",
     "text": [
      "WARNING: Package(s) not found: gradio\n"
     ]
    }
   ],
   "source": [
    "%pip show gradio"
   ]
  },
  {
   "cell_type": "code",
   "execution_count": 17,
   "id": "3c8317a3",
   "metadata": {},
   "outputs": [
    {
     "name": "stdout",
     "output_type": "stream",
     "text": [
      "Note: you may need to restart the kernel to use updated packages.\n"
     ]
    },
    {
     "name": "stderr",
     "output_type": "stream",
     "text": [
      "WARNING: Package(s) not found: cleanvision\n"
     ]
    }
   ],
   "source": [
    "%pip show cleanvision"
   ]
  },
  {
   "cell_type": "code",
   "execution_count": 18,
   "id": "70c0e1b0",
   "metadata": {},
   "outputs": [
    {
     "name": "stdout",
     "output_type": "stream",
     "text": [
      "Note: you may need to restart the kernel to use updated packages.\n"
     ]
    },
    {
     "name": "stderr",
     "output_type": "stream",
     "text": [
      "WARNING: Package(s) not found: nomic\n"
     ]
    }
   ],
   "source": [
    "%pip show nomic"
   ]
  },
  {
   "cell_type": "code",
   "execution_count": 19,
   "id": "17a5ee78",
   "metadata": {},
   "outputs": [
    {
     "name": "stdout",
     "output_type": "stream",
     "text": [
      "Note: you may need to restart the kernel to use updated packages.\n"
     ]
    },
    {
     "name": "stderr",
     "output_type": "stream",
     "text": [
      "WARNING: Package(s) not found: umap-learn\n"
     ]
    }
   ],
   "source": [
    "%pip show umap-learn"
   ]
  },
  {
   "cell_type": "code",
   "execution_count": 20,
   "id": "f45d86c1",
   "metadata": {},
   "outputs": [
    {
     "name": "stdout",
     "output_type": "stream",
     "text": [
      "Note: you may need to restart the kernel to use updated packages.\n"
     ]
    },
    {
     "name": "stderr",
     "output_type": "stream",
     "text": [
      "WARNING: Package(s) not found: pprintjson\n"
     ]
    }
   ],
   "source": [
    "%pip show pprintjson"
   ]
  },
  {
   "cell_type": "markdown",
   "id": "f3b027d8",
   "metadata": {},
   "source": [
    "## 5 Azure Vision Studio\n",
    "\n",
    "### Studio: \n",
    "https://portal.vision.cognitive.azure.com\n",
    "\n",
    "![Azure CV](vision-studio-home-page.png)\n",
    "\n",
    "https://learn.microsoft.com/en-us/azure/cognitive-services/computer-vision/overview-vision-studio\n",
    "\n",
    "## 6 Documentation\n",
    "- https://learn.microsoft.com/en-us/azure/cognitive-services/computer-vision\n",
    "- https://learn.microsoft.com/en-us/azure/cognitive-services/computer-vision/overview\n",
    "\n",
    "## 7 What's new\n",
    "https://learn.microsoft.com/en-us/azure/cognitive-services/computer-vision/whats-new\n",
    "\n",
    "## 8 Pricing\n",
    "https://azure.microsoft.com/en-us/pricing/details/cognitive-services/computer-vision\n",
    "\n",
    "## 9 Project Florence\n",
    "- https://www.microsoft.com/en-us/research/project/projectflorence\n",
    "- https://arxiv.org/abs/2111.11432"
   ]
  }
 ],
 "metadata": {
  "kernel_info": {
   "name": "python38-jupyter"
  },
  "kernelspec": {
   "display_name": "env_cv",
   "language": "python",
   "name": "python3"
  },
  "language_info": {
   "codemirror_mode": {
    "name": "ipython",
    "version": 3
   },
   "file_extension": ".py",
   "mimetype": "text/x-python",
   "name": "python",
   "nbconvert_exporter": "python",
   "pygments_lexer": "ipython3",
   "version": "3.10.5"
  },
  "microsoft": {
   "ms_spell_check": {
    "ms_spell_check_language": "en"
   }
  },
  "nteract": {
   "version": "nteract-front-end@1.0.0"
  }
 },
 "nbformat": 4,
 "nbformat_minor": 5
}
